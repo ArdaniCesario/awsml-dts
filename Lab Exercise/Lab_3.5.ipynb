{
 "cells": [
  {
   "cell_type": "markdown",
   "id": "17164874",
   "metadata": {},
   "source": [
    "# Lab 3.5 Machine Learning Pipeline"
   ]
  },
  {
   "cell_type": "markdown",
   "id": "f465ae64",
   "metadata": {},
   "source": [
    "created by ACZ 202402"
   ]
  },
  {
   "cell_type": "code",
   "execution_count": 6,
   "id": "71c3694e",
   "metadata": {},
   "outputs": [],
   "source": [
    "bucket='c109190a2572288l5884042t1w891377298075-labbucket-aybmua9kvngb'"
   ]
  },
  {
   "cell_type": "code",
   "execution_count": 7,
   "id": "54c7dbe4",
   "metadata": {},
   "outputs": [],
   "source": [
    "import warnings, requests, zipfile, io\n",
    "warnings.simplefilter('ignore')\n",
    "import pandas as pd\n",
    "from scipy.io import arff\n",
    "\n",
    "import os\n",
    "import boto3\n",
    "import sagemaker\n",
    "from sagemaker.image_uris import retrieve\n",
    "from sklearn.model_selection import train_test_split"
   ]
  },
  {
   "cell_type": "markdown",
   "id": "274ffcc8",
   "metadata": {},
   "source": [
    "import appropriate modules"
   ]
  },
  {
   "cell_type": "code",
   "execution_count": 8,
   "id": "ed2da004",
   "metadata": {},
   "outputs": [
    {
     "name": "stderr",
     "output_type": "stream",
     "text": [
      "INFO:botocore.credentials:Found credentials from IAM Role: BaseNotebookInstanceEc2InstanceRole\n",
      "INFO:sagemaker.image_uris:Defaulting to only available Python version: py3\n",
      "INFO:sagemaker.image_uris:Defaulting to only supported image scope: cpu.\n",
      "INFO:sagemaker:Creating training-job with name: sagemaker-xgboost-2024-02-20-02-18-53-211\n"
     ]
    },
    {
     "name": "stdout",
     "output_type": "stream",
     "text": [
      "\n",
      "2024-02-20 02:18:53 Starting - Starting the training job.\n",
      "2024-02-20 02:19:07 Starting - Preparing the instances for training...............\n",
      "2024-02-20 02:20:28 Downloading - Downloading input data........\n",
      "2024-02-20 02:21:13 Downloading - Downloading the training image.......\n",
      "2024-02-20 02:21:54 Training - Training image download completed. Training in progress....\n",
      "2024-02-20 02:22:14 Uploading - Uploading generated training model..\n",
      "2024-02-20 02:22:30 Completed - Training job completed\n",
      "ready for hosting!\n"
     ]
    }
   ],
   "source": [
    "f_zip = 'http://archive.ics.uci.edu/ml/machine-learning-databases/00212/vertebral_column_data.zip'\n",
    "r = requests.get(f_zip, stream=True)\n",
    "Vertebral_zip = zipfile.ZipFile(io.BytesIO(r.content))\n",
    "Vertebral_zip.extractall()\n",
    "\n",
    "data = arff.loadarff('column_2C_weka.arff')\n",
    "df = pd.DataFrame(data[0])\n",
    "\n",
    "# replace categorical data with numerical values\n",
    "class_mapper = {b'Abnormal':1,b'Normal':0}\n",
    "df['class']=df['class'].replace(class_mapper)\n",
    "\n",
    "# adjust label column into first column\n",
    "cols = df.columns.tolist()\n",
    "cols = cols[-1:] + cols[:-1]\n",
    "df = df[cols]\n",
    "\n",
    "# split dataset into 80/10/10 scenario\n",
    "train, test_and_validate = train_test_split(df, test_size=0.2, random_state=42, stratify=df['class'])\n",
    "test, validate = train_test_split(test_and_validate, test_size=0.5, random_state=42, stratify=test_and_validate['class'])\n",
    "\n",
    "prefix='lab3'\n",
    "\n",
    "train_file='vertebral_train.csv'\n",
    "test_file='vertebral_test.csv'\n",
    "validate_file='vertebral_validate.csv'\n",
    "\n",
    "# crate upload to S3 function\n",
    "s3_resource = boto3.Session().resource('s3')\n",
    "def upload_s3_csv(filename, folder, dataframe):\n",
    "    csv_buffer = io.StringIO()\n",
    "    dataframe.to_csv(csv_buffer, header=False, index=False )\n",
    "    s3_resource.Bucket(bucket).Object(os.path.join(prefix, folder, filename)).put(Body=csv_buffer.getvalue())\n",
    "\n",
    "# uload to S3 database\n",
    "upload_s3_csv(train_file, 'train', train)\n",
    "upload_s3_csv(test_file, 'test', test)\n",
    "upload_s3_csv(validate_file, 'validate', validate)\n",
    "\n",
    "container = retrieve('xgboost',boto3.Session().region_name,'1.0-1')\n",
    "\n",
    "hyperparams={\"num_round\":\"42\",\n",
    "             \"eval_metric\": \"auc\",\n",
    "             \"objective\": \"binary:logistic\"}\n",
    "\n",
    "s3_output_location=\"s3://{}/{}/output/\".format(bucket,prefix)\n",
    "xgb_model=sagemaker.estimator.Estimator(container,\n",
    "                                       sagemaker.get_execution_role(),\n",
    "                                       instance_count=1,\n",
    "                                       instance_type='ml.m4.xlarge',\n",
    "                                       output_path=s3_output_location,\n",
    "                                        hyperparameters=hyperparams,\n",
    "                                        sagemaker_session=sagemaker.Session())\n",
    "\n",
    "train_channel = sagemaker.inputs.TrainingInput(\n",
    "    \"s3://{}/{}/train/\".format(bucket,prefix,train_file),\n",
    "    content_type='text/csv')\n",
    "\n",
    "validate_channel = sagemaker.inputs.TrainingInput(\n",
    "    \"s3://{}/{}/validate/\".format(bucket,prefix,validate_file),\n",
    "    content_type='text/csv')\n",
    "\n",
    "# comparing train and validation data\n",
    "data_channels = {'train': train_channel, 'validation': validate_channel}\n",
    "\n",
    "xgb_model.fit(inputs=data_channels, logs=False)\n",
    "\n",
    "print('ready for hosting!')"
   ]
  },
  {
   "cell_type": "code",
   "execution_count": 9,
   "id": "be7109fe",
   "metadata": {},
   "outputs": [
    {
     "name": "stderr",
     "output_type": "stream",
     "text": [
      "INFO:sagemaker:Creating model with name: sagemaker-xgboost-2024-02-20-02-23-39-848\n",
      "INFO:sagemaker:Creating endpoint-config with name sagemaker-xgboost-2024-02-20-02-23-39-848\n",
      "INFO:sagemaker:Creating endpoint with name sagemaker-xgboost-2024-02-20-02-23-39-848\n"
     ]
    },
    {
     "name": "stdout",
     "output_type": "stream",
     "text": [
      "-----!"
     ]
    }
   ],
   "source": [
    "xgb_predictor = xgb_model.deploy(initial_instance_count=1,\n",
    "                serializer = sagemaker.serializers.CSVSerializer(),\n",
    "                instance_type='ml.m4.xlarge')"
   ]
  },
  {
   "cell_type": "markdown",
   "id": "120938ac",
   "metadata": {},
   "source": [
    "hosting the model"
   ]
  },
  {
   "cell_type": "code",
   "execution_count": 10,
   "id": "b37a4ec7",
   "metadata": {},
   "outputs": [
    {
     "data": {
      "text/plain": [
       "(31, 7)"
      ]
     },
     "execution_count": 10,
     "metadata": {},
     "output_type": "execute_result"
    }
   ],
   "source": [
    "test.shape"
   ]
  },
  {
   "cell_type": "markdown",
   "id": "609c8655",
   "metadata": {},
   "source": [
    "review test data info"
   ]
  },
  {
   "cell_type": "code",
   "execution_count": 11,
   "id": "886cd1d5",
   "metadata": {},
   "outputs": [
    {
     "data": {
      "text/html": [
       "<div>\n",
       "<style scoped>\n",
       "    .dataframe tbody tr th:only-of-type {\n",
       "        vertical-align: middle;\n",
       "    }\n",
       "\n",
       "    .dataframe tbody tr th {\n",
       "        vertical-align: top;\n",
       "    }\n",
       "\n",
       "    .dataframe thead th {\n",
       "        text-align: right;\n",
       "    }\n",
       "</style>\n",
       "<table border=\"1\" class=\"dataframe\">\n",
       "  <thead>\n",
       "    <tr style=\"text-align: right;\">\n",
       "      <th></th>\n",
       "      <th>class</th>\n",
       "      <th>pelvic_incidence</th>\n",
       "      <th>pelvic_tilt</th>\n",
       "      <th>lumbar_lordosis_angle</th>\n",
       "      <th>sacral_slope</th>\n",
       "      <th>pelvic_radius</th>\n",
       "      <th>degree_spondylolisthesis</th>\n",
       "    </tr>\n",
       "  </thead>\n",
       "  <tbody>\n",
       "    <tr>\n",
       "      <th>136</th>\n",
       "      <td>1</td>\n",
       "      <td>88.024499</td>\n",
       "      <td>39.844669</td>\n",
       "      <td>81.774473</td>\n",
       "      <td>48.179830</td>\n",
       "      <td>116.601538</td>\n",
       "      <td>56.766083</td>\n",
       "    </tr>\n",
       "    <tr>\n",
       "      <th>230</th>\n",
       "      <td>0</td>\n",
       "      <td>65.611802</td>\n",
       "      <td>23.137919</td>\n",
       "      <td>62.582179</td>\n",
       "      <td>42.473883</td>\n",
       "      <td>124.128001</td>\n",
       "      <td>-4.083298</td>\n",
       "    </tr>\n",
       "    <tr>\n",
       "      <th>134</th>\n",
       "      <td>1</td>\n",
       "      <td>52.204693</td>\n",
       "      <td>17.212673</td>\n",
       "      <td>78.094969</td>\n",
       "      <td>34.992020</td>\n",
       "      <td>136.972517</td>\n",
       "      <td>54.939134</td>\n",
       "    </tr>\n",
       "    <tr>\n",
       "      <th>130</th>\n",
       "      <td>1</td>\n",
       "      <td>50.066786</td>\n",
       "      <td>9.120340</td>\n",
       "      <td>32.168463</td>\n",
       "      <td>40.946446</td>\n",
       "      <td>99.712453</td>\n",
       "      <td>26.766697</td>\n",
       "    </tr>\n",
       "    <tr>\n",
       "      <th>47</th>\n",
       "      <td>1</td>\n",
       "      <td>41.352504</td>\n",
       "      <td>16.577364</td>\n",
       "      <td>30.706191</td>\n",
       "      <td>24.775141</td>\n",
       "      <td>113.266675</td>\n",
       "      <td>-4.497958</td>\n",
       "    </tr>\n",
       "  </tbody>\n",
       "</table>\n",
       "</div>"
      ],
      "text/plain": [
       "     class  pelvic_incidence  pelvic_tilt  lumbar_lordosis_angle  \\\n",
       "136      1         88.024499    39.844669              81.774473   \n",
       "230      0         65.611802    23.137919              62.582179   \n",
       "134      1         52.204693    17.212673              78.094969   \n",
       "130      1         50.066786     9.120340              32.168463   \n",
       "47       1         41.352504    16.577364              30.706191   \n",
       "\n",
       "     sacral_slope  pelvic_radius  degree_spondylolisthesis  \n",
       "136     48.179830     116.601538                 56.766083  \n",
       "230     42.473883     124.128001                 -4.083298  \n",
       "134     34.992020     136.972517                 54.939134  \n",
       "130     40.946446      99.712453                 26.766697  \n",
       "47      24.775141     113.266675                 -4.497958  "
      ]
     },
     "execution_count": 11,
     "metadata": {},
     "output_type": "execute_result"
    }
   ],
   "source": [
    "test.head(5)"
   ]
  },
  {
   "cell_type": "code",
   "execution_count": 15,
   "id": "73c17481",
   "metadata": {},
   "outputs": [
    {
     "data": {
      "text/html": [
       "<div>\n",
       "<style scoped>\n",
       "    .dataframe tbody tr th:only-of-type {\n",
       "        vertical-align: middle;\n",
       "    }\n",
       "\n",
       "    .dataframe tbody tr th {\n",
       "        vertical-align: top;\n",
       "    }\n",
       "\n",
       "    .dataframe thead th {\n",
       "        text-align: right;\n",
       "    }\n",
       "</style>\n",
       "<table border=\"1\" class=\"dataframe\">\n",
       "  <thead>\n",
       "    <tr style=\"text-align: right;\">\n",
       "      <th></th>\n",
       "      <th>pelvic_incidence</th>\n",
       "      <th>pelvic_tilt</th>\n",
       "      <th>lumbar_lordosis_angle</th>\n",
       "      <th>sacral_slope</th>\n",
       "      <th>pelvic_radius</th>\n",
       "      <th>degree_spondylolisthesis</th>\n",
       "    </tr>\n",
       "  </thead>\n",
       "  <tbody>\n",
       "    <tr>\n",
       "      <th>136</th>\n",
       "      <td>88.024499</td>\n",
       "      <td>39.844669</td>\n",
       "      <td>81.774473</td>\n",
       "      <td>48.17983</td>\n",
       "      <td>116.601538</td>\n",
       "      <td>56.766083</td>\n",
       "    </tr>\n",
       "  </tbody>\n",
       "</table>\n",
       "</div>"
      ],
      "text/plain": [
       "     pelvic_incidence  pelvic_tilt  lumbar_lordosis_angle  sacral_slope  \\\n",
       "136         88.024499    39.844669              81.774473      48.17983   \n",
       "\n",
       "     pelvic_radius  degree_spondylolisthesis  \n",
       "136     116.601538                 56.766083  "
      ]
     },
     "execution_count": 15,
     "metadata": {},
     "output_type": "execute_result"
    }
   ],
   "source": [
    "row = test.iloc[0:1,1:]\n",
    "# exclude label column for first row\n",
    "row.head()"
   ]
  },
  {
   "cell_type": "code",
   "execution_count": 16,
   "id": "84e07f29",
   "metadata": {},
   "outputs": [
    {
     "name": "stdout",
     "output_type": "stream",
     "text": [
      "88.0244989,39.84466878,81.77447308,48.17983012,116.6015376,56.76608323\n",
      "\n"
     ]
    }
   ],
   "source": [
    "batch_X_csv_buffer = io.StringIO()\n",
    "row.to_csv(batch_X_csv_buffer, header=False, index=False)\n",
    "test_row = batch_X_csv_buffer.getvalue()\n",
    "print(test_row)"
   ]
  },
  {
   "cell_type": "markdown",
   "id": "8386f785",
   "metadata": {},
   "source": [
    "switch dataframe to csv string buffer"
   ]
  },
  {
   "cell_type": "code",
   "execution_count": 17,
   "id": "6f35c339",
   "metadata": {},
   "outputs": [
    {
     "data": {
      "text/plain": [
       "b'0.9966071844100952'"
      ]
     },
     "execution_count": 17,
     "metadata": {},
     "output_type": "execute_result"
    }
   ],
   "source": [
    "xgb_predictor.predict(test_row)"
   ]
  },
  {
   "cell_type": "markdown",
   "id": "29b93a37",
   "metadata": {},
   "source": [
    "test result with probability score between 0-1<br>\n",
    "in this case, the test used is more likely to be classified as Abnormal (1)"
   ]
  },
  {
   "cell_type": "code",
   "execution_count": 18,
   "id": "ce833480",
   "metadata": {},
   "outputs": [
    {
     "data": {
      "text/html": [
       "<div>\n",
       "<style scoped>\n",
       "    .dataframe tbody tr th:only-of-type {\n",
       "        vertical-align: middle;\n",
       "    }\n",
       "\n",
       "    .dataframe tbody tr th {\n",
       "        vertical-align: top;\n",
       "    }\n",
       "\n",
       "    .dataframe thead th {\n",
       "        text-align: right;\n",
       "    }\n",
       "</style>\n",
       "<table border=\"1\" class=\"dataframe\">\n",
       "  <thead>\n",
       "    <tr style=\"text-align: right;\">\n",
       "      <th></th>\n",
       "      <th>class</th>\n",
       "      <th>pelvic_incidence</th>\n",
       "      <th>pelvic_tilt</th>\n",
       "      <th>lumbar_lordosis_angle</th>\n",
       "      <th>sacral_slope</th>\n",
       "      <th>pelvic_radius</th>\n",
       "      <th>degree_spondylolisthesis</th>\n",
       "    </tr>\n",
       "  </thead>\n",
       "  <tbody>\n",
       "    <tr>\n",
       "      <th>136</th>\n",
       "      <td>1</td>\n",
       "      <td>88.024499</td>\n",
       "      <td>39.844669</td>\n",
       "      <td>81.774473</td>\n",
       "      <td>48.179830</td>\n",
       "      <td>116.601538</td>\n",
       "      <td>56.766083</td>\n",
       "    </tr>\n",
       "    <tr>\n",
       "      <th>230</th>\n",
       "      <td>0</td>\n",
       "      <td>65.611802</td>\n",
       "      <td>23.137919</td>\n",
       "      <td>62.582179</td>\n",
       "      <td>42.473883</td>\n",
       "      <td>124.128001</td>\n",
       "      <td>-4.083298</td>\n",
       "    </tr>\n",
       "    <tr>\n",
       "      <th>134</th>\n",
       "      <td>1</td>\n",
       "      <td>52.204693</td>\n",
       "      <td>17.212673</td>\n",
       "      <td>78.094969</td>\n",
       "      <td>34.992020</td>\n",
       "      <td>136.972517</td>\n",
       "      <td>54.939134</td>\n",
       "    </tr>\n",
       "    <tr>\n",
       "      <th>130</th>\n",
       "      <td>1</td>\n",
       "      <td>50.066786</td>\n",
       "      <td>9.120340</td>\n",
       "      <td>32.168463</td>\n",
       "      <td>40.946446</td>\n",
       "      <td>99.712453</td>\n",
       "      <td>26.766697</td>\n",
       "    </tr>\n",
       "    <tr>\n",
       "      <th>47</th>\n",
       "      <td>1</td>\n",
       "      <td>41.352504</td>\n",
       "      <td>16.577364</td>\n",
       "      <td>30.706191</td>\n",
       "      <td>24.775141</td>\n",
       "      <td>113.266675</td>\n",
       "      <td>-4.497958</td>\n",
       "    </tr>\n",
       "  </tbody>\n",
       "</table>\n",
       "</div>"
      ],
      "text/plain": [
       "     class  pelvic_incidence  pelvic_tilt  lumbar_lordosis_angle  \\\n",
       "136      1         88.024499    39.844669              81.774473   \n",
       "230      0         65.611802    23.137919              62.582179   \n",
       "134      1         52.204693    17.212673              78.094969   \n",
       "130      1         50.066786     9.120340              32.168463   \n",
       "47       1         41.352504    16.577364              30.706191   \n",
       "\n",
       "     sacral_slope  pelvic_radius  degree_spondylolisthesis  \n",
       "136     48.179830     116.601538                 56.766083  \n",
       "230     42.473883     124.128001                 -4.083298  \n",
       "134     34.992020     136.972517                 54.939134  \n",
       "130     40.946446      99.712453                 26.766697  \n",
       "47      24.775141     113.266675                 -4.497958  "
      ]
     },
     "execution_count": 18,
     "metadata": {},
     "output_type": "execute_result"
    }
   ],
   "source": [
    "test.head(5)"
   ]
  },
  {
   "cell_type": "markdown",
   "id": "17543635",
   "metadata": {},
   "source": [
    "the test label from first row is indeed Abnormal (1)"
   ]
  },
  {
   "cell_type": "code",
   "execution_count": 19,
   "id": "1005812f",
   "metadata": {},
   "outputs": [
    {
     "name": "stdout",
     "output_type": "stream",
     "text": [
      "65.61180231,23.13791922,62.58217893,42.47388309,124.1280012,-4.083298414\n",
      "52.20469309,17.21267289,78.09496877,34.9920202,136.9725168,54.93913416\n",
      "50.06678595,9.120340183,32.16846267,40.94644577,99.71245318,26.76669655\n",
      "41.35250407,16.57736351,30.70619135,24.77514057,113.2666746,-4.497957556\n",
      "\n"
     ]
    }
   ],
   "source": [
    "row2 = test.iloc[1:5,1:]\n",
    "row2.head()\n",
    "batch_X_csv_buffer = io.StringIO()\n",
    "row2.to_csv(batch_X_csv_buffer, header=False, index=False)\n",
    "test_row2 = batch_X_csv_buffer.getvalue()\n",
    "print(test_row2)"
   ]
  },
  {
   "cell_type": "code",
   "execution_count": 20,
   "id": "e50fbd9f",
   "metadata": {},
   "outputs": [
    {
     "data": {
      "text/plain": [
       "b'0.777283251285553,0.9946410655975342,0.993690013885498,0.9391394853591919'"
      ]
     },
     "execution_count": 20,
     "metadata": {},
     "output_type": "execute_result"
    }
   ],
   "source": [
    "xgb_predictor.predict(test_row2)"
   ]
  },
  {
   "cell_type": "markdown",
   "id": "8fb5e567",
   "metadata": {},
   "source": [
    "2nd row is the only one with Normal label, hence has the lowest probability score between 4 dataset"
   ]
  },
  {
   "cell_type": "code",
   "execution_count": 21,
   "id": "8a3e5c0c",
   "metadata": {},
   "outputs": [
    {
     "name": "stderr",
     "output_type": "stream",
     "text": [
      "INFO:sagemaker:Deleting endpoint configuration with name: sagemaker-xgboost-2024-02-20-02-23-39-848\n",
      "INFO:sagemaker:Deleting endpoint with name: sagemaker-xgboost-2024-02-20-02-23-39-848\n"
     ]
    }
   ],
   "source": [
    "xgb_predictor.delete_endpoint(delete_endpoint_config=True)"
   ]
  },
  {
   "cell_type": "markdown",
   "id": "e531842e",
   "metadata": {},
   "source": [
    "termintating deployed model"
   ]
  },
  {
   "cell_type": "code",
   "execution_count": 22,
   "id": "0b62717a",
   "metadata": {},
   "outputs": [
    {
     "data": {
      "text/html": [
       "<div>\n",
       "<style scoped>\n",
       "    .dataframe tbody tr th:only-of-type {\n",
       "        vertical-align: middle;\n",
       "    }\n",
       "\n",
       "    .dataframe tbody tr th {\n",
       "        vertical-align: top;\n",
       "    }\n",
       "\n",
       "    .dataframe thead th {\n",
       "        text-align: right;\n",
       "    }\n",
       "</style>\n",
       "<table border=\"1\" class=\"dataframe\">\n",
       "  <thead>\n",
       "    <tr style=\"text-align: right;\">\n",
       "      <th></th>\n",
       "      <th>pelvic_incidence</th>\n",
       "      <th>pelvic_tilt</th>\n",
       "      <th>lumbar_lordosis_angle</th>\n",
       "      <th>sacral_slope</th>\n",
       "      <th>pelvic_radius</th>\n",
       "      <th>degree_spondylolisthesis</th>\n",
       "    </tr>\n",
       "  </thead>\n",
       "  <tbody>\n",
       "    <tr>\n",
       "      <th>136</th>\n",
       "      <td>88.024499</td>\n",
       "      <td>39.844669</td>\n",
       "      <td>81.774473</td>\n",
       "      <td>48.179830</td>\n",
       "      <td>116.601538</td>\n",
       "      <td>56.766083</td>\n",
       "    </tr>\n",
       "    <tr>\n",
       "      <th>230</th>\n",
       "      <td>65.611802</td>\n",
       "      <td>23.137919</td>\n",
       "      <td>62.582179</td>\n",
       "      <td>42.473883</td>\n",
       "      <td>124.128001</td>\n",
       "      <td>-4.083298</td>\n",
       "    </tr>\n",
       "    <tr>\n",
       "      <th>134</th>\n",
       "      <td>52.204693</td>\n",
       "      <td>17.212673</td>\n",
       "      <td>78.094969</td>\n",
       "      <td>34.992020</td>\n",
       "      <td>136.972517</td>\n",
       "      <td>54.939134</td>\n",
       "    </tr>\n",
       "    <tr>\n",
       "      <th>130</th>\n",
       "      <td>50.066786</td>\n",
       "      <td>9.120340</td>\n",
       "      <td>32.168463</td>\n",
       "      <td>40.946446</td>\n",
       "      <td>99.712453</td>\n",
       "      <td>26.766697</td>\n",
       "    </tr>\n",
       "    <tr>\n",
       "      <th>47</th>\n",
       "      <td>41.352504</td>\n",
       "      <td>16.577364</td>\n",
       "      <td>30.706191</td>\n",
       "      <td>24.775141</td>\n",
       "      <td>113.266675</td>\n",
       "      <td>-4.497958</td>\n",
       "    </tr>\n",
       "  </tbody>\n",
       "</table>\n",
       "</div>"
      ],
      "text/plain": [
       "     pelvic_incidence  pelvic_tilt  lumbar_lordosis_angle  sacral_slope  \\\n",
       "136         88.024499    39.844669              81.774473     48.179830   \n",
       "230         65.611802    23.137919              62.582179     42.473883   \n",
       "134         52.204693    17.212673              78.094969     34.992020   \n",
       "130         50.066786     9.120340              32.168463     40.946446   \n",
       "47          41.352504    16.577364              30.706191     24.775141   \n",
       "\n",
       "     pelvic_radius  degree_spondylolisthesis  \n",
       "136     116.601538                 56.766083  \n",
       "230     124.128001                 -4.083298  \n",
       "134     136.972517                 54.939134  \n",
       "130      99.712453                 26.766697  \n",
       "47      113.266675                 -4.497958  "
      ]
     },
     "execution_count": 22,
     "metadata": {},
     "output_type": "execute_result"
    }
   ],
   "source": [
    "batch_X = test.iloc[:,1:];\n",
    "batch_X.head()"
   ]
  },
  {
   "cell_type": "code",
   "execution_count": 23,
   "id": "dfae4793",
   "metadata": {},
   "outputs": [],
   "source": [
    "batch_X_file='batch-in.csv'\n",
    "upload_s3_csv(batch_X_file, 'batch-in', batch_X)"
   ]
  },
  {
   "cell_type": "code",
   "execution_count": 24,
   "id": "8f933b99",
   "metadata": {},
   "outputs": [
    {
     "name": "stderr",
     "output_type": "stream",
     "text": [
      "INFO:sagemaker:Creating model with name: sagemaker-xgboost-2024-02-20-02-50-05-903\n",
      "INFO:sagemaker:Creating transform job with name: sagemaker-xgboost-2024-02-20-02-50-06-563\n"
     ]
    },
    {
     "name": "stdout",
     "output_type": "stream",
     "text": [
      ".....................................\u001b[34m[2024-02-20:02:56:20:INFO] No GPUs detected (normal if no gpus installed)\u001b[0m\n",
      "\u001b[34m[2024-02-20:02:56:20:INFO] No GPUs detected (normal if no gpus installed)\u001b[0m\n",
      "\u001b[34m[2024-02-20:02:56:20:INFO] nginx config: \u001b[0m\n",
      "\u001b[34mworker_processes auto;\u001b[0m\n",
      "\u001b[34mdaemon off;\u001b[0m\n",
      "\u001b[34mpid /tmp/nginx.pid;\u001b[0m\n",
      "\u001b[34merror_log  /dev/stderr;\u001b[0m\n",
      "\u001b[34mworker_rlimit_nofile 4096;\u001b[0m\n",
      "\u001b[34mevents {\n",
      "  worker_connections 2048;\u001b[0m\n",
      "\u001b[34m}\u001b[0m\n",
      "\u001b[34mhttp {\n",
      "  include /etc/nginx/mime.types;\n",
      "  default_type application/octet-stream;\n",
      "  access_log /dev/stdout combined;\n",
      "  upstream gunicorn {\n",
      "    server unix:/tmp/gunicorn.sock;\n",
      "  }\n",
      "  server {\n",
      "    listen 8080 deferred;\n",
      "    client_max_body_size 0;\n",
      "    keepalive_timeout 3;\n",
      "    location ~ ^/(ping|invocations|execution-parameters) {\n",
      "      proxy_set_header X-Forwarded-For $proxy_add_x_forwarded_for;\n",
      "      proxy_set_header Host $http_host;\n",
      "      proxy_redirect off;\n",
      "      proxy_read_timeout 60s;\n",
      "      proxy_pass http://gunicorn;\n",
      "    }\n",
      "    location / {\n",
      "      return 404 \"{}\";\n",
      "    }\n",
      "  }\u001b[0m\n",
      "\u001b[34m}\u001b[0m\n",
      "\u001b[34m[2024-02-20 02:56:20 +0000] [19] [INFO] Starting gunicorn 19.10.0\u001b[0m\n",
      "\u001b[34m[2024-02-20 02:56:20 +0000] [19] [INFO] Listening at: unix:/tmp/gunicorn.sock (19)\u001b[0m\n",
      "\u001b[34m[2024-02-20 02:56:20 +0000] [19] [INFO] Using worker: gevent\u001b[0m\n",
      "\u001b[34m[2024-02-20 02:56:20 +0000] [26] [INFO] Booting worker with pid: 26\u001b[0m\n",
      "\u001b[34m[2024-02-20 02:56:21 +0000] [27] [INFO] Booting worker with pid: 27\u001b[0m\n",
      "\u001b[34m[2024-02-20 02:56:21 +0000] [28] [INFO] Booting worker with pid: 28\u001b[0m\n",
      "\u001b[34m[2024-02-20 02:56:21 +0000] [29] [INFO] Booting worker with pid: 29\u001b[0m\n",
      "\u001b[34m[2024-02-20:02:56:26:INFO] No GPUs detected (normal if no gpus installed)\u001b[0m\n",
      "\u001b[34m169.254.255.130 - - [20/Feb/2024:02:56:26 +0000] \"GET /ping HTTP/1.1\" 200 0 \"-\" \"Go-http-client/1.1\"\u001b[0m\n",
      "\u001b[35m[2024-02-20:02:56:26:INFO] No GPUs detected (normal if no gpus installed)\u001b[0m\n",
      "\u001b[35m169.254.255.130 - - [20/Feb/2024:02:56:26 +0000] \"GET /ping HTTP/1.1\" 200 0 \"-\" \"Go-http-client/1.1\"\u001b[0m\n",
      "\u001b[34m[2024-02-20:02:56:27:INFO] No GPUs detected (normal if no gpus installed)\u001b[0m\n",
      "\u001b[34m169.254.255.130 - - [20/Feb/2024:02:56:27 +0000] \"GET /execution-parameters HTTP/1.1\" 200 84 \"-\" \"Go-http-client/1.1\"\u001b[0m\n",
      "\u001b[34m[2024-02-20:02:56:27:INFO] No GPUs detected (normal if no gpus installed)\u001b[0m\n",
      "\u001b[34m[2024-02-20:02:56:27:INFO] Determined delimiter of CSV input is ','\u001b[0m\n",
      "\u001b[34m169.254.255.130 - - [20/Feb/2024:02:56:27 +0000] \"POST /invocations HTTP/1.1\" 200 598 \"-\" \"Go-http-client/1.1\"\u001b[0m\n",
      "\u001b[35m[2024-02-20:02:56:27:INFO] No GPUs detected (normal if no gpus installed)\u001b[0m\n",
      "\u001b[35m169.254.255.130 - - [20/Feb/2024:02:56:27 +0000] \"GET /execution-parameters HTTP/1.1\" 200 84 \"-\" \"Go-http-client/1.1\"\u001b[0m\n",
      "\u001b[35m[2024-02-20:02:56:27:INFO] No GPUs detected (normal if no gpus installed)\u001b[0m\n",
      "\u001b[35m[2024-02-20:02:56:27:INFO] Determined delimiter of CSV input is ','\u001b[0m\n",
      "\u001b[35m169.254.255.130 - - [20/Feb/2024:02:56:27 +0000] \"POST /invocations HTTP/1.1\" 200 598 \"-\" \"Go-http-client/1.1\"\u001b[0m\n",
      "\u001b[32m2024-02-20T02:56:27.012:[sagemaker logs]: MaxConcurrentTransforms=4, MaxPayloadInMB=6, BatchStrategy=MULTI_RECORD\u001b[0m\n",
      "\n",
      "\u001b[34m[2024-02-20:02:56:20:INFO] No GPUs detected (normal if no gpus installed)\u001b[0m\n",
      "\u001b[34m[2024-02-20:02:56:20:INFO] No GPUs detected (normal if no gpus installed)\u001b[0m\n",
      "\u001b[34m[2024-02-20:02:56:20:INFO] nginx config: \u001b[0m\n",
      "\u001b[34mworker_processes auto;\u001b[0m\n",
      "\u001b[34mdaemon off;\u001b[0m\n",
      "\u001b[34mpid /tmp/nginx.pid;\u001b[0m\n",
      "\u001b[34merror_log  /dev/stderr;\u001b[0m\n",
      "\u001b[34mworker_rlimit_nofile 4096;\u001b[0m\n",
      "\u001b[34mevents {\n",
      "  worker_connections 2048;\u001b[0m\n",
      "\u001b[35m[2024-02-20:02:56:20:INFO] No GPUs detected (normal if no gpus installed)\u001b[0m\n",
      "\u001b[35m[2024-02-20:02:56:20:INFO] No GPUs detected (normal if no gpus installed)\u001b[0m\n",
      "\u001b[35m[2024-02-20:02:56:20:INFO] nginx config: \u001b[0m\n",
      "\u001b[35mworker_processes auto;\u001b[0m\n",
      "\u001b[35mdaemon off;\u001b[0m\n",
      "\u001b[35mpid /tmp/nginx.pid;\u001b[0m\n",
      "\u001b[35merror_log  /dev/stderr;\u001b[0m\n",
      "\u001b[35mworker_rlimit_nofile 4096;\u001b[0m\n",
      "\u001b[35mevents {\n",
      "  worker_connections 2048;\u001b[0m\n",
      "\u001b[34m}\u001b[0m\n",
      "\u001b[34mhttp {\n",
      "  include /etc/nginx/mime.types;\n",
      "  default_type application/octet-stream;\n",
      "  access_log /dev/stdout combined;\n",
      "  upstream gunicorn {\n",
      "    server unix:/tmp/gunicorn.sock;\n",
      "  }\n",
      "  server {\n",
      "    listen 8080 deferred;\n",
      "    client_max_body_size 0;\n",
      "    keepalive_timeout 3;\n",
      "    location ~ ^/(ping|invocations|execution-parameters) {\n",
      "      proxy_set_header X-Forwarded-For $proxy_add_x_forwarded_for;\n",
      "      proxy_set_header Host $http_host;\n",
      "      proxy_redirect off;\n",
      "      proxy_read_timeout 60s;\n",
      "      proxy_pass http://gunicorn;\n",
      "    }\n",
      "    location / {\n",
      "      return 404 \"{}\";\n",
      "    }\n",
      "  }\u001b[0m\n",
      "\u001b[34m}\u001b[0m\n",
      "\u001b[34m[2024-02-20 02:56:20 +0000] [19] [INFO] Starting gunicorn 19.10.0\u001b[0m\n",
      "\u001b[34m[2024-02-20 02:56:20 +0000] [19] [INFO] Listening at: unix:/tmp/gunicorn.sock (19)\u001b[0m\n",
      "\u001b[34m[2024-02-20 02:56:20 +0000] [19] [INFO] Using worker: gevent\u001b[0m\n",
      "\u001b[34m[2024-02-20 02:56:20 +0000] [26] [INFO] Booting worker with pid: 26\u001b[0m\n",
      "\u001b[34m[2024-02-20 02:56:21 +0000] [27] [INFO] Booting worker with pid: 27\u001b[0m\n",
      "\u001b[34m[2024-02-20 02:56:21 +0000] [28] [INFO] Booting worker with pid: 28\u001b[0m\n",
      "\u001b[34m[2024-02-20 02:56:21 +0000] [29] [INFO] Booting worker with pid: 29\u001b[0m\n",
      "\u001b[35m}\u001b[0m\n",
      "\u001b[35mhttp {\n",
      "  include /etc/nginx/mime.types;\n",
      "  default_type application/octet-stream;\n",
      "  access_log /dev/stdout combined;\n",
      "  upstream gunicorn {\n",
      "    server unix:/tmp/gunicorn.sock;\n",
      "  }\n",
      "  server {\n",
      "    listen 8080 deferred;\n",
      "    client_max_body_size 0;\n",
      "    keepalive_timeout 3;\n",
      "    location ~ ^/(ping|invocations|execution-parameters) {\n",
      "      proxy_set_header X-Forwarded-For $proxy_add_x_forwarded_for;\n",
      "      proxy_set_header Host $http_host;\n",
      "      proxy_redirect off;\n",
      "      proxy_read_timeout 60s;\n",
      "      proxy_pass http://gunicorn;\n",
      "    }\n",
      "    location / {\n",
      "      return 404 \"{}\";\n",
      "    }\n",
      "  }\u001b[0m\n",
      "\u001b[35m}\u001b[0m\n",
      "\u001b[35m[2024-02-20 02:56:20 +0000] [19] [INFO] Starting gunicorn 19.10.0\u001b[0m\n",
      "\u001b[35m[2024-02-20 02:56:20 +0000] [19] [INFO] Listening at: unix:/tmp/gunicorn.sock (19)\u001b[0m\n",
      "\u001b[35m[2024-02-20 02:56:20 +0000] [19] [INFO] Using worker: gevent\u001b[0m\n",
      "\u001b[35m[2024-02-20 02:56:20 +0000] [26] [INFO] Booting worker with pid: 26\u001b[0m\n",
      "\u001b[35m[2024-02-20 02:56:21 +0000] [27] [INFO] Booting worker with pid: 27\u001b[0m\n",
      "\u001b[35m[2024-02-20 02:56:21 +0000] [28] [INFO] Booting worker with pid: 28\u001b[0m\n",
      "\u001b[35m[2024-02-20 02:56:21 +0000] [29] [INFO] Booting worker with pid: 29\u001b[0m\n",
      "\u001b[34m[2024-02-20:02:56:26:INFO] No GPUs detected (normal if no gpus installed)\u001b[0m\n",
      "\u001b[34m169.254.255.130 - - [20/Feb/2024:02:56:26 +0000] \"GET /ping HTTP/1.1\" 200 0 \"-\" \"Go-http-client/1.1\"\u001b[0m\n",
      "\u001b[35m[2024-02-20:02:56:26:INFO] No GPUs detected (normal if no gpus installed)\u001b[0m\n",
      "\u001b[35m169.254.255.130 - - [20/Feb/2024:02:56:26 +0000] \"GET /ping HTTP/1.1\" 200 0 \"-\" \"Go-http-client/1.1\"\u001b[0m\n",
      "\u001b[34m[2024-02-20:02:56:27:INFO] No GPUs detected (normal if no gpus installed)\u001b[0m\n",
      "\u001b[34m169.254.255.130 - - [20/Feb/2024:02:56:27 +0000] \"GET /execution-parameters HTTP/1.1\" 200 84 \"-\" \"Go-http-client/1.1\"\u001b[0m\n",
      "\u001b[34m[2024-02-20:02:56:27:INFO] No GPUs detected (normal if no gpus installed)\u001b[0m\n",
      "\u001b[34m[2024-02-20:02:56:27:INFO] Determined delimiter of CSV input is ','\u001b[0m\n",
      "\u001b[34m169.254.255.130 - - [20/Feb/2024:02:56:27 +0000] \"POST /invocations HTTP/1.1\" 200 598 \"-\" \"Go-http-client/1.1\"\u001b[0m\n",
      "\u001b[35m[2024-02-20:02:56:27:INFO] No GPUs detected (normal if no gpus installed)\u001b[0m\n",
      "\u001b[35m169.254.255.130 - - [20/Feb/2024:02:56:27 +0000] \"GET /execution-parameters HTTP/1.1\" 200 84 \"-\" \"Go-http-client/1.1\"\u001b[0m\n",
      "\u001b[35m[2024-02-20:02:56:27:INFO] No GPUs detected (normal if no gpus installed)\u001b[0m\n",
      "\u001b[35m[2024-02-20:02:56:27:INFO] Determined delimiter of CSV input is ','\u001b[0m\n",
      "\u001b[35m169.254.255.130 - - [20/Feb/2024:02:56:27 +0000] \"POST /invocations HTTP/1.1\" 200 598 \"-\" \"Go-http-client/1.1\"\u001b[0m\n",
      "\u001b[32m2024-02-20T02:56:27.012:[sagemaker logs]: MaxConcurrentTransforms=4, MaxPayloadInMB=6, BatchStrategy=MULTI_RECORD\u001b[0m\n"
     ]
    }
   ],
   "source": [
    "batch_output = \"s3://{}/{}/batch-out/\".format(bucket,prefix)\n",
    "batch_input = \"s3://{}/{}/batch-in/{}\".format(bucket,prefix,batch_X_file)\n",
    "\n",
    "xgb_transformer = xgb_model.transformer(instance_count=1,\n",
    "                                       instance_type='ml.m4.xlarge',\n",
    "                                       strategy='MultiRecord',\n",
    "                                       assemble_with='Line',\n",
    "                                       output_path=batch_output)\n",
    "\n",
    "xgb_transformer.transform(data=batch_input,\n",
    "                         data_type='S3Prefix',\n",
    "                         content_type='text/csv',\n",
    "                         split_type='Line')\n",
    "xgb_transformer.wait()"
   ]
  },
  {
   "cell_type": "code",
   "execution_count": 25,
   "id": "3094ff0f",
   "metadata": {},
   "outputs": [
    {
     "data": {
      "text/html": [
       "<div>\n",
       "<style scoped>\n",
       "    .dataframe tbody tr th:only-of-type {\n",
       "        vertical-align: middle;\n",
       "    }\n",
       "\n",
       "    .dataframe tbody tr th {\n",
       "        vertical-align: top;\n",
       "    }\n",
       "\n",
       "    .dataframe thead th {\n",
       "        text-align: right;\n",
       "    }\n",
       "</style>\n",
       "<table border=\"1\" class=\"dataframe\">\n",
       "  <thead>\n",
       "    <tr style=\"text-align: right;\">\n",
       "      <th></th>\n",
       "      <th>class</th>\n",
       "    </tr>\n",
       "  </thead>\n",
       "  <tbody>\n",
       "    <tr>\n",
       "      <th>0</th>\n",
       "      <td>0.996607</td>\n",
       "    </tr>\n",
       "    <tr>\n",
       "      <th>1</th>\n",
       "      <td>0.777283</td>\n",
       "    </tr>\n",
       "    <tr>\n",
       "      <th>2</th>\n",
       "      <td>0.994641</td>\n",
       "    </tr>\n",
       "    <tr>\n",
       "      <th>3</th>\n",
       "      <td>0.993690</td>\n",
       "    </tr>\n",
       "    <tr>\n",
       "      <th>4</th>\n",
       "      <td>0.939139</td>\n",
       "    </tr>\n",
       "  </tbody>\n",
       "</table>\n",
       "</div>"
      ],
      "text/plain": [
       "      class\n",
       "0  0.996607\n",
       "1  0.777283\n",
       "2  0.994641\n",
       "3  0.993690\n",
       "4  0.939139"
      ]
     },
     "execution_count": 25,
     "metadata": {},
     "output_type": "execute_result"
    }
   ],
   "source": [
    "s3 = boto3.client('s3')\n",
    "obj = s3.get_object(Bucket=bucket, Key=\"{}/batch-out/{}\".format(prefix,'batch-in.csv.out'))\n",
    "target_predicted = pd.read_csv(io.BytesIO(obj['Body'].read()),sep=',',names=['class'])\n",
    "target_predicted.head(5)"
   ]
  },
  {
   "cell_type": "code",
   "execution_count": 27,
   "id": "7689144c",
   "metadata": {},
   "outputs": [
    {
     "name": "stdout",
     "output_type": "stream",
     "text": [
      "      class  binary\n",
      "0  0.996607       1\n",
      "1  0.777283       0\n",
      "2  0.994641       1\n",
      "3  0.993690       1\n",
      "4  0.939139       1\n",
      "5  0.997396       1\n",
      "6  0.991977       1\n",
      "7  0.987518       1\n",
      "8  0.993334       1\n",
      "9  0.682776       0\n"
     ]
    },
    {
     "data": {
      "text/html": [
       "<div>\n",
       "<style scoped>\n",
       "    .dataframe tbody tr th:only-of-type {\n",
       "        vertical-align: middle;\n",
       "    }\n",
       "\n",
       "    .dataframe tbody tr th {\n",
       "        vertical-align: top;\n",
       "    }\n",
       "\n",
       "    .dataframe thead th {\n",
       "        text-align: right;\n",
       "    }\n",
       "</style>\n",
       "<table border=\"1\" class=\"dataframe\">\n",
       "  <thead>\n",
       "    <tr style=\"text-align: right;\">\n",
       "      <th></th>\n",
       "      <th>class</th>\n",
       "      <th>pelvic_incidence</th>\n",
       "      <th>pelvic_tilt</th>\n",
       "      <th>lumbar_lordosis_angle</th>\n",
       "      <th>sacral_slope</th>\n",
       "      <th>pelvic_radius</th>\n",
       "      <th>degree_spondylolisthesis</th>\n",
       "    </tr>\n",
       "  </thead>\n",
       "  <tbody>\n",
       "    <tr>\n",
       "      <th>136</th>\n",
       "      <td>1</td>\n",
       "      <td>88.024499</td>\n",
       "      <td>39.844669</td>\n",
       "      <td>81.774473</td>\n",
       "      <td>48.179830</td>\n",
       "      <td>116.601538</td>\n",
       "      <td>56.766083</td>\n",
       "    </tr>\n",
       "    <tr>\n",
       "      <th>230</th>\n",
       "      <td>0</td>\n",
       "      <td>65.611802</td>\n",
       "      <td>23.137919</td>\n",
       "      <td>62.582179</td>\n",
       "      <td>42.473883</td>\n",
       "      <td>124.128001</td>\n",
       "      <td>-4.083298</td>\n",
       "    </tr>\n",
       "    <tr>\n",
       "      <th>134</th>\n",
       "      <td>1</td>\n",
       "      <td>52.204693</td>\n",
       "      <td>17.212673</td>\n",
       "      <td>78.094969</td>\n",
       "      <td>34.992020</td>\n",
       "      <td>136.972517</td>\n",
       "      <td>54.939134</td>\n",
       "    </tr>\n",
       "    <tr>\n",
       "      <th>130</th>\n",
       "      <td>1</td>\n",
       "      <td>50.066786</td>\n",
       "      <td>9.120340</td>\n",
       "      <td>32.168463</td>\n",
       "      <td>40.946446</td>\n",
       "      <td>99.712453</td>\n",
       "      <td>26.766697</td>\n",
       "    </tr>\n",
       "    <tr>\n",
       "      <th>47</th>\n",
       "      <td>1</td>\n",
       "      <td>41.352504</td>\n",
       "      <td>16.577364</td>\n",
       "      <td>30.706191</td>\n",
       "      <td>24.775141</td>\n",
       "      <td>113.266675</td>\n",
       "      <td>-4.497958</td>\n",
       "    </tr>\n",
       "    <tr>\n",
       "      <th>135</th>\n",
       "      <td>1</td>\n",
       "      <td>77.121344</td>\n",
       "      <td>30.349874</td>\n",
       "      <td>77.481083</td>\n",
       "      <td>46.771470</td>\n",
       "      <td>110.611148</td>\n",
       "      <td>82.093607</td>\n",
       "    </tr>\n",
       "    <tr>\n",
       "      <th>100</th>\n",
       "      <td>1</td>\n",
       "      <td>84.585607</td>\n",
       "      <td>30.361685</td>\n",
       "      <td>65.479486</td>\n",
       "      <td>54.223922</td>\n",
       "      <td>108.010218</td>\n",
       "      <td>25.118478</td>\n",
       "    </tr>\n",
       "    <tr>\n",
       "      <th>89</th>\n",
       "      <td>1</td>\n",
       "      <td>71.186811</td>\n",
       "      <td>23.896201</td>\n",
       "      <td>43.696665</td>\n",
       "      <td>47.290610</td>\n",
       "      <td>119.864938</td>\n",
       "      <td>27.283985</td>\n",
       "    </tr>\n",
       "    <tr>\n",
       "      <th>297</th>\n",
       "      <td>0</td>\n",
       "      <td>45.575482</td>\n",
       "      <td>18.759135</td>\n",
       "      <td>33.774143</td>\n",
       "      <td>26.816347</td>\n",
       "      <td>116.797007</td>\n",
       "      <td>3.131910</td>\n",
       "    </tr>\n",
       "    <tr>\n",
       "      <th>4</th>\n",
       "      <td>1</td>\n",
       "      <td>49.712859</td>\n",
       "      <td>9.652075</td>\n",
       "      <td>28.317406</td>\n",
       "      <td>40.060784</td>\n",
       "      <td>108.168725</td>\n",
       "      <td>7.918501</td>\n",
       "    </tr>\n",
       "  </tbody>\n",
       "</table>\n",
       "</div>"
      ],
      "text/plain": [
       "     class  pelvic_incidence  pelvic_tilt  lumbar_lordosis_angle  \\\n",
       "136      1         88.024499    39.844669              81.774473   \n",
       "230      0         65.611802    23.137919              62.582179   \n",
       "134      1         52.204693    17.212673              78.094969   \n",
       "130      1         50.066786     9.120340              32.168463   \n",
       "47       1         41.352504    16.577364              30.706191   \n",
       "135      1         77.121344    30.349874              77.481083   \n",
       "100      1         84.585607    30.361685              65.479486   \n",
       "89       1         71.186811    23.896201              43.696665   \n",
       "297      0         45.575482    18.759135              33.774143   \n",
       "4        1         49.712859     9.652075              28.317406   \n",
       "\n",
       "     sacral_slope  pelvic_radius  degree_spondylolisthesis  \n",
       "136     48.179830     116.601538                 56.766083  \n",
       "230     42.473883     124.128001                 -4.083298  \n",
       "134     34.992020     136.972517                 54.939134  \n",
       "130     40.946446      99.712453                 26.766697  \n",
       "47      24.775141     113.266675                 -4.497958  \n",
       "135     46.771470     110.611148                 82.093607  \n",
       "100     54.223922     108.010218                 25.118478  \n",
       "89      47.290610     119.864938                 27.283985  \n",
       "297     26.816347     116.797007                  3.131910  \n",
       "4       40.060784     108.168725                  7.918501  "
      ]
     },
     "execution_count": 27,
     "metadata": {},
     "output_type": "execute_result"
    }
   ],
   "source": [
    "def binary_convert(x):\n",
    "    threshold = 0.80\n",
    "    if x > threshold:\n",
    "        return 1\n",
    "    else:\n",
    "        return 0\n",
    "\n",
    "target_predicted['binary'] = target_predicted['class'].apply(binary_convert)\n",
    "\n",
    "print(target_predicted.head(10))\n",
    "test.head(10)"
   ]
  },
  {
   "cell_type": "markdown",
   "id": "25d59713",
   "metadata": {},
   "source": [
    "treshold used to determine if the predicted label is 0 or 1 based on its probability score"
   ]
  },
  {
   "cell_type": "markdown",
   "id": "0ad0a3f7",
   "metadata": {},
   "source": [
    "treshold value of 0.65 gives an accuracy of 80%<br>\n",
    "treshold value of 0.80 gives an accuracy of 80%"
   ]
  },
  {
   "cell_type": "code",
   "execution_count": 28,
   "id": "d1b13a3e",
   "metadata": {},
   "outputs": [],
   "source": [
    "# End"
   ]
  },
  {
   "cell_type": "code",
   "execution_count": null,
   "id": "001f7067",
   "metadata": {},
   "outputs": [],
   "source": []
  }
 ],
 "metadata": {
  "kernelspec": {
   "display_name": "conda_python3",
   "language": "python",
   "name": "conda_python3"
  },
  "language_info": {
   "codemirror_mode": {
    "name": "ipython",
    "version": 3
   },
   "file_extension": ".py",
   "mimetype": "text/x-python",
   "name": "python",
   "nbconvert_exporter": "python",
   "pygments_lexer": "ipython3",
   "version": "3.10.13"
  }
 },
 "nbformat": 4,
 "nbformat_minor": 5
}
