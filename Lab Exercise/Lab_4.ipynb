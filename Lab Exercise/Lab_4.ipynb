{
 "cells": [
  {
   "cell_type": "markdown",
   "id": "c7dee950",
   "metadata": {},
   "source": [
    "# Lab 4 Amazon Forecast"
   ]
  },
  {
   "cell_type": "markdown",
   "id": "ce7ccc44",
   "metadata": {},
   "source": [
    "created by ACZ 202402"
   ]
  },
  {
   "cell_type": "markdown",
   "id": "75aed25b",
   "metadata": {},
   "source": [
    "## Attribute information\n",
    "\n",
    "- **InvoiceNo** – Invoice number. Nominal. A 6-digit integral number that's uniquely assigned to each transaction. If this code starts with the letter *c*, it indicates a cancelation.\n",
    "- **StockCode** – Product (item) code. Nominal. A 5-digit integral number that's uniquely assigned to each distinct product.\n",
    "- **Description** – Product (item) name. Nominal.\n",
    "- **Quantity** – The quantities of each product (item) per transaction. Numeric.\n",
    "- **InvoiceDate** – Invoice date and time. Numeric. The day and time when a transaction was generated.\n",
    "- **UnitPrice** – Unit price. Numeric. Product price per unit in pounds sterling (£).\n",
    "- **CustomerID** – Customer number. Nominal. A 5-digit integral number that's uniquely assigned to each customer.\n",
    "- **Country** – Country name. Nominal. The name of the country where a customer resides."
   ]
  },
  {
   "cell_type": "code",
   "execution_count": 2,
   "id": "b275f8de",
   "metadata": {},
   "outputs": [
    {
     "name": "stdout",
     "output_type": "stream",
     "text": [
      "Requirement already satisfied: pandas==1.5.3 in /home/ec2-user/anaconda3/envs/python3/lib/python3.10/site-packages (1.5.3)\n",
      "Requirement already satisfied: python-dateutil>=2.8.1 in /home/ec2-user/anaconda3/envs/python3/lib/python3.10/site-packages (from pandas==1.5.3) (2.8.2)\n",
      "Requirement already satisfied: pytz>=2020.1 in /home/ec2-user/anaconda3/envs/python3/lib/python3.10/site-packages (from pandas==1.5.3) (2023.3.post1)\n",
      "Requirement already satisfied: numpy>=1.21.0 in /home/ec2-user/anaconda3/envs/python3/lib/python3.10/site-packages (from pandas==1.5.3) (1.22.4)\n",
      "Requirement already satisfied: six>=1.5 in /home/ec2-user/anaconda3/envs/python3/lib/python3.10/site-packages (from python-dateutil>=2.8.1->pandas==1.5.3) (1.16.0)\n"
     ]
    }
   ],
   "source": [
    "import warnings\n",
    "warnings.filterwarnings('ignore')\n",
    "bucket_name='c109190a2572296l5948528t1w730335490-forecastbucket-iu7ilrtqhvxs'\n",
    "\n",
    "import boto3\n",
    "import pandas as pd\n",
    "import matplotlib\n",
    "import matplotlib.pyplot as plt\n",
    "import sagemaker\n",
    "import time, sys, os, io, json\n",
    "import xlrd\n",
    "!pip3 install pandas==1.5.3"
   ]
  },
  {
   "cell_type": "code",
   "execution_count": 3,
   "id": "da16ebac",
   "metadata": {},
   "outputs": [],
   "source": [
    "retail_raw = pd.read_excel('online_retail_II.xlsx',engine='openpyxl')"
   ]
  },
  {
   "cell_type": "code",
   "execution_count": 4,
   "id": "e939941d",
   "metadata": {},
   "outputs": [],
   "source": [
    "# retail.isnull().sum()\n",
    "retail = retail_raw.dropna()"
   ]
  },
  {
   "cell_type": "code",
   "execution_count": 5,
   "id": "ae629085",
   "metadata": {},
   "outputs": [
    {
     "data": {
      "text/plain": [
       "(417534, 8)"
      ]
     },
     "execution_count": 5,
     "metadata": {},
     "output_type": "execute_result"
    }
   ],
   "source": [
    "retail.shape"
   ]
  },
  {
   "cell_type": "code",
   "execution_count": 6,
   "id": "d8f24c5c",
   "metadata": {},
   "outputs": [
    {
     "data": {
      "text/plain": [
       "Invoice                object\n",
       "StockCode              object\n",
       "Description            object\n",
       "Quantity                int64\n",
       "InvoiceDate    datetime64[ns]\n",
       "Price                 float64\n",
       "Customer ID           float64\n",
       "Country                object\n",
       "dtype: object"
      ]
     },
     "execution_count": 6,
     "metadata": {},
     "output_type": "execute_result"
    }
   ],
   "source": [
    "retail.dtypes"
   ]
  },
  {
   "cell_type": "code",
   "execution_count": 7,
   "id": "8ee57890",
   "metadata": {},
   "outputs": [
    {
     "data": {
      "text/html": [
       "<div>\n",
       "<style scoped>\n",
       "    .dataframe tbody tr th:only-of-type {\n",
       "        vertical-align: middle;\n",
       "    }\n",
       "\n",
       "    .dataframe tbody tr th {\n",
       "        vertical-align: top;\n",
       "    }\n",
       "\n",
       "    .dataframe thead th {\n",
       "        text-align: right;\n",
       "    }\n",
       "</style>\n",
       "<table border=\"1\" class=\"dataframe\">\n",
       "  <thead>\n",
       "    <tr style=\"text-align: right;\">\n",
       "      <th></th>\n",
       "      <th>Invoice</th>\n",
       "      <th>StockCode</th>\n",
       "      <th>Description</th>\n",
       "      <th>Quantity</th>\n",
       "      <th>InvoiceDate</th>\n",
       "      <th>Price</th>\n",
       "      <th>Customer ID</th>\n",
       "      <th>Country</th>\n",
       "    </tr>\n",
       "  </thead>\n",
       "  <tbody>\n",
       "    <tr>\n",
       "      <th>0</th>\n",
       "      <td>489434</td>\n",
       "      <td>85048</td>\n",
       "      <td>15CM CHRISTMAS GLASS BALL 20 LIGHTS</td>\n",
       "      <td>12</td>\n",
       "      <td>2009-12-01 07:45:00</td>\n",
       "      <td>6.95</td>\n",
       "      <td>13085.0</td>\n",
       "      <td>United Kingdom</td>\n",
       "    </tr>\n",
       "    <tr>\n",
       "      <th>1</th>\n",
       "      <td>489434</td>\n",
       "      <td>79323P</td>\n",
       "      <td>PINK CHERRY LIGHTS</td>\n",
       "      <td>12</td>\n",
       "      <td>2009-12-01 07:45:00</td>\n",
       "      <td>6.75</td>\n",
       "      <td>13085.0</td>\n",
       "      <td>United Kingdom</td>\n",
       "    </tr>\n",
       "    <tr>\n",
       "      <th>2</th>\n",
       "      <td>489434</td>\n",
       "      <td>79323W</td>\n",
       "      <td>WHITE CHERRY LIGHTS</td>\n",
       "      <td>12</td>\n",
       "      <td>2009-12-01 07:45:00</td>\n",
       "      <td>6.75</td>\n",
       "      <td>13085.0</td>\n",
       "      <td>United Kingdom</td>\n",
       "    </tr>\n",
       "    <tr>\n",
       "      <th>3</th>\n",
       "      <td>489434</td>\n",
       "      <td>22041</td>\n",
       "      <td>RECORD FRAME 7\" SINGLE SIZE</td>\n",
       "      <td>48</td>\n",
       "      <td>2009-12-01 07:45:00</td>\n",
       "      <td>2.10</td>\n",
       "      <td>13085.0</td>\n",
       "      <td>United Kingdom</td>\n",
       "    </tr>\n",
       "    <tr>\n",
       "      <th>4</th>\n",
       "      <td>489434</td>\n",
       "      <td>21232</td>\n",
       "      <td>STRAWBERRY CERAMIC TRINKET BOX</td>\n",
       "      <td>24</td>\n",
       "      <td>2009-12-01 07:45:00</td>\n",
       "      <td>1.25</td>\n",
       "      <td>13085.0</td>\n",
       "      <td>United Kingdom</td>\n",
       "    </tr>\n",
       "    <tr>\n",
       "      <th>5</th>\n",
       "      <td>489434</td>\n",
       "      <td>22064</td>\n",
       "      <td>PINK DOUGHNUT TRINKET POT</td>\n",
       "      <td>24</td>\n",
       "      <td>2009-12-01 07:45:00</td>\n",
       "      <td>1.65</td>\n",
       "      <td>13085.0</td>\n",
       "      <td>United Kingdom</td>\n",
       "    </tr>\n",
       "    <tr>\n",
       "      <th>6</th>\n",
       "      <td>489434</td>\n",
       "      <td>21871</td>\n",
       "      <td>SAVE THE PLANET MUG</td>\n",
       "      <td>24</td>\n",
       "      <td>2009-12-01 07:45:00</td>\n",
       "      <td>1.25</td>\n",
       "      <td>13085.0</td>\n",
       "      <td>United Kingdom</td>\n",
       "    </tr>\n",
       "    <tr>\n",
       "      <th>7</th>\n",
       "      <td>489434</td>\n",
       "      <td>21523</td>\n",
       "      <td>FANCY FONT HOME SWEET HOME DOORMAT</td>\n",
       "      <td>10</td>\n",
       "      <td>2009-12-01 07:45:00</td>\n",
       "      <td>5.95</td>\n",
       "      <td>13085.0</td>\n",
       "      <td>United Kingdom</td>\n",
       "    </tr>\n",
       "    <tr>\n",
       "      <th>8</th>\n",
       "      <td>489435</td>\n",
       "      <td>22350</td>\n",
       "      <td>CAT BOWL</td>\n",
       "      <td>12</td>\n",
       "      <td>2009-12-01 07:46:00</td>\n",
       "      <td>2.55</td>\n",
       "      <td>13085.0</td>\n",
       "      <td>United Kingdom</td>\n",
       "    </tr>\n",
       "    <tr>\n",
       "      <th>9</th>\n",
       "      <td>489435</td>\n",
       "      <td>22349</td>\n",
       "      <td>DOG BOWL , CHASING BALL DESIGN</td>\n",
       "      <td>12</td>\n",
       "      <td>2009-12-01 07:46:00</td>\n",
       "      <td>3.75</td>\n",
       "      <td>13085.0</td>\n",
       "      <td>United Kingdom</td>\n",
       "    </tr>\n",
       "    <tr>\n",
       "      <th>10</th>\n",
       "      <td>489435</td>\n",
       "      <td>22195</td>\n",
       "      <td>HEART MEASURING SPOONS LARGE</td>\n",
       "      <td>24</td>\n",
       "      <td>2009-12-01 07:46:00</td>\n",
       "      <td>1.65</td>\n",
       "      <td>13085.0</td>\n",
       "      <td>United Kingdom</td>\n",
       "    </tr>\n",
       "    <tr>\n",
       "      <th>11</th>\n",
       "      <td>489435</td>\n",
       "      <td>22353</td>\n",
       "      <td>LUNCHBOX WITH CUTLERY FAIRY CAKES</td>\n",
       "      <td>12</td>\n",
       "      <td>2009-12-01 07:46:00</td>\n",
       "      <td>2.55</td>\n",
       "      <td>13085.0</td>\n",
       "      <td>United Kingdom</td>\n",
       "    </tr>\n",
       "    <tr>\n",
       "      <th>12</th>\n",
       "      <td>489436</td>\n",
       "      <td>48173C</td>\n",
       "      <td>DOOR MAT BLACK FLOCK</td>\n",
       "      <td>10</td>\n",
       "      <td>2009-12-01 09:06:00</td>\n",
       "      <td>5.95</td>\n",
       "      <td>13078.0</td>\n",
       "      <td>United Kingdom</td>\n",
       "    </tr>\n",
       "    <tr>\n",
       "      <th>13</th>\n",
       "      <td>489436</td>\n",
       "      <td>21755</td>\n",
       "      <td>LOVE BUILDING BLOCK WORD</td>\n",
       "      <td>18</td>\n",
       "      <td>2009-12-01 09:06:00</td>\n",
       "      <td>5.45</td>\n",
       "      <td>13078.0</td>\n",
       "      <td>United Kingdom</td>\n",
       "    </tr>\n",
       "    <tr>\n",
       "      <th>14</th>\n",
       "      <td>489436</td>\n",
       "      <td>21754</td>\n",
       "      <td>HOME BUILDING BLOCK WORD</td>\n",
       "      <td>3</td>\n",
       "      <td>2009-12-01 09:06:00</td>\n",
       "      <td>5.95</td>\n",
       "      <td>13078.0</td>\n",
       "      <td>United Kingdom</td>\n",
       "    </tr>\n",
       "    <tr>\n",
       "      <th>15</th>\n",
       "      <td>489436</td>\n",
       "      <td>84879</td>\n",
       "      <td>ASSORTED COLOUR BIRD ORNAMENT</td>\n",
       "      <td>16</td>\n",
       "      <td>2009-12-01 09:06:00</td>\n",
       "      <td>1.69</td>\n",
       "      <td>13078.0</td>\n",
       "      <td>United Kingdom</td>\n",
       "    </tr>\n",
       "    <tr>\n",
       "      <th>16</th>\n",
       "      <td>489436</td>\n",
       "      <td>22119</td>\n",
       "      <td>PEACE WOODEN BLOCK LETTERS</td>\n",
       "      <td>3</td>\n",
       "      <td>2009-12-01 09:06:00</td>\n",
       "      <td>6.95</td>\n",
       "      <td>13078.0</td>\n",
       "      <td>United Kingdom</td>\n",
       "    </tr>\n",
       "    <tr>\n",
       "      <th>17</th>\n",
       "      <td>489436</td>\n",
       "      <td>22142</td>\n",
       "      <td>CHRISTMAS CRAFT WHITE FAIRY</td>\n",
       "      <td>12</td>\n",
       "      <td>2009-12-01 09:06:00</td>\n",
       "      <td>1.45</td>\n",
       "      <td>13078.0</td>\n",
       "      <td>United Kingdom</td>\n",
       "    </tr>\n",
       "    <tr>\n",
       "      <th>18</th>\n",
       "      <td>489436</td>\n",
       "      <td>22296</td>\n",
       "      <td>HEART IVORY TRELLIS LARGE</td>\n",
       "      <td>12</td>\n",
       "      <td>2009-12-01 09:06:00</td>\n",
       "      <td>1.65</td>\n",
       "      <td>13078.0</td>\n",
       "      <td>United Kingdom</td>\n",
       "    </tr>\n",
       "    <tr>\n",
       "      <th>19</th>\n",
       "      <td>489436</td>\n",
       "      <td>22295</td>\n",
       "      <td>HEART FILIGREE DOVE LARGE</td>\n",
       "      <td>12</td>\n",
       "      <td>2009-12-01 09:06:00</td>\n",
       "      <td>1.65</td>\n",
       "      <td>13078.0</td>\n",
       "      <td>United Kingdom</td>\n",
       "    </tr>\n",
       "  </tbody>\n",
       "</table>\n",
       "</div>"
      ],
      "text/plain": [
       "   Invoice StockCode                          Description  Quantity  \\\n",
       "0   489434     85048  15CM CHRISTMAS GLASS BALL 20 LIGHTS        12   \n",
       "1   489434    79323P                   PINK CHERRY LIGHTS        12   \n",
       "2   489434    79323W                  WHITE CHERRY LIGHTS        12   \n",
       "3   489434     22041         RECORD FRAME 7\" SINGLE SIZE         48   \n",
       "4   489434     21232       STRAWBERRY CERAMIC TRINKET BOX        24   \n",
       "5   489434     22064           PINK DOUGHNUT TRINKET POT         24   \n",
       "6   489434     21871                  SAVE THE PLANET MUG        24   \n",
       "7   489434     21523   FANCY FONT HOME SWEET HOME DOORMAT        10   \n",
       "8   489435     22350                            CAT BOWL         12   \n",
       "9   489435     22349       DOG BOWL , CHASING BALL DESIGN        12   \n",
       "10  489435     22195         HEART MEASURING SPOONS LARGE        24   \n",
       "11  489435     22353   LUNCHBOX WITH CUTLERY FAIRY CAKES         12   \n",
       "12  489436    48173C                DOOR MAT BLACK FLOCK         10   \n",
       "13  489436     21755             LOVE BUILDING BLOCK WORD        18   \n",
       "14  489436     21754             HOME BUILDING BLOCK WORD         3   \n",
       "15  489436     84879        ASSORTED COLOUR BIRD ORNAMENT        16   \n",
       "16  489436     22119           PEACE WOODEN BLOCK LETTERS         3   \n",
       "17  489436     22142         CHRISTMAS CRAFT WHITE FAIRY         12   \n",
       "18  489436     22296            HEART IVORY TRELLIS LARGE        12   \n",
       "19  489436     22295            HEART FILIGREE DOVE LARGE        12   \n",
       "\n",
       "           InvoiceDate  Price  Customer ID         Country  \n",
       "0  2009-12-01 07:45:00   6.95      13085.0  United Kingdom  \n",
       "1  2009-12-01 07:45:00   6.75      13085.0  United Kingdom  \n",
       "2  2009-12-01 07:45:00   6.75      13085.0  United Kingdom  \n",
       "3  2009-12-01 07:45:00   2.10      13085.0  United Kingdom  \n",
       "4  2009-12-01 07:45:00   1.25      13085.0  United Kingdom  \n",
       "5  2009-12-01 07:45:00   1.65      13085.0  United Kingdom  \n",
       "6  2009-12-01 07:45:00   1.25      13085.0  United Kingdom  \n",
       "7  2009-12-01 07:45:00   5.95      13085.0  United Kingdom  \n",
       "8  2009-12-01 07:46:00   2.55      13085.0  United Kingdom  \n",
       "9  2009-12-01 07:46:00   3.75      13085.0  United Kingdom  \n",
       "10 2009-12-01 07:46:00   1.65      13085.0  United Kingdom  \n",
       "11 2009-12-01 07:46:00   2.55      13085.0  United Kingdom  \n",
       "12 2009-12-01 09:06:00   5.95      13078.0  United Kingdom  \n",
       "13 2009-12-01 09:06:00   5.45      13078.0  United Kingdom  \n",
       "14 2009-12-01 09:06:00   5.95      13078.0  United Kingdom  \n",
       "15 2009-12-01 09:06:00   1.69      13078.0  United Kingdom  \n",
       "16 2009-12-01 09:06:00   6.95      13078.0  United Kingdom  \n",
       "17 2009-12-01 09:06:00   1.45      13078.0  United Kingdom  \n",
       "18 2009-12-01 09:06:00   1.65      13078.0  United Kingdom  \n",
       "19 2009-12-01 09:06:00   1.65      13078.0  United Kingdom  "
      ]
     },
     "execution_count": 7,
     "metadata": {},
     "output_type": "execute_result"
    }
   ],
   "source": [
    "retail.head(20)"
   ]
  },
  {
   "cell_type": "markdown",
   "id": "2b149866",
   "metadata": {},
   "source": [
    "The following fields are required:\n",
    "\n",
    "- **item_id** (string) – A unique identifier for the item or product that you want to predict the demand for.\n",
    "- **timestamp** (timestamp)\n",
    "- **demand** (float) – The number of sales for that item at the timestamp. It's also the target field that Amazon Forecast generates a forecast for."
   ]
  },
  {
   "cell_type": "code",
   "execution_count": 8,
   "id": "504cb935",
   "metadata": {},
   "outputs": [],
   "source": [
    "retail = retail[['StockCode','Quantity','Price','Country','InvoiceDate']]"
   ]
  },
  {
   "cell_type": "code",
   "execution_count": 9,
   "id": "6a884bbc",
   "metadata": {},
   "outputs": [],
   "source": [
    "retail['InvoiceDate'] = pd.to_datetime(retail.InvoiceDate)\n",
    "retail = retail.set_index('InvoiceDate')"
   ]
  },
  {
   "cell_type": "code",
   "execution_count": 10,
   "id": "4424ba5b",
   "metadata": {},
   "outputs": [
    {
     "data": {
      "text/plain": [
       "(417534, 4)"
      ]
     },
     "execution_count": 10,
     "metadata": {},
     "output_type": "execute_result"
    }
   ],
   "source": [
    "retail.shape"
   ]
  },
  {
   "cell_type": "code",
   "execution_count": 11,
   "id": "8238ad23",
   "metadata": {},
   "outputs": [
    {
     "data": {
      "text/html": [
       "<div>\n",
       "<style scoped>\n",
       "    .dataframe tbody tr th:only-of-type {\n",
       "        vertical-align: middle;\n",
       "    }\n",
       "\n",
       "    .dataframe tbody tr th {\n",
       "        vertical-align: top;\n",
       "    }\n",
       "\n",
       "    .dataframe thead th {\n",
       "        text-align: right;\n",
       "    }\n",
       "</style>\n",
       "<table border=\"1\" class=\"dataframe\">\n",
       "  <thead>\n",
       "    <tr style=\"text-align: right;\">\n",
       "      <th></th>\n",
       "      <th>StockCode</th>\n",
       "      <th>Quantity</th>\n",
       "      <th>Price</th>\n",
       "      <th>Country</th>\n",
       "    </tr>\n",
       "    <tr>\n",
       "      <th>InvoiceDate</th>\n",
       "      <th></th>\n",
       "      <th></th>\n",
       "      <th></th>\n",
       "      <th></th>\n",
       "    </tr>\n",
       "  </thead>\n",
       "  <tbody>\n",
       "    <tr>\n",
       "      <th>2009-12-01 07:45:00</th>\n",
       "      <td>85048</td>\n",
       "      <td>12</td>\n",
       "      <td>6.95</td>\n",
       "      <td>United Kingdom</td>\n",
       "    </tr>\n",
       "    <tr>\n",
       "      <th>2009-12-01 07:45:00</th>\n",
       "      <td>79323P</td>\n",
       "      <td>12</td>\n",
       "      <td>6.75</td>\n",
       "      <td>United Kingdom</td>\n",
       "    </tr>\n",
       "    <tr>\n",
       "      <th>2009-12-01 07:45:00</th>\n",
       "      <td>79323W</td>\n",
       "      <td>12</td>\n",
       "      <td>6.75</td>\n",
       "      <td>United Kingdom</td>\n",
       "    </tr>\n",
       "    <tr>\n",
       "      <th>2009-12-01 07:45:00</th>\n",
       "      <td>22041</td>\n",
       "      <td>48</td>\n",
       "      <td>2.10</td>\n",
       "      <td>United Kingdom</td>\n",
       "    </tr>\n",
       "    <tr>\n",
       "      <th>2009-12-01 07:45:00</th>\n",
       "      <td>21232</td>\n",
       "      <td>24</td>\n",
       "      <td>1.25</td>\n",
       "      <td>United Kingdom</td>\n",
       "    </tr>\n",
       "  </tbody>\n",
       "</table>\n",
       "</div>"
      ],
      "text/plain": [
       "                    StockCode  Quantity  Price         Country\n",
       "InvoiceDate                                                   \n",
       "2009-12-01 07:45:00     85048        12   6.95  United Kingdom\n",
       "2009-12-01 07:45:00    79323P        12   6.75  United Kingdom\n",
       "2009-12-01 07:45:00    79323W        12   6.75  United Kingdom\n",
       "2009-12-01 07:45:00     22041        48   2.10  United Kingdom\n",
       "2009-12-01 07:45:00     21232        24   1.25  United Kingdom"
      ]
     },
     "execution_count": 11,
     "metadata": {},
     "output_type": "execute_result"
    }
   ],
   "source": [
    "retail.head()"
   ]
  },
  {
   "cell_type": "code",
   "execution_count": 12,
   "id": "a5428b3d",
   "metadata": {},
   "outputs": [
    {
     "data": {
      "text/html": [
       "<div>\n",
       "<style scoped>\n",
       "    .dataframe tbody tr th:only-of-type {\n",
       "        vertical-align: middle;\n",
       "    }\n",
       "\n",
       "    .dataframe tbody tr th {\n",
       "        vertical-align: top;\n",
       "    }\n",
       "\n",
       "    .dataframe thead th {\n",
       "        text-align: right;\n",
       "    }\n",
       "</style>\n",
       "<table border=\"1\" class=\"dataframe\">\n",
       "  <thead>\n",
       "    <tr style=\"text-align: right;\">\n",
       "      <th></th>\n",
       "      <th>StockCode</th>\n",
       "      <th>Quantity</th>\n",
       "      <th>Price</th>\n",
       "      <th>Country</th>\n",
       "    </tr>\n",
       "    <tr>\n",
       "      <th>InvoiceDate</th>\n",
       "      <th></th>\n",
       "      <th></th>\n",
       "      <th></th>\n",
       "      <th></th>\n",
       "    </tr>\n",
       "  </thead>\n",
       "  <tbody>\n",
       "    <tr>\n",
       "      <th>2010-01-04 09:24:00</th>\n",
       "      <td>TEST001</td>\n",
       "      <td>5</td>\n",
       "      <td>4.50</td>\n",
       "      <td>United Kingdom</td>\n",
       "    </tr>\n",
       "    <tr>\n",
       "      <th>2010-01-04 09:43:00</th>\n",
       "      <td>21539</td>\n",
       "      <td>-1</td>\n",
       "      <td>4.25</td>\n",
       "      <td>United Kingdom</td>\n",
       "    </tr>\n",
       "    <tr>\n",
       "      <th>2010-01-04 09:53:00</th>\n",
       "      <td>TEST001</td>\n",
       "      <td>5</td>\n",
       "      <td>4.50</td>\n",
       "      <td>United Kingdom</td>\n",
       "    </tr>\n",
       "    <tr>\n",
       "      <th>2010-01-04 10:28:00</th>\n",
       "      <td>21844</td>\n",
       "      <td>36</td>\n",
       "      <td>2.55</td>\n",
       "      <td>United Kingdom</td>\n",
       "    </tr>\n",
       "    <tr>\n",
       "      <th>2010-01-04 10:28:00</th>\n",
       "      <td>21533</td>\n",
       "      <td>12</td>\n",
       "      <td>4.25</td>\n",
       "      <td>United Kingdom</td>\n",
       "    </tr>\n",
       "    <tr>\n",
       "      <th>...</th>\n",
       "      <td>...</td>\n",
       "      <td>...</td>\n",
       "      <td>...</td>\n",
       "      <td>...</td>\n",
       "    </tr>\n",
       "    <tr>\n",
       "      <th>2010-01-04 17:39:00</th>\n",
       "      <td>90214G</td>\n",
       "      <td>1</td>\n",
       "      <td>1.25</td>\n",
       "      <td>United Kingdom</td>\n",
       "    </tr>\n",
       "    <tr>\n",
       "      <th>2010-01-04 17:39:00</th>\n",
       "      <td>90214N</td>\n",
       "      <td>1</td>\n",
       "      <td>1.25</td>\n",
       "      <td>United Kingdom</td>\n",
       "    </tr>\n",
       "    <tr>\n",
       "      <th>2010-01-04 17:39:00</th>\n",
       "      <td>90214N</td>\n",
       "      <td>1</td>\n",
       "      <td>1.25</td>\n",
       "      <td>United Kingdom</td>\n",
       "    </tr>\n",
       "    <tr>\n",
       "      <th>2010-01-04 17:39:00</th>\n",
       "      <td>90214C</td>\n",
       "      <td>1</td>\n",
       "      <td>1.25</td>\n",
       "      <td>United Kingdom</td>\n",
       "    </tr>\n",
       "    <tr>\n",
       "      <th>2010-01-04 17:39:00</th>\n",
       "      <td>21690</td>\n",
       "      <td>2</td>\n",
       "      <td>3.75</td>\n",
       "      <td>United Kingdom</td>\n",
       "    </tr>\n",
       "  </tbody>\n",
       "</table>\n",
       "<p>633 rows × 4 columns</p>\n",
       "</div>"
      ],
      "text/plain": [
       "                    StockCode  Quantity  Price         Country\n",
       "InvoiceDate                                                   \n",
       "2010-01-04 09:24:00   TEST001         5   4.50  United Kingdom\n",
       "2010-01-04 09:43:00     21539        -1   4.25  United Kingdom\n",
       "2010-01-04 09:53:00   TEST001         5   4.50  United Kingdom\n",
       "2010-01-04 10:28:00     21844        36   2.55  United Kingdom\n",
       "2010-01-04 10:28:00     21533        12   4.25  United Kingdom\n",
       "...                       ...       ...    ...             ...\n",
       "2010-01-04 17:39:00    90214G         1   1.25  United Kingdom\n",
       "2010-01-04 17:39:00    90214N         1   1.25  United Kingdom\n",
       "2010-01-04 17:39:00    90214N         1   1.25  United Kingdom\n",
       "2010-01-04 17:39:00    90214C         1   1.25  United Kingdom\n",
       "2010-01-04 17:39:00     21690         2   3.75  United Kingdom\n",
       "\n",
       "[633 rows x 4 columns]"
      ]
     },
     "execution_count": 12,
     "metadata": {},
     "output_type": "execute_result"
    }
   ],
   "source": [
    "retail['2010-01-04']"
   ]
  },
  {
   "cell_type": "code",
   "execution_count": 13,
   "id": "50a09a59",
   "metadata": {},
   "outputs": [
    {
     "data": {
      "text/html": [
       "<div>\n",
       "<style scoped>\n",
       "    .dataframe tbody tr th:only-of-type {\n",
       "        vertical-align: middle;\n",
       "    }\n",
       "\n",
       "    .dataframe tbody tr th {\n",
       "        vertical-align: top;\n",
       "    }\n",
       "\n",
       "    .dataframe thead th {\n",
       "        text-align: right;\n",
       "    }\n",
       "</style>\n",
       "<table border=\"1\" class=\"dataframe\">\n",
       "  <thead>\n",
       "    <tr style=\"text-align: right;\">\n",
       "      <th></th>\n",
       "      <th>StockCode</th>\n",
       "      <th>Quantity</th>\n",
       "      <th>Price</th>\n",
       "      <th>Country</th>\n",
       "    </tr>\n",
       "    <tr>\n",
       "      <th>InvoiceDate</th>\n",
       "      <th></th>\n",
       "      <th></th>\n",
       "      <th></th>\n",
       "      <th></th>\n",
       "    </tr>\n",
       "  </thead>\n",
       "  <tbody>\n",
       "    <tr>\n",
       "      <th>2010-01-04 09:24:00</th>\n",
       "      <td>TEST001</td>\n",
       "      <td>5</td>\n",
       "      <td>4.50</td>\n",
       "      <td>United Kingdom</td>\n",
       "    </tr>\n",
       "    <tr>\n",
       "      <th>2010-01-04 09:43:00</th>\n",
       "      <td>21539</td>\n",
       "      <td>-1</td>\n",
       "      <td>4.25</td>\n",
       "      <td>United Kingdom</td>\n",
       "    </tr>\n",
       "    <tr>\n",
       "      <th>2010-01-04 09:53:00</th>\n",
       "      <td>TEST001</td>\n",
       "      <td>5</td>\n",
       "      <td>4.50</td>\n",
       "      <td>United Kingdom</td>\n",
       "    </tr>\n",
       "    <tr>\n",
       "      <th>2010-01-04 10:28:00</th>\n",
       "      <td>21844</td>\n",
       "      <td>36</td>\n",
       "      <td>2.55</td>\n",
       "      <td>United Kingdom</td>\n",
       "    </tr>\n",
       "    <tr>\n",
       "      <th>2010-01-04 10:28:00</th>\n",
       "      <td>21533</td>\n",
       "      <td>12</td>\n",
       "      <td>4.25</td>\n",
       "      <td>United Kingdom</td>\n",
       "    </tr>\n",
       "    <tr>\n",
       "      <th>...</th>\n",
       "      <td>...</td>\n",
       "      <td>...</td>\n",
       "      <td>...</td>\n",
       "      <td>...</td>\n",
       "    </tr>\n",
       "    <tr>\n",
       "      <th>2010-02-28 16:14:00</th>\n",
       "      <td>84279B</td>\n",
       "      <td>1</td>\n",
       "      <td>3.75</td>\n",
       "      <td>United Kingdom</td>\n",
       "    </tr>\n",
       "    <tr>\n",
       "      <th>2010-02-28 16:14:00</th>\n",
       "      <td>84882</td>\n",
       "      <td>1</td>\n",
       "      <td>3.75</td>\n",
       "      <td>United Kingdom</td>\n",
       "    </tr>\n",
       "    <tr>\n",
       "      <th>2010-02-28 16:14:00</th>\n",
       "      <td>84882</td>\n",
       "      <td>1</td>\n",
       "      <td>3.75</td>\n",
       "      <td>United Kingdom</td>\n",
       "    </tr>\n",
       "    <tr>\n",
       "      <th>2010-02-28 16:14:00</th>\n",
       "      <td>44242B</td>\n",
       "      <td>5</td>\n",
       "      <td>1.25</td>\n",
       "      <td>United Kingdom</td>\n",
       "    </tr>\n",
       "    <tr>\n",
       "      <th>2010-02-28 16:16:00</th>\n",
       "      <td>10133</td>\n",
       "      <td>40</td>\n",
       "      <td>0.85</td>\n",
       "      <td>United Kingdom</td>\n",
       "    </tr>\n",
       "  </tbody>\n",
       "</table>\n",
       "<p>46345 rows × 4 columns</p>\n",
       "</div>"
      ],
      "text/plain": [
       "                    StockCode  Quantity  Price         Country\n",
       "InvoiceDate                                                   \n",
       "2010-01-04 09:24:00   TEST001         5   4.50  United Kingdom\n",
       "2010-01-04 09:43:00     21539        -1   4.25  United Kingdom\n",
       "2010-01-04 09:53:00   TEST001         5   4.50  United Kingdom\n",
       "2010-01-04 10:28:00     21844        36   2.55  United Kingdom\n",
       "2010-01-04 10:28:00     21533        12   4.25  United Kingdom\n",
       "...                       ...       ...    ...             ...\n",
       "2010-02-28 16:14:00    84279B         1   3.75  United Kingdom\n",
       "2010-02-28 16:14:00     84882         1   3.75  United Kingdom\n",
       "2010-02-28 16:14:00     84882         1   3.75  United Kingdom\n",
       "2010-02-28 16:14:00    44242B         5   1.25  United Kingdom\n",
       "2010-02-28 16:16:00     10133        40   0.85  United Kingdom\n",
       "\n",
       "[46345 rows x 4 columns]"
      ]
     },
     "execution_count": 13,
     "metadata": {},
     "output_type": "execute_result"
    }
   ],
   "source": [
    "retail['2010-01':'2010-02']"
   ]
  },
  {
   "cell_type": "code",
   "execution_count": 14,
   "id": "377151b3",
   "metadata": {},
   "outputs": [
    {
     "data": {
      "text/plain": [
       "Timestamp('2009-12-01 07:45:00')"
      ]
     },
     "execution_count": 14,
     "metadata": {},
     "output_type": "execute_result"
    }
   ],
   "source": [
    "retail.index.min()"
   ]
  },
  {
   "cell_type": "code",
   "execution_count": 15,
   "id": "93138d3b",
   "metadata": {},
   "outputs": [
    {
     "data": {
      "text/plain": [
       "Timestamp('2010-12-09 20:01:00')"
      ]
     },
     "execution_count": 15,
     "metadata": {},
     "output_type": "execute_result"
    }
   ],
   "source": [
    "retail.index.max()"
   ]
  },
  {
   "cell_type": "code",
   "execution_count": 16,
   "id": "4d47d105",
   "metadata": {},
   "outputs": [],
   "source": [
    "retail['Year'] = retail.index.year\n",
    "retail['Month'] = retail.index.month\n",
    "retail['weekday_name'] = retail.index.day_name()"
   ]
  },
  {
   "cell_type": "code",
   "execution_count": 17,
   "id": "60277d3e",
   "metadata": {},
   "outputs": [
    {
     "data": {
      "text/html": [
       "<div>\n",
       "<style scoped>\n",
       "    .dataframe tbody tr th:only-of-type {\n",
       "        vertical-align: middle;\n",
       "    }\n",
       "\n",
       "    .dataframe tbody tr th {\n",
       "        vertical-align: top;\n",
       "    }\n",
       "\n",
       "    .dataframe thead th {\n",
       "        text-align: right;\n",
       "    }\n",
       "</style>\n",
       "<table border=\"1\" class=\"dataframe\">\n",
       "  <thead>\n",
       "    <tr style=\"text-align: right;\">\n",
       "      <th></th>\n",
       "      <th>StockCode</th>\n",
       "      <th>Quantity</th>\n",
       "      <th>Price</th>\n",
       "      <th>Country</th>\n",
       "      <th>Year</th>\n",
       "      <th>Month</th>\n",
       "      <th>weekday_name</th>\n",
       "    </tr>\n",
       "    <tr>\n",
       "      <th>InvoiceDate</th>\n",
       "      <th></th>\n",
       "      <th></th>\n",
       "      <th></th>\n",
       "      <th></th>\n",
       "      <th></th>\n",
       "      <th></th>\n",
       "      <th></th>\n",
       "    </tr>\n",
       "  </thead>\n",
       "  <tbody>\n",
       "    <tr>\n",
       "      <th>2009-12-01 07:45:00</th>\n",
       "      <td>85048</td>\n",
       "      <td>12</td>\n",
       "      <td>6.95</td>\n",
       "      <td>United Kingdom</td>\n",
       "      <td>2009</td>\n",
       "      <td>12</td>\n",
       "      <td>Tuesday</td>\n",
       "    </tr>\n",
       "    <tr>\n",
       "      <th>2009-12-01 07:45:00</th>\n",
       "      <td>79323P</td>\n",
       "      <td>12</td>\n",
       "      <td>6.75</td>\n",
       "      <td>United Kingdom</td>\n",
       "      <td>2009</td>\n",
       "      <td>12</td>\n",
       "      <td>Tuesday</td>\n",
       "    </tr>\n",
       "    <tr>\n",
       "      <th>2009-12-01 07:45:00</th>\n",
       "      <td>79323W</td>\n",
       "      <td>12</td>\n",
       "      <td>6.75</td>\n",
       "      <td>United Kingdom</td>\n",
       "      <td>2009</td>\n",
       "      <td>12</td>\n",
       "      <td>Tuesday</td>\n",
       "    </tr>\n",
       "    <tr>\n",
       "      <th>2009-12-01 07:45:00</th>\n",
       "      <td>22041</td>\n",
       "      <td>48</td>\n",
       "      <td>2.10</td>\n",
       "      <td>United Kingdom</td>\n",
       "      <td>2009</td>\n",
       "      <td>12</td>\n",
       "      <td>Tuesday</td>\n",
       "    </tr>\n",
       "    <tr>\n",
       "      <th>2009-12-01 07:45:00</th>\n",
       "      <td>21232</td>\n",
       "      <td>24</td>\n",
       "      <td>1.25</td>\n",
       "      <td>United Kingdom</td>\n",
       "      <td>2009</td>\n",
       "      <td>12</td>\n",
       "      <td>Tuesday</td>\n",
       "    </tr>\n",
       "  </tbody>\n",
       "</table>\n",
       "</div>"
      ],
      "text/plain": [
       "                    StockCode  Quantity  Price         Country  Year  Month  \\\n",
       "InvoiceDate                                                                   \n",
       "2009-12-01 07:45:00     85048        12   6.95  United Kingdom  2009     12   \n",
       "2009-12-01 07:45:00    79323P        12   6.75  United Kingdom  2009     12   \n",
       "2009-12-01 07:45:00    79323W        12   6.75  United Kingdom  2009     12   \n",
       "2009-12-01 07:45:00     22041        48   2.10  United Kingdom  2009     12   \n",
       "2009-12-01 07:45:00     21232        24   1.25  United Kingdom  2009     12   \n",
       "\n",
       "                    weekday_name  \n",
       "InvoiceDate                       \n",
       "2009-12-01 07:45:00      Tuesday  \n",
       "2009-12-01 07:45:00      Tuesday  \n",
       "2009-12-01 07:45:00      Tuesday  \n",
       "2009-12-01 07:45:00      Tuesday  \n",
       "2009-12-01 07:45:00      Tuesday  "
      ]
     },
     "execution_count": 17,
     "metadata": {},
     "output_type": "execute_result"
    }
   ],
   "source": [
    "retail.head()"
   ]
  },
  {
   "cell_type": "code",
   "execution_count": 18,
   "id": "313ed615",
   "metadata": {},
   "outputs": [
    {
     "data": {
      "text/plain": [
       "<Axes: >"
      ]
     },
     "execution_count": 18,
     "metadata": {},
     "output_type": "execute_result"
    },
    {
     "data": {
      "image/png": "[encoded data removed]",
      "text/plain": [
       "<Figure size 640x480 with 1 Axes>"
      ]
     },
     "metadata": {},
     "output_type": "display_data"
    }
   ],
   "source": [
    "retail.Month.value_counts(sort=False).plot(kind='bar')"
   ]
  },
  {
   "cell_type": "markdown",
   "id": "edc63da6",
   "metadata": {},
   "source": [
    "1. November and December seem to be higher than the rest of the year.\n",
    "2. Q4 seems to be higher than other quarters.\n",
    "3. For Q1, Q2, and Q3: The last month of the quarter (months 3, 6, and 9) seem to have spikes."
   ]
  },
  {
   "cell_type": "code",
   "execution_count": 19,
   "id": "054ad87b",
   "metadata": {},
   "outputs": [
    {
     "data": {
      "text/plain": [
       "<Axes: >"
      ]
     },
     "execution_count": 19,
     "metadata": {},
     "output_type": "execute_result"
    },
    {
     "data": {
      "image/png": "[encoded data removed]",
      "text/plain": [
       "<Figure size 640x480 with 1 Axes>"
      ]
     },
     "metadata": {},
     "output_type": "display_data"
    }
   ],
   "source": [
    "day_order = [\"Monday\", \"Tuesday\", \"Wednesday\", \"Thursday\", \"Friday\", \"Saturday\", \"Sunday\"]\n",
    "retail.weekday_name.value_counts(sort=False).loc[day_order].plot(kind='bar')"
   ]
  },
  {
   "cell_type": "markdown",
   "id": "3d8affde",
   "metadata": {},
   "source": [
    "Very low orders at Saturday<br>\n",
    "Probably day-off/closed at Saturday"
   ]
  },
  {
   "cell_type": "code",
   "execution_count": 20,
   "id": "36458a9a",
   "metadata": {},
   "outputs": [
    {
     "data": {
      "text/plain": [
       "array(['United Kingdom', 'France', 'USA', 'Belgium', 'Australia', 'EIRE',\n",
       "       'Germany', 'Portugal', 'Japan', 'Denmark', 'Netherlands', 'Poland',\n",
       "       'Spain', 'Channel Islands', 'Italy', 'Cyprus', 'Greece', 'Norway',\n",
       "       'Austria', 'Sweden', 'United Arab Emirates', 'Finland',\n",
       "       'Switzerland', 'Unspecified', 'Nigeria', 'Malta', 'RSA',\n",
       "       'Singapore', 'Bahrain', 'Thailand', 'Israel', 'Lithuania',\n",
       "       'West Indies', 'Korea', 'Brazil', 'Canada', 'Iceland'],\n",
       "      dtype=object)"
      ]
     },
     "execution_count": 20,
     "metadata": {},
     "output_type": "execute_result"
    }
   ],
   "source": [
    "retail.Country.unique()"
   ]
  },
  {
   "cell_type": "code",
   "execution_count": 21,
   "id": "d6c8d711",
   "metadata": {},
   "outputs": [
    {
     "data": {
      "text/plain": [
       "United Kingdom          379423\n",
       "EIRE                      8710\n",
       "Germany                   8129\n",
       "France                    5710\n",
       "Netherlands               2769\n",
       "Spain                     1278\n",
       "Switzerland               1187\n",
       "Belgium                   1054\n",
       "Portugal                  1024\n",
       "Channel Islands            906\n",
       "Sweden                     883\n",
       "Italy                      731\n",
       "Australia                  654\n",
       "Cyprus                     554\n",
       "Austria                    537\n",
       "Greece                     517\n",
       "Denmark                    428\n",
       "Norway                     369\n",
       "Finland                    354\n",
       "United Arab Emirates       318\n",
       "Unspecified                280\n",
       "USA                        244\n",
       "Japan                      224\n",
       "Poland                     194\n",
       "Malta                      172\n",
       "Lithuania                  154\n",
       "Singapore                  117\n",
       "Canada                      77\n",
       "Thailand                    76\n",
       "Israel                      74\n",
       "Iceland                     71\n",
       "RSA                         65\n",
       "Korea                       63\n",
       "Brazil                      62\n",
       "West Indies                 54\n",
       "Bahrain                     42\n",
       "Nigeria                     30\n",
       "Name: Country, dtype: int64"
      ]
     },
     "execution_count": 21,
     "metadata": {},
     "output_type": "execute_result"
    }
   ],
   "source": [
    "retail.Country.value_counts()"
   ]
  },
  {
   "cell_type": "code",
   "execution_count": 22,
   "id": "e5a9ba5a",
   "metadata": {},
   "outputs": [],
   "source": [
    "country_filter = ['United Kingdom']\n",
    "retail = retail[retail.Country.isin(country_filter)]"
   ]
  },
  {
   "cell_type": "code",
   "execution_count": 23,
   "id": "9a885e0a",
   "metadata": {},
   "outputs": [],
   "source": [
    "retail = retail[['StockCode','Quantity','Price']]"
   ]
  },
  {
   "cell_type": "code",
   "execution_count": 24,
   "id": "c5778eb8",
   "metadata": {},
   "outputs": [
    {
     "data": {
      "text/html": [
       "<div>\n",
       "<style scoped>\n",
       "    .dataframe tbody tr th:only-of-type {\n",
       "        vertical-align: middle;\n",
       "    }\n",
       "\n",
       "    .dataframe tbody tr th {\n",
       "        vertical-align: top;\n",
       "    }\n",
       "\n",
       "    .dataframe thead th {\n",
       "        text-align: right;\n",
       "    }\n",
       "</style>\n",
       "<table border=\"1\" class=\"dataframe\">\n",
       "  <thead>\n",
       "    <tr style=\"text-align: right;\">\n",
       "      <th></th>\n",
       "      <th>StockCode</th>\n",
       "      <th>Quantity</th>\n",
       "      <th>Price</th>\n",
       "    </tr>\n",
       "    <tr>\n",
       "      <th>InvoiceDate</th>\n",
       "      <th></th>\n",
       "      <th></th>\n",
       "      <th></th>\n",
       "    </tr>\n",
       "  </thead>\n",
       "  <tbody>\n",
       "    <tr>\n",
       "      <th>2009-12-01 07:45:00</th>\n",
       "      <td>85048</td>\n",
       "      <td>12</td>\n",
       "      <td>6.95</td>\n",
       "    </tr>\n",
       "    <tr>\n",
       "      <th>2009-12-01 07:45:00</th>\n",
       "      <td>79323P</td>\n",
       "      <td>12</td>\n",
       "      <td>6.75</td>\n",
       "    </tr>\n",
       "    <tr>\n",
       "      <th>2009-12-01 07:45:00</th>\n",
       "      <td>79323W</td>\n",
       "      <td>12</td>\n",
       "      <td>6.75</td>\n",
       "    </tr>\n",
       "    <tr>\n",
       "      <th>2009-12-01 07:45:00</th>\n",
       "      <td>22041</td>\n",
       "      <td>48</td>\n",
       "      <td>2.10</td>\n",
       "    </tr>\n",
       "    <tr>\n",
       "      <th>2009-12-01 07:45:00</th>\n",
       "      <td>21232</td>\n",
       "      <td>24</td>\n",
       "      <td>1.25</td>\n",
       "    </tr>\n",
       "  </tbody>\n",
       "</table>\n",
       "</div>"
      ],
      "text/plain": [
       "                    StockCode  Quantity  Price\n",
       "InvoiceDate                                   \n",
       "2009-12-01 07:45:00     85048        12   6.95\n",
       "2009-12-01 07:45:00    79323P        12   6.75\n",
       "2009-12-01 07:45:00    79323W        12   6.75\n",
       "2009-12-01 07:45:00     22041        48   2.10\n",
       "2009-12-01 07:45:00     21232        24   1.25"
      ]
     },
     "execution_count": 24,
     "metadata": {},
     "output_type": "execute_result"
    }
   ],
   "source": [
    "retail.head()"
   ]
  },
  {
   "cell_type": "code",
   "execution_count": 25,
   "id": "9044bd80",
   "metadata": {},
   "outputs": [
    {
     "data": {
      "text/plain": [
       "count     379423\n",
       "unique      4015\n",
       "top       85123A\n",
       "freq        3140\n",
       "Name: StockCode, dtype: object"
      ]
     },
     "execution_count": 25,
     "metadata": {},
     "output_type": "execute_result"
    }
   ],
   "source": [
    "retail.StockCode.describe()"
   ]
  },
  {
   "cell_type": "code",
   "execution_count": 26,
   "id": "b907b24d",
   "metadata": {},
   "outputs": [
    {
     "data": {
      "text/plain": [
       "<Axes: >"
      ]
     },
     "execution_count": 26,
     "metadata": {},
     "output_type": "execute_result"
    },
    {
     "data": {
      "image/png": "[encoded data removed]",
      "text/plain": [
       "<Figure size 640x480 with 1 Axes>"
      ]
     },
     "metadata": {},
     "output_type": "display_data"
    }
   ],
   "source": [
    "retail.StockCode.value_counts().plot()"
   ]
  },
  {
   "cell_type": "code",
   "execution_count": 27,
   "id": "44c4f548",
   "metadata": {},
   "outputs": [
    {
     "data": {
      "text/plain": [
       "count    379423.000000\n",
       "mean         11.451517\n",
       "std          68.943709\n",
       "min       -9360.000000\n",
       "25%           2.000000\n",
       "50%           4.000000\n",
       "75%          12.000000\n",
       "max       10000.000000\n",
       "Name: Quantity, dtype: float64"
      ]
     },
     "execution_count": 27,
     "metadata": {},
     "output_type": "execute_result"
    }
   ],
   "source": [
    "retail.Quantity.describe()"
   ]
  },
  {
   "cell_type": "code",
   "execution_count": 28,
   "id": "cf21d6a0",
   "metadata": {},
   "outputs": [
    {
     "data": {
      "text/plain": [
       "<Axes: xlabel='InvoiceDate'>"
      ]
     },
     "execution_count": 28,
     "metadata": {},
     "output_type": "execute_result"
    },
    {
     "data": {
      "image/png": "[encoded data removed]",
      "text/plain": [
       "<Figure size 640x480 with 1 Axes>"
      ]
     },
     "metadata": {},
     "output_type": "display_data"
    }
   ],
   "source": [
    "retail.Quantity.plot()"
   ]
  },
  {
   "cell_type": "code",
   "execution_count": 29,
   "id": "d0003c30",
   "metadata": {},
   "outputs": [],
   "source": [
    "retail = retail[retail.Quantity>0]"
   ]
  },
  {
   "cell_type": "code",
   "execution_count": 30,
   "id": "a46a5dcd",
   "metadata": {},
   "outputs": [
    {
     "data": {
      "text/plain": [
       "count    370951.000000\n",
       "mean          3.145220\n",
       "std          30.551482\n",
       "min           0.000000\n",
       "25%           1.250000\n",
       "50%           1.950000\n",
       "75%           3.750000\n",
       "max       10953.500000\n",
       "Name: Price, dtype: float64"
      ]
     },
     "execution_count": 30,
     "metadata": {},
     "output_type": "execute_result"
    }
   ],
   "source": [
    "retail.Price.describe()"
   ]
  },
  {
   "cell_type": "code",
   "execution_count": 31,
   "id": "f8106817",
   "metadata": {},
   "outputs": [
    {
     "data": {
      "text/plain": [
       "<Axes: xlabel='InvoiceDate'>"
      ]
     },
     "execution_count": 31,
     "metadata": {},
     "output_type": "execute_result"
    },
    {
     "data": {
      "image/png": "[encoded data removed]",
      "text/plain": [
       "<Figure size 640x480 with 1 Axes>"
      ]
     },
     "metadata": {},
     "output_type": "display_data"
    }
   ],
   "source": [
    "retail.Price.plot()"
   ]
  },
  {
   "cell_type": "code",
   "execution_count": 32,
   "id": "505b417a",
   "metadata": {},
   "outputs": [
    {
     "data": {
      "text/html": [
       "<div>\n",
       "<style scoped>\n",
       "    .dataframe tbody tr th:only-of-type {\n",
       "        vertical-align: middle;\n",
       "    }\n",
       "\n",
       "    .dataframe tbody tr th {\n",
       "        vertical-align: top;\n",
       "    }\n",
       "\n",
       "    .dataframe thead th {\n",
       "        text-align: right;\n",
       "    }\n",
       "</style>\n",
       "<table border=\"1\" class=\"dataframe\">\n",
       "  <thead>\n",
       "    <tr style=\"text-align: right;\">\n",
       "      <th></th>\n",
       "      <th>StockCode</th>\n",
       "      <th>Quantity</th>\n",
       "      <th>Price</th>\n",
       "    </tr>\n",
       "    <tr>\n",
       "      <th>InvoiceDate</th>\n",
       "      <th></th>\n",
       "      <th></th>\n",
       "      <th></th>\n",
       "    </tr>\n",
       "  </thead>\n",
       "  <tbody>\n",
       "    <tr>\n",
       "      <th>2009-12-10 11:50:00</th>\n",
       "      <td>M</td>\n",
       "      <td>1</td>\n",
       "      <td>1213.02</td>\n",
       "    </tr>\n",
       "    <tr>\n",
       "      <th>2010-01-29 11:04:00</th>\n",
       "      <td>M</td>\n",
       "      <td>1</td>\n",
       "      <td>8985.60</td>\n",
       "    </tr>\n",
       "    <tr>\n",
       "      <th>2010-03-23 15:22:00</th>\n",
       "      <td>M</td>\n",
       "      <td>1</td>\n",
       "      <td>10953.50</td>\n",
       "    </tr>\n",
       "    <tr>\n",
       "      <th>2010-06-08 16:39:00</th>\n",
       "      <td>M</td>\n",
       "      <td>1</td>\n",
       "      <td>849.45</td>\n",
       "    </tr>\n",
       "    <tr>\n",
       "      <th>2010-06-11 15:54:00</th>\n",
       "      <td>M</td>\n",
       "      <td>1</td>\n",
       "      <td>1000.63</td>\n",
       "    </tr>\n",
       "    <tr>\n",
       "      <th>2010-08-03 10:52:00</th>\n",
       "      <td>M</td>\n",
       "      <td>1</td>\n",
       "      <td>800.00</td>\n",
       "    </tr>\n",
       "    <tr>\n",
       "      <th>2010-08-11 15:56:00</th>\n",
       "      <td>M</td>\n",
       "      <td>1</td>\n",
       "      <td>800.00</td>\n",
       "    </tr>\n",
       "    <tr>\n",
       "      <th>2010-09-27 16:12:00</th>\n",
       "      <td>M</td>\n",
       "      <td>1</td>\n",
       "      <td>10468.80</td>\n",
       "    </tr>\n",
       "    <tr>\n",
       "      <th>2010-09-27 16:18:00</th>\n",
       "      <td>M</td>\n",
       "      <td>1</td>\n",
       "      <td>2769.90</td>\n",
       "    </tr>\n",
       "    <tr>\n",
       "      <th>2010-09-27 16:32:00</th>\n",
       "      <td>M</td>\n",
       "      <td>1</td>\n",
       "      <td>1343.44</td>\n",
       "    </tr>\n",
       "    <tr>\n",
       "      <th>2010-10-15 12:39:00</th>\n",
       "      <td>M</td>\n",
       "      <td>1</td>\n",
       "      <td>1108.44</td>\n",
       "    </tr>\n",
       "    <tr>\n",
       "      <th>2010-10-15 12:40:00</th>\n",
       "      <td>M</td>\n",
       "      <td>1</td>\n",
       "      <td>2667.88</td>\n",
       "    </tr>\n",
       "    <tr>\n",
       "      <th>2010-10-15 13:05:00</th>\n",
       "      <td>M</td>\n",
       "      <td>1</td>\n",
       "      <td>2225.17</td>\n",
       "    </tr>\n",
       "  </tbody>\n",
       "</table>\n",
       "</div>"
      ],
      "text/plain": [
       "                    StockCode  Quantity     Price\n",
       "InvoiceDate                                      \n",
       "2009-12-10 11:50:00         M         1   1213.02\n",
       "2010-01-29 11:04:00         M         1   8985.60\n",
       "2010-03-23 15:22:00         M         1  10953.50\n",
       "2010-06-08 16:39:00         M         1    849.45\n",
       "2010-06-11 15:54:00         M         1   1000.63\n",
       "2010-08-03 10:52:00         M         1    800.00\n",
       "2010-08-11 15:56:00         M         1    800.00\n",
       "2010-09-27 16:12:00         M         1  10468.80\n",
       "2010-09-27 16:18:00         M         1   2769.90\n",
       "2010-09-27 16:32:00         M         1   1343.44\n",
       "2010-10-15 12:39:00         M         1   1108.44\n",
       "2010-10-15 12:40:00         M         1   2667.88\n",
       "2010-10-15 13:05:00         M         1   2225.17"
      ]
     },
     "execution_count": 32,
     "metadata": {},
     "output_type": "execute_result"
    }
   ],
   "source": [
    "retail[retail.Price>500].head(20)"
   ]
  },
  {
   "cell_type": "code",
   "execution_count": 33,
   "id": "c82688f7",
   "metadata": {},
   "outputs": [],
   "source": [
    "retail = retail[retail.StockCode!='M']"
   ]
  },
  {
   "cell_type": "code",
   "execution_count": 35,
   "id": "910d0f3d",
   "metadata": {},
   "outputs": [
    {
     "data": {
      "text/plain": [
       "<Axes: xlabel='InvoiceDate'>"
      ]
     },
     "execution_count": 35,
     "metadata": {},
     "output_type": "execute_result"
    },
    {
     "data": {
      "image/png": "[encoded data removed]",
      "text/plain": [
       "<Figure size 640x480 with 1 Axes>"
      ]
     },
     "metadata": {},
     "output_type": "display_data"
    }
   ],
   "source": [
    "retail.Price.plot()"
   ]
  },
  {
   "cell_type": "code",
   "execution_count": 36,
   "id": "b7a16254",
   "metadata": {},
   "outputs": [
    {
     "data": {
      "text/plain": [
       "count    370576.000000\n",
       "mean          3.009463\n",
       "std           4.576951\n",
       "min           0.000000\n",
       "25%           1.250000\n",
       "50%           1.950000\n",
       "75%           3.750000\n",
       "max         387.540000\n",
       "Name: Price, dtype: float64"
      ]
     },
     "execution_count": 36,
     "metadata": {},
     "output_type": "execute_result"
    }
   ],
   "source": [
    "retail.Price.describe()"
   ]
  },
  {
   "cell_type": "code",
   "execution_count": 37,
   "id": "20da1565",
   "metadata": {},
   "outputs": [
    {
     "data": {
      "text/html": [
       "<div>\n",
       "<style scoped>\n",
       "    .dataframe tbody tr th:only-of-type {\n",
       "        vertical-align: middle;\n",
       "    }\n",
       "\n",
       "    .dataframe tbody tr th {\n",
       "        vertical-align: top;\n",
       "    }\n",
       "\n",
       "    .dataframe thead th {\n",
       "        text-align: right;\n",
       "    }\n",
       "</style>\n",
       "<table border=\"1\" class=\"dataframe\">\n",
       "  <thead>\n",
       "    <tr style=\"text-align: right;\">\n",
       "      <th></th>\n",
       "      <th>StockCode</th>\n",
       "      <th>Quantity</th>\n",
       "      <th>Price</th>\n",
       "    </tr>\n",
       "    <tr>\n",
       "      <th>InvoiceDate</th>\n",
       "      <th></th>\n",
       "      <th></th>\n",
       "      <th></th>\n",
       "    </tr>\n",
       "  </thead>\n",
       "  <tbody>\n",
       "    <tr>\n",
       "      <th>2010-01-26 16:29:00</th>\n",
       "      <td>ADJUST</td>\n",
       "      <td>1</td>\n",
       "      <td>342.80</td>\n",
       "    </tr>\n",
       "    <tr>\n",
       "      <th>2010-01-26 17:28:00</th>\n",
       "      <td>ADJUST</td>\n",
       "      <td>1</td>\n",
       "      <td>387.54</td>\n",
       "    </tr>\n",
       "    <tr>\n",
       "      <th>2010-06-25 14:15:00</th>\n",
       "      <td>ADJUST2</td>\n",
       "      <td>1</td>\n",
       "      <td>300.13</td>\n",
       "    </tr>\n",
       "    <tr>\n",
       "      <th>2010-06-25 14:15:00</th>\n",
       "      <td>ADJUST2</td>\n",
       "      <td>1</td>\n",
       "      <td>358.47</td>\n",
       "    </tr>\n",
       "    <tr>\n",
       "      <th>2010-08-04 11:38:00</th>\n",
       "      <td>POST</td>\n",
       "      <td>1</td>\n",
       "      <td>334.88</td>\n",
       "    </tr>\n",
       "  </tbody>\n",
       "</table>\n",
       "</div>"
      ],
      "text/plain": [
       "                    StockCode  Quantity   Price\n",
       "InvoiceDate                                    \n",
       "2010-01-26 16:29:00    ADJUST         1  342.80\n",
       "2010-01-26 17:28:00    ADJUST         1  387.54\n",
       "2010-06-25 14:15:00   ADJUST2         1  300.13\n",
       "2010-06-25 14:15:00   ADJUST2         1  358.47\n",
       "2010-08-04 11:38:00      POST         1  334.88"
      ]
     },
     "execution_count": 37,
     "metadata": {},
     "output_type": "execute_result"
    }
   ],
   "source": [
    "retail[retail.Price>300].head(20)"
   ]
  },
  {
   "cell_type": "code",
   "execution_count": 38,
   "id": "271a22b2",
   "metadata": {},
   "outputs": [],
   "source": [
    "stockcodes = ['ADJUST', 'ADJUST2', 'POST']\n",
    "retail = retail[~retail.StockCode.isin(stockcodes)]"
   ]
  },
  {
   "cell_type": "code",
   "execution_count": 39,
   "id": "11f12244",
   "metadata": {},
   "outputs": [
    {
     "data": {
      "text/plain": [
       "<Axes: xlabel='InvoiceDate'>"
      ]
     },
     "execution_count": 39,
     "metadata": {},
     "output_type": "execute_result"
    },
    {
     "data": {
      "image/png": "[encoded data removed]",
      "text/plain": [
       "<Figure size 640x480 with 1 Axes>"
      ]
     },
     "metadata": {},
     "output_type": "display_data"
    }
   ],
   "source": [
    "retail.Price.plot()"
   ]
  },
  {
   "cell_type": "code",
   "execution_count": 40,
   "id": "aa8fed7c",
   "metadata": {},
   "outputs": [
    {
     "data": {
      "text/plain": [
       "count    370554.000000\n",
       "mean          3.002500\n",
       "std           4.363688\n",
       "min           0.000000\n",
       "25%           1.250000\n",
       "50%           1.950000\n",
       "75%           3.750000\n",
       "max         295.000000\n",
       "Name: Price, dtype: float64"
      ]
     },
     "execution_count": 40,
     "metadata": {},
     "output_type": "execute_result"
    }
   ],
   "source": [
    "retail.Price.describe()"
   ]
  },
  {
   "cell_type": "code",
   "execution_count": 41,
   "id": "382354b1",
   "metadata": {},
   "outputs": [
    {
     "data": {
      "text/plain": [
       "<bound method DataFrame.count of                     StockCode  Quantity  Price\n",
       "InvoiceDate                                   \n",
       "2009-12-02 13:34:00     22076        12    0.0\n",
       "2009-12-03 11:19:00     48185         2    0.0\n",
       "2009-12-08 15:25:00     22065         1    0.0\n",
       "2009-12-08 15:25:00     22142        12    0.0\n",
       "2009-12-15 13:49:00     85042         8    0.0\n",
       "2009-12-18 14:22:00     21143        12    0.0\n",
       "2010-01-06 14:54:00     79320        24    0.0\n",
       "2010-01-15 12:43:00     21533        12    0.0\n",
       "2010-02-12 14:58:00   TEST001         5    0.0\n",
       "2010-02-12 15:47:00   TEST001         5    0.0\n",
       "2010-03-04 11:44:00     21662         1    0.0\n",
       "2010-04-01 17:13:00     22459         8    0.0\n",
       "2010-04-01 17:13:00     22458         8    0.0\n",
       "2010-06-11 11:12:00     21765         1    0.0\n",
       "2010-06-17 10:12:00     20914         2    0.0\n",
       "2010-06-24 12:34:00     22423         5    0.0\n",
       "2010-07-19 13:13:00     22690         6    0.0\n",
       "2010-09-27 16:59:00    46000M       648    0.0\n",
       "2010-09-30 12:19:00     22218         2    0.0\n",
       "2010-10-18 15:13:00     22121         1    0.0\n",
       "2010-11-07 14:26:00     21843         2    0.0>"
      ]
     },
     "execution_count": 41,
     "metadata": {},
     "output_type": "execute_result"
    }
   ],
   "source": [
    "retail[retail.Price==0].count"
   ]
  },
  {
   "cell_type": "code",
   "execution_count": 43,
   "id": "a9c7292d",
   "metadata": {},
   "outputs": [],
   "source": [
    "retail = retail[retail.Price>0]"
   ]
  },
  {
   "cell_type": "code",
   "execution_count": 44,
   "id": "4df51396",
   "metadata": {},
   "outputs": [
    {
     "data": {
      "text/plain": [
       "(370533, 3)"
      ]
     },
     "execution_count": 44,
     "metadata": {},
     "output_type": "execute_result"
    }
   ],
   "source": [
    "retail.shape"
   ]
  },
  {
   "cell_type": "code",
   "execution_count": 45,
   "id": "80cc9fd7",
   "metadata": {},
   "outputs": [],
   "source": [
    "df_time_series = retail[['StockCode','Quantity']]\n",
    "df_related_time_series = retail[['StockCode','Price']]"
   ]
  },
  {
   "cell_type": "code",
   "execution_count": 46,
   "id": "81f10881",
   "metadata": {},
   "outputs": [
    {
     "data": {
      "text/html": [
       "<div>\n",
       "<style scoped>\n",
       "    .dataframe tbody tr th:only-of-type {\n",
       "        vertical-align: middle;\n",
       "    }\n",
       "\n",
       "    .dataframe tbody tr th {\n",
       "        vertical-align: top;\n",
       "    }\n",
       "\n",
       "    .dataframe thead th {\n",
       "        text-align: right;\n",
       "    }\n",
       "</style>\n",
       "<table border=\"1\" class=\"dataframe\">\n",
       "  <thead>\n",
       "    <tr style=\"text-align: right;\">\n",
       "      <th></th>\n",
       "      <th>StockCode</th>\n",
       "      <th>Quantity</th>\n",
       "    </tr>\n",
       "    <tr>\n",
       "      <th>InvoiceDate</th>\n",
       "      <th></th>\n",
       "      <th></th>\n",
       "    </tr>\n",
       "  </thead>\n",
       "  <tbody>\n",
       "    <tr>\n",
       "      <th>2009-12-01 07:45:00</th>\n",
       "      <td>21232</td>\n",
       "      <td>24</td>\n",
       "    </tr>\n",
       "    <tr>\n",
       "      <th>2009-12-01 10:49:00</th>\n",
       "      <td>21232</td>\n",
       "      <td>48</td>\n",
       "    </tr>\n",
       "    <tr>\n",
       "      <th>2009-12-01 12:13:00</th>\n",
       "      <td>21232</td>\n",
       "      <td>3</td>\n",
       "    </tr>\n",
       "    <tr>\n",
       "      <th>2009-12-01 12:14:00</th>\n",
       "      <td>21232</td>\n",
       "      <td>20</td>\n",
       "    </tr>\n",
       "    <tr>\n",
       "      <th>2009-12-01 13:31:00</th>\n",
       "      <td>21232</td>\n",
       "      <td>4</td>\n",
       "    </tr>\n",
       "    <tr>\n",
       "      <th>2009-12-01 13:37:00</th>\n",
       "      <td>21232</td>\n",
       "      <td>12</td>\n",
       "    </tr>\n",
       "    <tr>\n",
       "      <th>2009-12-01 13:43:00</th>\n",
       "      <td>21232</td>\n",
       "      <td>24</td>\n",
       "    </tr>\n",
       "    <tr>\n",
       "      <th>2009-12-01 14:19:00</th>\n",
       "      <td>21232</td>\n",
       "      <td>12</td>\n",
       "    </tr>\n",
       "    <tr>\n",
       "      <th>2009-12-01 15:26:00</th>\n",
       "      <td>21232</td>\n",
       "      <td>12</td>\n",
       "    </tr>\n",
       "    <tr>\n",
       "      <th>2009-12-01 16:18:00</th>\n",
       "      <td>21232</td>\n",
       "      <td>12</td>\n",
       "    </tr>\n",
       "  </tbody>\n",
       "</table>\n",
       "</div>"
      ],
      "text/plain": [
       "                    StockCode  Quantity\n",
       "InvoiceDate                            \n",
       "2009-12-01 07:45:00     21232        24\n",
       "2009-12-01 10:49:00     21232        48\n",
       "2009-12-01 12:13:00     21232         3\n",
       "2009-12-01 12:14:00     21232        20\n",
       "2009-12-01 13:31:00     21232         4\n",
       "2009-12-01 13:37:00     21232        12\n",
       "2009-12-01 13:43:00     21232        24\n",
       "2009-12-01 14:19:00     21232        12\n",
       "2009-12-01 15:26:00     21232        12\n",
       "2009-12-01 16:18:00     21232        12"
      ]
     },
     "execution_count": 46,
     "metadata": {},
     "output_type": "execute_result"
    }
   ],
   "source": [
    "df_time_series[df_time_series.StockCode==21232]['2009-12-01']"
   ]
  },
  {
   "cell_type": "code",
   "execution_count": 47,
   "id": "01bbc58f",
   "metadata": {},
   "outputs": [],
   "source": [
    "df_time_series = df_time_series.groupby('StockCode').resample('D').sum().reset_index()"
   ]
  },
  {
   "cell_type": "code",
   "execution_count": 48,
   "id": "0c04d420",
   "metadata": {},
   "outputs": [
    {
     "data": {
      "text/html": [
       "<div>\n",
       "<style scoped>\n",
       "    .dataframe tbody tr th:only-of-type {\n",
       "        vertical-align: middle;\n",
       "    }\n",
       "\n",
       "    .dataframe tbody tr th {\n",
       "        vertical-align: top;\n",
       "    }\n",
       "\n",
       "    .dataframe thead th {\n",
       "        text-align: right;\n",
       "    }\n",
       "</style>\n",
       "<table border=\"1\" class=\"dataframe\">\n",
       "  <thead>\n",
       "    <tr style=\"text-align: right;\">\n",
       "      <th></th>\n",
       "      <th>StockCode</th>\n",
       "      <th>Quantity</th>\n",
       "    </tr>\n",
       "    <tr>\n",
       "      <th>InvoiceDate</th>\n",
       "      <th></th>\n",
       "      <th></th>\n",
       "    </tr>\n",
       "  </thead>\n",
       "  <tbody>\n",
       "    <tr>\n",
       "      <th>2009-12-01</th>\n",
       "      <td>10002</td>\n",
       "      <td>12</td>\n",
       "    </tr>\n",
       "    <tr>\n",
       "      <th>2009-12-02</th>\n",
       "      <td>10002</td>\n",
       "      <td>0</td>\n",
       "    </tr>\n",
       "    <tr>\n",
       "      <th>2009-12-03</th>\n",
       "      <td>10002</td>\n",
       "      <td>7</td>\n",
       "    </tr>\n",
       "    <tr>\n",
       "      <th>2009-12-04</th>\n",
       "      <td>10002</td>\n",
       "      <td>25</td>\n",
       "    </tr>\n",
       "    <tr>\n",
       "      <th>2009-12-05</th>\n",
       "      <td>10002</td>\n",
       "      <td>0</td>\n",
       "    </tr>\n",
       "  </tbody>\n",
       "</table>\n",
       "</div>"
      ],
      "text/plain": [
       "            StockCode  Quantity\n",
       "InvoiceDate                    \n",
       "2009-12-01      10002        12\n",
       "2009-12-02      10002         0\n",
       "2009-12-03      10002         7\n",
       "2009-12-04      10002        25\n",
       "2009-12-05      10002         0"
      ]
     },
     "execution_count": 48,
     "metadata": {},
     "output_type": "execute_result"
    }
   ],
   "source": [
    "df_time_series['InvoiceDate'] = pd.to_datetime(df_time_series.InvoiceDate)\n",
    "df_time_series = df_time_series.set_index('InvoiceDate')\n",
    "df_time_series.head()"
   ]
  },
  {
   "cell_type": "code",
   "execution_count": 49,
   "id": "c229c09c",
   "metadata": {},
   "outputs": [],
   "source": [
    "df_time_series = df_time_series.groupby('StockCode').resample('D').sum().reset_index().set_index(['InvoiceDate'])"
   ]
  },
  {
   "cell_type": "code",
   "execution_count": 50,
   "id": "090e593d",
   "metadata": {},
   "outputs": [
    {
     "data": {
      "text/html": [
       "<div>\n",
       "<style scoped>\n",
       "    .dataframe tbody tr th:only-of-type {\n",
       "        vertical-align: middle;\n",
       "    }\n",
       "\n",
       "    .dataframe tbody tr th {\n",
       "        vertical-align: top;\n",
       "    }\n",
       "\n",
       "    .dataframe thead th {\n",
       "        text-align: right;\n",
       "    }\n",
       "</style>\n",
       "<table border=\"1\" class=\"dataframe\">\n",
       "  <thead>\n",
       "    <tr style=\"text-align: right;\">\n",
       "      <th></th>\n",
       "      <th>StockCode</th>\n",
       "      <th>Quantity</th>\n",
       "    </tr>\n",
       "    <tr>\n",
       "      <th>InvoiceDate</th>\n",
       "      <th></th>\n",
       "      <th></th>\n",
       "    </tr>\n",
       "  </thead>\n",
       "  <tbody>\n",
       "    <tr>\n",
       "      <th>2009-12-01</th>\n",
       "      <td>21232</td>\n",
       "      <td>171</td>\n",
       "    </tr>\n",
       "    <tr>\n",
       "      <th>2009-12-02</th>\n",
       "      <td>21232</td>\n",
       "      <td>164</td>\n",
       "    </tr>\n",
       "    <tr>\n",
       "      <th>2009-12-03</th>\n",
       "      <td>21232</td>\n",
       "      <td>192</td>\n",
       "    </tr>\n",
       "    <tr>\n",
       "      <th>2009-12-04</th>\n",
       "      <td>21232</td>\n",
       "      <td>264</td>\n",
       "    </tr>\n",
       "    <tr>\n",
       "      <th>2009-12-05</th>\n",
       "      <td>21232</td>\n",
       "      <td>36</td>\n",
       "    </tr>\n",
       "    <tr>\n",
       "      <th>...</th>\n",
       "      <td>...</td>\n",
       "      <td>...</td>\n",
       "    </tr>\n",
       "    <tr>\n",
       "      <th>2010-12-04</th>\n",
       "      <td>21232</td>\n",
       "      <td>0</td>\n",
       "    </tr>\n",
       "    <tr>\n",
       "      <th>2010-12-05</th>\n",
       "      <td>21232</td>\n",
       "      <td>4</td>\n",
       "    </tr>\n",
       "    <tr>\n",
       "      <th>2010-12-06</th>\n",
       "      <td>21232</td>\n",
       "      <td>12</td>\n",
       "    </tr>\n",
       "    <tr>\n",
       "      <th>2010-12-07</th>\n",
       "      <td>21232</td>\n",
       "      <td>28</td>\n",
       "    </tr>\n",
       "    <tr>\n",
       "      <th>2010-12-08</th>\n",
       "      <td>21232</td>\n",
       "      <td>61</td>\n",
       "    </tr>\n",
       "  </tbody>\n",
       "</table>\n",
       "<p>373 rows × 2 columns</p>\n",
       "</div>"
      ],
      "text/plain": [
       "            StockCode  Quantity\n",
       "InvoiceDate                    \n",
       "2009-12-01      21232       171\n",
       "2009-12-02      21232       164\n",
       "2009-12-03      21232       192\n",
       "2009-12-04      21232       264\n",
       "2009-12-05      21232        36\n",
       "...               ...       ...\n",
       "2010-12-04      21232         0\n",
       "2010-12-05      21232         4\n",
       "2010-12-06      21232        12\n",
       "2010-12-07      21232        28\n",
       "2010-12-08      21232        61\n",
       "\n",
       "[373 rows x 2 columns]"
      ]
     },
     "execution_count": 50,
     "metadata": {},
     "output_type": "execute_result"
    }
   ],
   "source": [
    "df_time_series[df_time_series.StockCode==21232]"
   ]
  },
  {
   "cell_type": "code",
   "execution_count": 51,
   "id": "4d78d8e4",
   "metadata": {},
   "outputs": [
    {
     "data": {
      "text/html": [
       "<div>\n",
       "<style scoped>\n",
       "    .dataframe tbody tr th:only-of-type {\n",
       "        vertical-align: middle;\n",
       "    }\n",
       "\n",
       "    .dataframe tbody tr th {\n",
       "        vertical-align: top;\n",
       "    }\n",
       "\n",
       "    .dataframe thead th {\n",
       "        text-align: right;\n",
       "    }\n",
       "</style>\n",
       "<table border=\"1\" class=\"dataframe\">\n",
       "  <thead>\n",
       "    <tr style=\"text-align: right;\">\n",
       "      <th></th>\n",
       "      <th>StockCode</th>\n",
       "      <th>Price</th>\n",
       "    </tr>\n",
       "    <tr>\n",
       "      <th>InvoiceDate</th>\n",
       "      <th></th>\n",
       "      <th></th>\n",
       "    </tr>\n",
       "  </thead>\n",
       "  <tbody>\n",
       "    <tr>\n",
       "      <th>2009-12-01 07:45:00</th>\n",
       "      <td>85048</td>\n",
       "      <td>6.95</td>\n",
       "    </tr>\n",
       "    <tr>\n",
       "      <th>2009-12-01 07:45:00</th>\n",
       "      <td>79323P</td>\n",
       "      <td>6.75</td>\n",
       "    </tr>\n",
       "    <tr>\n",
       "      <th>2009-12-01 07:45:00</th>\n",
       "      <td>79323W</td>\n",
       "      <td>6.75</td>\n",
       "    </tr>\n",
       "    <tr>\n",
       "      <th>2009-12-01 07:45:00</th>\n",
       "      <td>22041</td>\n",
       "      <td>2.10</td>\n",
       "    </tr>\n",
       "    <tr>\n",
       "      <th>2009-12-01 07:45:00</th>\n",
       "      <td>21232</td>\n",
       "      <td>1.25</td>\n",
       "    </tr>\n",
       "  </tbody>\n",
       "</table>\n",
       "</div>"
      ],
      "text/plain": [
       "                    StockCode  Price\n",
       "InvoiceDate                         \n",
       "2009-12-01 07:45:00     85048   6.95\n",
       "2009-12-01 07:45:00    79323P   6.75\n",
       "2009-12-01 07:45:00    79323W   6.75\n",
       "2009-12-01 07:45:00     22041   2.10\n",
       "2009-12-01 07:45:00     21232   1.25"
      ]
     },
     "execution_count": 51,
     "metadata": {},
     "output_type": "execute_result"
    }
   ],
   "source": [
    "df_related_time_series.head()"
   ]
  },
  {
   "cell_type": "code",
   "execution_count": 52,
   "id": "7493d85a",
   "metadata": {},
   "outputs": [],
   "source": [
    "df_related_time_series2 = df_related_time_series.groupby('StockCode').resample('D').mean().reset_index().set_index(['InvoiceDate','StockCode'])"
   ]
  },
  {
   "cell_type": "code",
   "execution_count": 53,
   "id": "cfd98bee",
   "metadata": {},
   "outputs": [
    {
     "data": {
      "text/html": [
       "<div>\n",
       "<style scoped>\n",
       "    .dataframe tbody tr th:only-of-type {\n",
       "        vertical-align: middle;\n",
       "    }\n",
       "\n",
       "    .dataframe tbody tr th {\n",
       "        vertical-align: top;\n",
       "    }\n",
       "\n",
       "    .dataframe thead th {\n",
       "        text-align: right;\n",
       "    }\n",
       "</style>\n",
       "<table border=\"1\" class=\"dataframe\">\n",
       "  <thead>\n",
       "    <tr style=\"text-align: right;\">\n",
       "      <th></th>\n",
       "      <th></th>\n",
       "      <th>Price</th>\n",
       "    </tr>\n",
       "    <tr>\n",
       "      <th>InvoiceDate</th>\n",
       "      <th>StockCode</th>\n",
       "      <th></th>\n",
       "    </tr>\n",
       "  </thead>\n",
       "  <tbody>\n",
       "    <tr>\n",
       "      <th>2009-12-01</th>\n",
       "      <th>10002</th>\n",
       "      <td>0.85</td>\n",
       "    </tr>\n",
       "    <tr>\n",
       "      <th>2009-12-02</th>\n",
       "      <th>10002</th>\n",
       "      <td>NaN</td>\n",
       "    </tr>\n",
       "    <tr>\n",
       "      <th>2009-12-03</th>\n",
       "      <th>10002</th>\n",
       "      <td>0.85</td>\n",
       "    </tr>\n",
       "    <tr>\n",
       "      <th>2009-12-04</th>\n",
       "      <th>10002</th>\n",
       "      <td>0.85</td>\n",
       "    </tr>\n",
       "    <tr>\n",
       "      <th>2009-12-05</th>\n",
       "      <th>10002</th>\n",
       "      <td>NaN</td>\n",
       "    </tr>\n",
       "    <tr>\n",
       "      <th>2009-12-06</th>\n",
       "      <th>10002</th>\n",
       "      <td>0.85</td>\n",
       "    </tr>\n",
       "    <tr>\n",
       "      <th>2009-12-07</th>\n",
       "      <th>10002</th>\n",
       "      <td>0.85</td>\n",
       "    </tr>\n",
       "    <tr>\n",
       "      <th>2009-12-08</th>\n",
       "      <th>10002</th>\n",
       "      <td>NaN</td>\n",
       "    </tr>\n",
       "    <tr>\n",
       "      <th>2009-12-09</th>\n",
       "      <th>10002</th>\n",
       "      <td>NaN</td>\n",
       "    </tr>\n",
       "    <tr>\n",
       "      <th>2009-12-10</th>\n",
       "      <th>10002</th>\n",
       "      <td>NaN</td>\n",
       "    </tr>\n",
       "    <tr>\n",
       "      <th>2009-12-11</th>\n",
       "      <th>10002</th>\n",
       "      <td>0.85</td>\n",
       "    </tr>\n",
       "    <tr>\n",
       "      <th>2009-12-12</th>\n",
       "      <th>10002</th>\n",
       "      <td>NaN</td>\n",
       "    </tr>\n",
       "    <tr>\n",
       "      <th>2009-12-13</th>\n",
       "      <th>10002</th>\n",
       "      <td>NaN</td>\n",
       "    </tr>\n",
       "    <tr>\n",
       "      <th>2009-12-14</th>\n",
       "      <th>10002</th>\n",
       "      <td>0.85</td>\n",
       "    </tr>\n",
       "    <tr>\n",
       "      <th>2009-12-15</th>\n",
       "      <th>10002</th>\n",
       "      <td>NaN</td>\n",
       "    </tr>\n",
       "    <tr>\n",
       "      <th>2009-12-16</th>\n",
       "      <th>10002</th>\n",
       "      <td>NaN</td>\n",
       "    </tr>\n",
       "    <tr>\n",
       "      <th>2009-12-17</th>\n",
       "      <th>10002</th>\n",
       "      <td>NaN</td>\n",
       "    </tr>\n",
       "    <tr>\n",
       "      <th>2009-12-18</th>\n",
       "      <th>10002</th>\n",
       "      <td>NaN</td>\n",
       "    </tr>\n",
       "    <tr>\n",
       "      <th>2009-12-19</th>\n",
       "      <th>10002</th>\n",
       "      <td>NaN</td>\n",
       "    </tr>\n",
       "    <tr>\n",
       "      <th>2009-12-20</th>\n",
       "      <th>10002</th>\n",
       "      <td>NaN</td>\n",
       "    </tr>\n",
       "  </tbody>\n",
       "</table>\n",
       "</div>"
      ],
      "text/plain": [
       "                       Price\n",
       "InvoiceDate StockCode       \n",
       "2009-12-01  10002       0.85\n",
       "2009-12-02  10002        NaN\n",
       "2009-12-03  10002       0.85\n",
       "2009-12-04  10002       0.85\n",
       "2009-12-05  10002        NaN\n",
       "2009-12-06  10002       0.85\n",
       "2009-12-07  10002       0.85\n",
       "2009-12-08  10002        NaN\n",
       "2009-12-09  10002        NaN\n",
       "2009-12-10  10002        NaN\n",
       "2009-12-11  10002       0.85\n",
       "2009-12-12  10002        NaN\n",
       "2009-12-13  10002        NaN\n",
       "2009-12-14  10002       0.85\n",
       "2009-12-15  10002        NaN\n",
       "2009-12-16  10002        NaN\n",
       "2009-12-17  10002        NaN\n",
       "2009-12-18  10002        NaN\n",
       "2009-12-19  10002        NaN\n",
       "2009-12-20  10002        NaN"
      ]
     },
     "execution_count": 53,
     "metadata": {},
     "output_type": "execute_result"
    }
   ],
   "source": [
    "df_related_time_series2.head(20)"
   ]
  },
  {
   "cell_type": "code",
   "execution_count": 54,
   "id": "b9f9e4f7",
   "metadata": {},
   "outputs": [
    {
     "data": {
      "text/html": [
       "<div>\n",
       "<style scoped>\n",
       "    .dataframe tbody tr th:only-of-type {\n",
       "        vertical-align: middle;\n",
       "    }\n",
       "\n",
       "    .dataframe tbody tr th {\n",
       "        vertical-align: top;\n",
       "    }\n",
       "\n",
       "    .dataframe thead th {\n",
       "        text-align: right;\n",
       "    }\n",
       "</style>\n",
       "<table border=\"1\" class=\"dataframe\">\n",
       "  <thead>\n",
       "    <tr style=\"text-align: right;\">\n",
       "      <th></th>\n",
       "      <th>StockCode</th>\n",
       "      <th>Quantity</th>\n",
       "      <th>Price</th>\n",
       "    </tr>\n",
       "    <tr>\n",
       "      <th>InvoiceDate</th>\n",
       "      <th></th>\n",
       "      <th></th>\n",
       "      <th></th>\n",
       "    </tr>\n",
       "  </thead>\n",
       "  <tbody>\n",
       "    <tr>\n",
       "      <th>2009-12-01 09:08:00</th>\n",
       "      <td>10002</td>\n",
       "      <td>12</td>\n",
       "      <td>0.85</td>\n",
       "    </tr>\n",
       "    <tr>\n",
       "      <th>2009-12-03 13:49:00</th>\n",
       "      <td>10002</td>\n",
       "      <td>1</td>\n",
       "      <td>0.85</td>\n",
       "    </tr>\n",
       "    <tr>\n",
       "      <th>2009-12-03 13:49:00</th>\n",
       "      <td>10002</td>\n",
       "      <td>1</td>\n",
       "      <td>0.85</td>\n",
       "    </tr>\n",
       "    <tr>\n",
       "      <th>2009-12-03 19:13:00</th>\n",
       "      <td>10002</td>\n",
       "      <td>1</td>\n",
       "      <td>0.85</td>\n",
       "    </tr>\n",
       "    <tr>\n",
       "      <th>2009-12-03 20:03:00</th>\n",
       "      <td>10002</td>\n",
       "      <td>4</td>\n",
       "      <td>0.85</td>\n",
       "    </tr>\n",
       "    <tr>\n",
       "      <th>2009-12-04 08:46:00</th>\n",
       "      <td>10002</td>\n",
       "      <td>12</td>\n",
       "      <td>0.85</td>\n",
       "    </tr>\n",
       "    <tr>\n",
       "      <th>2009-12-04 12:20:00</th>\n",
       "      <td>10002</td>\n",
       "      <td>12</td>\n",
       "      <td>0.85</td>\n",
       "    </tr>\n",
       "    <tr>\n",
       "      <th>2009-12-04 17:31:00</th>\n",
       "      <td>10002</td>\n",
       "      <td>1</td>\n",
       "      <td>0.85</td>\n",
       "    </tr>\n",
       "    <tr>\n",
       "      <th>2009-12-06 15:24:00</th>\n",
       "      <td>10002</td>\n",
       "      <td>1</td>\n",
       "      <td>0.85</td>\n",
       "    </tr>\n",
       "    <tr>\n",
       "      <th>2009-12-07 16:40:00</th>\n",
       "      <td>10002</td>\n",
       "      <td>2</td>\n",
       "      <td>0.85</td>\n",
       "    </tr>\n",
       "    <tr>\n",
       "      <th>2009-12-11 12:21:00</th>\n",
       "      <td>10002</td>\n",
       "      <td>9</td>\n",
       "      <td>0.85</td>\n",
       "    </tr>\n",
       "    <tr>\n",
       "      <th>2009-12-14 12:02:00</th>\n",
       "      <td>10002</td>\n",
       "      <td>12</td>\n",
       "      <td>0.85</td>\n",
       "    </tr>\n",
       "    <tr>\n",
       "      <th>2009-12-14 14:12:00</th>\n",
       "      <td>10002</td>\n",
       "      <td>24</td>\n",
       "      <td>0.85</td>\n",
       "    </tr>\n",
       "    <tr>\n",
       "      <th>2009-12-21 13:29:00</th>\n",
       "      <td>10002</td>\n",
       "      <td>12</td>\n",
       "      <td>0.85</td>\n",
       "    </tr>\n",
       "    <tr>\n",
       "      <th>2009-12-23 12:07:00</th>\n",
       "      <td>10002</td>\n",
       "      <td>1</td>\n",
       "      <td>0.85</td>\n",
       "    </tr>\n",
       "  </tbody>\n",
       "</table>\n",
       "</div>"
      ],
      "text/plain": [
       "                    StockCode  Quantity  Price\n",
       "InvoiceDate                                   \n",
       "2009-12-01 09:08:00     10002        12   0.85\n",
       "2009-12-03 13:49:00     10002         1   0.85\n",
       "2009-12-03 13:49:00     10002         1   0.85\n",
       "2009-12-03 19:13:00     10002         1   0.85\n",
       "2009-12-03 20:03:00     10002         4   0.85\n",
       "2009-12-04 08:46:00     10002        12   0.85\n",
       "2009-12-04 12:20:00     10002        12   0.85\n",
       "2009-12-04 17:31:00     10002         1   0.85\n",
       "2009-12-06 15:24:00     10002         1   0.85\n",
       "2009-12-07 16:40:00     10002         2   0.85\n",
       "2009-12-11 12:21:00     10002         9   0.85\n",
       "2009-12-14 12:02:00     10002        12   0.85\n",
       "2009-12-14 14:12:00     10002        24   0.85\n",
       "2009-12-21 13:29:00     10002        12   0.85\n",
       "2009-12-23 12:07:00     10002         1   0.85"
      ]
     },
     "execution_count": 54,
     "metadata": {},
     "output_type": "execute_result"
    }
   ],
   "source": [
    "retail[retail.StockCode == 10002]['2009-12']"
   ]
  },
  {
   "cell_type": "code",
   "execution_count": 55,
   "id": "f773e0a7",
   "metadata": {},
   "outputs": [],
   "source": [
    "df_related_time_series3 = df_related_time_series2.groupby('StockCode').pad()"
   ]
  },
  {
   "cell_type": "markdown",
   "id": "6c818316",
   "metadata": {},
   "source": [
    "Forward fill the missing value"
   ]
  },
  {
   "cell_type": "code",
   "execution_count": 56,
   "id": "04669b8d",
   "metadata": {},
   "outputs": [
    {
     "data": {
      "text/html": [
       "<div>\n",
       "<style scoped>\n",
       "    .dataframe tbody tr th:only-of-type {\n",
       "        vertical-align: middle;\n",
       "    }\n",
       "\n",
       "    .dataframe tbody tr th {\n",
       "        vertical-align: top;\n",
       "    }\n",
       "\n",
       "    .dataframe thead th {\n",
       "        text-align: right;\n",
       "    }\n",
       "</style>\n",
       "<table border=\"1\" class=\"dataframe\">\n",
       "  <thead>\n",
       "    <tr style=\"text-align: right;\">\n",
       "      <th></th>\n",
       "      <th></th>\n",
       "      <th>Price</th>\n",
       "    </tr>\n",
       "    <tr>\n",
       "      <th>InvoiceDate</th>\n",
       "      <th>StockCode</th>\n",
       "      <th></th>\n",
       "    </tr>\n",
       "  </thead>\n",
       "  <tbody>\n",
       "    <tr>\n",
       "      <th>2009-12-01</th>\n",
       "      <th>10002</th>\n",
       "      <td>0.85</td>\n",
       "    </tr>\n",
       "    <tr>\n",
       "      <th>2009-12-02</th>\n",
       "      <th>10002</th>\n",
       "      <td>0.85</td>\n",
       "    </tr>\n",
       "    <tr>\n",
       "      <th>2009-12-03</th>\n",
       "      <th>10002</th>\n",
       "      <td>0.85</td>\n",
       "    </tr>\n",
       "    <tr>\n",
       "      <th>2009-12-04</th>\n",
       "      <th>10002</th>\n",
       "      <td>0.85</td>\n",
       "    </tr>\n",
       "    <tr>\n",
       "      <th>2009-12-05</th>\n",
       "      <th>10002</th>\n",
       "      <td>0.85</td>\n",
       "    </tr>\n",
       "    <tr>\n",
       "      <th>2009-12-06</th>\n",
       "      <th>10002</th>\n",
       "      <td>0.85</td>\n",
       "    </tr>\n",
       "    <tr>\n",
       "      <th>2009-12-07</th>\n",
       "      <th>10002</th>\n",
       "      <td>0.85</td>\n",
       "    </tr>\n",
       "    <tr>\n",
       "      <th>2009-12-08</th>\n",
       "      <th>10002</th>\n",
       "      <td>0.85</td>\n",
       "    </tr>\n",
       "    <tr>\n",
       "      <th>2009-12-09</th>\n",
       "      <th>10002</th>\n",
       "      <td>0.85</td>\n",
       "    </tr>\n",
       "    <tr>\n",
       "      <th>2009-12-10</th>\n",
       "      <th>10002</th>\n",
       "      <td>0.85</td>\n",
       "    </tr>\n",
       "    <tr>\n",
       "      <th>2009-12-11</th>\n",
       "      <th>10002</th>\n",
       "      <td>0.85</td>\n",
       "    </tr>\n",
       "    <tr>\n",
       "      <th>2009-12-12</th>\n",
       "      <th>10002</th>\n",
       "      <td>0.85</td>\n",
       "    </tr>\n",
       "    <tr>\n",
       "      <th>2009-12-13</th>\n",
       "      <th>10002</th>\n",
       "      <td>0.85</td>\n",
       "    </tr>\n",
       "    <tr>\n",
       "      <th>2009-12-14</th>\n",
       "      <th>10002</th>\n",
       "      <td>0.85</td>\n",
       "    </tr>\n",
       "    <tr>\n",
       "      <th>2009-12-15</th>\n",
       "      <th>10002</th>\n",
       "      <td>0.85</td>\n",
       "    </tr>\n",
       "    <tr>\n",
       "      <th>2009-12-16</th>\n",
       "      <th>10002</th>\n",
       "      <td>0.85</td>\n",
       "    </tr>\n",
       "    <tr>\n",
       "      <th>2009-12-17</th>\n",
       "      <th>10002</th>\n",
       "      <td>0.85</td>\n",
       "    </tr>\n",
       "    <tr>\n",
       "      <th>2009-12-18</th>\n",
       "      <th>10002</th>\n",
       "      <td>0.85</td>\n",
       "    </tr>\n",
       "    <tr>\n",
       "      <th>2009-12-19</th>\n",
       "      <th>10002</th>\n",
       "      <td>0.85</td>\n",
       "    </tr>\n",
       "    <tr>\n",
       "      <th>2009-12-20</th>\n",
       "      <th>10002</th>\n",
       "      <td>0.85</td>\n",
       "    </tr>\n",
       "  </tbody>\n",
       "</table>\n",
       "</div>"
      ],
      "text/plain": [
       "                       Price\n",
       "InvoiceDate StockCode       \n",
       "2009-12-01  10002       0.85\n",
       "2009-12-02  10002       0.85\n",
       "2009-12-03  10002       0.85\n",
       "2009-12-04  10002       0.85\n",
       "2009-12-05  10002       0.85\n",
       "2009-12-06  10002       0.85\n",
       "2009-12-07  10002       0.85\n",
       "2009-12-08  10002       0.85\n",
       "2009-12-09  10002       0.85\n",
       "2009-12-10  10002       0.85\n",
       "2009-12-11  10002       0.85\n",
       "2009-12-12  10002       0.85\n",
       "2009-12-13  10002       0.85\n",
       "2009-12-14  10002       0.85\n",
       "2009-12-15  10002       0.85\n",
       "2009-12-16  10002       0.85\n",
       "2009-12-17  10002       0.85\n",
       "2009-12-18  10002       0.85\n",
       "2009-12-19  10002       0.85\n",
       "2009-12-20  10002       0.85"
      ]
     },
     "execution_count": 56,
     "metadata": {},
     "output_type": "execute_result"
    }
   ],
   "source": [
    "df_related_time_series3.head(20)"
   ]
  },
  {
   "cell_type": "markdown",
   "id": "b6698f6c",
   "metadata": {},
   "source": [
    "### Forecast Autorun running in background ... "
   ]
  },
  {
   "cell_type": "code",
   "execution_count": 57,
   "id": "dae202e1",
   "metadata": {},
   "outputs": [],
   "source": [
    "import sys\n",
    "\n",
    "class StatusIndicator:\n",
    "    \n",
    "    def __init__(self):\n",
    "        self.previous_status = None\n",
    "        self.need_newline = False\n",
    "        \n",
    "    def update( self, status ):\n",
    "        if self.previous_status != status:\n",
    "            if self.need_newline:\n",
    "                sys.stdout.write(\"\\n\")\n",
    "            sys.stdout.write( status + \" \")\n",
    "            self.need_newline = True\n",
    "            self.previous_status = status\n",
    "        else:\n",
    "            # sys.stdout.write(\".\")\n",
    "            print('.',end='')\n",
    "            self.need_newline = True\n",
    "        sys.stdout.flush()\n",
    "\n",
    "    def end(self):\n",
    "        if self.need_newline:\n",
    "            sys.stdout.write(\"\\n\")"
   ]
  },
  {
   "cell_type": "code",
   "execution_count": 58,
   "id": "69a245e9",
   "metadata": {},
   "outputs": [],
   "source": [
    "bucket='mlf-lab4-forecastbucket-12sb9sjex9iv'\n",
    "\n",
    "session = boto3.Session() \n",
    "forecast = session.client(service_name='forecast') \n",
    "forecast_query = session.client(service_name='forecastquery')"
   ]
  },
  {
   "cell_type": "code",
   "execution_count": 59,
   "id": "fc622959",
   "metadata": {},
   "outputs": [
    {
     "name": "stdout",
     "output_type": "stream",
     "text": [
      "Waiting for the predictor arn to be available\n",
      "...................................................................................................................................................................................................................................................................................Waiting for the predictor to be available\n",
      "ACTIVE \n",
      "Waiting for forecast to be available\n",
      "CREATE_PENDING ..\n",
      "CREATE_IN_PROGRESS .........................................................................................................\n",
      "ACTIVE \n"
     ]
    }
   ],
   "source": [
    "print('Waiting for the predictor arn to be available')\n",
    "while True:\n",
    "    %store -r\n",
    "    is_local = \"forecast_arn\" in locals()\n",
    "    if is_local: break\n",
    "    print('.',end='')\n",
    "    time.sleep(10)\n",
    "\n",
    "print('Waiting for the predictor to be available')\n",
    "status_indicator_predictor = StatusIndicator()\n",
    "while True:\n",
    "    status = forecast.describe_predictor(PredictorArn=predictor_arn)['Status']\n",
    "    status_indicator_predictor.update(status)\n",
    "    if status in ('ACTIVE', 'CREATE_FAILED'): break\n",
    "    time.sleep(10)\n",
    "\n",
    "status_indicator_predictor.end()\n",
    "    \n",
    "print('Waiting for forecast to be available')\n",
    "status_indicator = StatusIndicator()\n",
    "while True:\n",
    "    status = forecast.describe_forecast(ForecastArn=forecast_arn)['Status']\n",
    "    status_indicator.update(status)\n",
    "    if status in ('ACTIVE', 'CREATE_FAILED'): break\n",
    "    time.sleep(10)\n",
    "\n",
    "status_indicator.end()"
   ]
  },
  {
   "cell_type": "code",
   "execution_count": 60,
   "id": "c3902a87",
   "metadata": {},
   "outputs": [
    {
     "name": "stdout",
     "output_type": "stream",
     "text": [
      "\n",
      "{'Forecast': {'Predictions': {'p10': [{'Timestamp': '2010-11-01T00:00:00', 'Value': -11.5225353241}, {'Timestamp': '2010-11-02T00:00:00', 'Value': 28.4542007446}, {'Timestamp': '2010-11-03T00:00:00', 'Value': 0.6409492493}, {'Timestamp': '2010-11-04T00:00:00', 'Value': 22.9499511719}, {'Timestamp': '2010-11-05T00:00:00', 'Value': 12.8035917282}, {'Timestamp': '2010-11-06T00:00:00', 'Value': -9.7075366974}, {'Timestamp': '2010-11-07T00:00:00', 'Value': 10.6902999878}, {'Timestamp': '2010-11-08T00:00:00', 'Value': -2.03698349}, {'Timestamp': '2010-11-09T00:00:00', 'Value': 0.6015701294}, {'Timestamp': '2010-11-10T00:00:00', 'Value': -7.4712715149}, {'Timestamp': '2010-11-11T00:00:00', 'Value': -24.835559845}, {'Timestamp': '2010-11-12T00:00:00', 'Value': -17.5017166138}, {'Timestamp': '2010-11-13T00:00:00', 'Value': -30.1197967529}, {'Timestamp': '2010-11-14T00:00:00', 'Value': -2.4642601013}, {'Timestamp': '2010-11-15T00:00:00', 'Value': 28.218744278}, {'Timestamp': '2010-11-16T00:00:00', 'Value': -47.3824996948}, {'Timestamp': '2010-11-17T00:00:00', 'Value': -32.1527442932}, {'Timestamp': '2010-11-18T00:00:00', 'Value': 15.8644695282}, {'Timestamp': '2010-11-19T00:00:00', 'Value': 14.4303426743}, {'Timestamp': '2010-11-20T00:00:00', 'Value': -8.0414609909}, {'Timestamp': '2010-11-21T00:00:00', 'Value': 12.9835548401}, {'Timestamp': '2010-11-22T00:00:00', 'Value': 21.7709445953}, {'Timestamp': '2010-11-23T00:00:00', 'Value': 21.7110137939}, {'Timestamp': '2010-11-24T00:00:00', 'Value': 5.607875824}, {'Timestamp': '2010-11-25T00:00:00', 'Value': 14.6439571381}, {'Timestamp': '2010-11-26T00:00:00', 'Value': 9.5583028793}, {'Timestamp': '2010-11-27T00:00:00', 'Value': -4.4880018234}, {'Timestamp': '2010-11-28T00:00:00', 'Value': 16.6695823669}, {'Timestamp': '2010-11-29T00:00:00', 'Value': 9.8039693832}, {'Timestamp': '2010-11-30T00:00:00', 'Value': 59.981338501}], 'p50': [{'Timestamp': '2010-11-01T00:00:00', 'Value': -7.8252024651}, {'Timestamp': '2010-11-02T00:00:00', 'Value': 42.2838554382}, {'Timestamp': '2010-11-03T00:00:00', 'Value': 19.9369106293}, {'Timestamp': '2010-11-04T00:00:00', 'Value': 35.9277305603}, {'Timestamp': '2010-11-05T00:00:00', 'Value': 23.8865871429}, {'Timestamp': '2010-11-06T00:00:00', 'Value': -0.4412196279}, {'Timestamp': '2010-11-07T00:00:00', 'Value': 36.6791992188}, {'Timestamp': '2010-11-08T00:00:00', 'Value': 69.2811126709}, {'Timestamp': '2010-11-09T00:00:00', 'Value': 71.7817382812}, {'Timestamp': '2010-11-10T00:00:00', 'Value': 49.5807914734}, {'Timestamp': '2010-11-11T00:00:00', 'Value': 24.5932483673}, {'Timestamp': '2010-11-12T00:00:00', 'Value': 31.5766201019}, {'Timestamp': '2010-11-13T00:00:00', 'Value': -14.126996994}, {'Timestamp': '2010-11-14T00:00:00', 'Value': 36.6376190186}, {'Timestamp': '2010-11-15T00:00:00', 'Value': 63.5094604492}, {'Timestamp': '2010-11-16T00:00:00', 'Value': 68.3955612183}, {'Timestamp': '2010-11-17T00:00:00', 'Value': 37.393737793}, {'Timestamp': '2010-11-18T00:00:00', 'Value': 37.2220306396}, {'Timestamp': '2010-11-19T00:00:00', 'Value': 26.2264251709}, {'Timestamp': '2010-11-20T00:00:00', 'Value': 2.7028605938}, {'Timestamp': '2010-11-21T00:00:00', 'Value': 37.9927864075}, {'Timestamp': '2010-11-22T00:00:00', 'Value': 39.2493362427}, {'Timestamp': '2010-11-23T00:00:00', 'Value': 70.4927978516}, {'Timestamp': '2010-11-24T00:00:00', 'Value': 46.2303581238}, {'Timestamp': '2010-11-25T00:00:00', 'Value': 32.3256149292}, {'Timestamp': '2010-11-26T00:00:00', 'Value': 23.550567627}, {'Timestamp': '2010-11-27T00:00:00', 'Value': 7.3469939232}, {'Timestamp': '2010-11-28T00:00:00', 'Value': 44.541469574}, {'Timestamp': '2010-11-29T00:00:00', 'Value': 41.4398155212}, {'Timestamp': '2010-11-30T00:00:00', 'Value': 83.3426132202}], 'p90': [{'Timestamp': '2010-11-01T00:00:00', 'Value': -4.7509727478}, {'Timestamp': '2010-11-02T00:00:00', 'Value': 52.8470420837}, {'Timestamp': '2010-11-03T00:00:00', 'Value': 37.1509094238}, {'Timestamp': '2010-11-04T00:00:00', 'Value': 48.7191467285}, {'Timestamp': '2010-11-05T00:00:00', 'Value': 32.908996582}, {'Timestamp': '2010-11-06T00:00:00', 'Value': 10.8257637024}, {'Timestamp': '2010-11-07T00:00:00', 'Value': 63.4393806458}, {'Timestamp': '2010-11-08T00:00:00', 'Value': 139.5895233154}, {'Timestamp': '2010-11-09T00:00:00', 'Value': 148.5250549316}, {'Timestamp': '2010-11-10T00:00:00', 'Value': 142.5830383301}, {'Timestamp': '2010-11-11T00:00:00', 'Value': 88.3896636963}, {'Timestamp': '2010-11-12T00:00:00', 'Value': 66.7280883789}, {'Timestamp': '2010-11-13T00:00:00', 'Value': 0.8954854012}, {'Timestamp': '2010-11-14T00:00:00', 'Value': 90.3079528809}, {'Timestamp': '2010-11-15T00:00:00', 'Value': 175.5196228027}, {'Timestamp': '2010-11-16T00:00:00', 'Value': 222.234375}, {'Timestamp': '2010-11-17T00:00:00', 'Value': 93.5000228882}, {'Timestamp': '2010-11-18T00:00:00', 'Value': 71.3357391357}, {'Timestamp': '2010-11-19T00:00:00', 'Value': 48.6339187622}, {'Timestamp': '2010-11-20T00:00:00', 'Value': 30.949174881}, {'Timestamp': '2010-11-21T00:00:00', 'Value': 68.7886505127}, {'Timestamp': '2010-11-22T00:00:00', 'Value': 64.649269104}, {'Timestamp': '2010-11-23T00:00:00', 'Value': 142.3708343506}, {'Timestamp': '2010-11-24T00:00:00', 'Value': 93.399017334}, {'Timestamp': '2010-11-25T00:00:00', 'Value': 70.5572128296}, {'Timestamp': '2010-11-26T00:00:00', 'Value': 58.9060745239}, {'Timestamp': '2010-11-27T00:00:00', 'Value': 28.0365486145}, {'Timestamp': '2010-11-28T00:00:00', 'Value': 85.4194946289}, {'Timestamp': '2010-11-29T00:00:00', 'Value': 90.4818344116}, {'Timestamp': '2010-11-30T00:00:00', 'Value': 106.892829895}]}}, 'ResponseMetadata': {'RequestId': '2f8d631d-f13f-4de3-9974-83739fc40c88', 'HTTPStatusCode': 200, 'HTTPHeaders': {'date': 'Tue, 27 Feb 2024 02:17:32 GMT', 'content-type': 'application/x-amz-json-1.1', 'content-length': '5261', 'connection': 'keep-alive', 'x-amzn-requestid': '2f8d631d-f13f-4de3-9974-83739fc40c88'}, 'RetryAttempts': 0}}\n"
     ]
    }
   ],
   "source": [
    "print()\n",
    "forecast_response = forecast_query.query_forecast(\n",
    "    ForecastArn=forecast_arn,\n",
    "    Filters={\"item_id\":\"21232\"}\n",
    ")\n",
    "print(forecast_response)"
   ]
  },
  {
   "cell_type": "code",
   "execution_count": 61,
   "id": "4c679c8d",
   "metadata": {},
   "outputs": [
    {
     "data": {
      "text/html": [
       "<div>\n",
       "<style scoped>\n",
       "    .dataframe tbody tr th:only-of-type {\n",
       "        vertical-align: middle;\n",
       "    }\n",
       "\n",
       "    .dataframe tbody tr th {\n",
       "        vertical-align: top;\n",
       "    }\n",
       "\n",
       "    .dataframe thead th {\n",
       "        text-align: right;\n",
       "    }\n",
       "</style>\n",
       "<table border=\"1\" class=\"dataframe\">\n",
       "  <thead>\n",
       "    <tr style=\"text-align: right;\">\n",
       "      <th></th>\n",
       "      <th>StockCode</th>\n",
       "      <th>Quantity</th>\n",
       "    </tr>\n",
       "    <tr>\n",
       "      <th>InvoiceDate</th>\n",
       "      <th></th>\n",
       "      <th></th>\n",
       "    </tr>\n",
       "  </thead>\n",
       "  <tbody>\n",
       "    <tr>\n",
       "      <th>2010-11-01</th>\n",
       "      <td>21232</td>\n",
       "      <td>0</td>\n",
       "    </tr>\n",
       "    <tr>\n",
       "      <th>2010-11-02</th>\n",
       "      <td>21232</td>\n",
       "      <td>60</td>\n",
       "    </tr>\n",
       "    <tr>\n",
       "      <th>2010-11-03</th>\n",
       "      <td>21232</td>\n",
       "      <td>130</td>\n",
       "    </tr>\n",
       "    <tr>\n",
       "      <th>2010-11-04</th>\n",
       "      <td>21232</td>\n",
       "      <td>255</td>\n",
       "    </tr>\n",
       "    <tr>\n",
       "      <th>2010-11-05</th>\n",
       "      <td>21232</td>\n",
       "      <td>24</td>\n",
       "    </tr>\n",
       "  </tbody>\n",
       "</table>\n",
       "</div>"
      ],
      "text/plain": [
       "             StockCode  Quantity\n",
       "InvoiceDate                     \n",
       "2010-11-01       21232         0\n",
       "2010-11-02       21232        60\n",
       "2010-11-03       21232       130\n",
       "2010-11-04       21232       255\n",
       "2010-11-05       21232        24"
      ]
     },
     "execution_count": 61,
     "metadata": {},
     "output_type": "execute_result"
    }
   ],
   "source": [
    "actual_df = pd.read_csv(test, names=['InvoiceDate','StockCode','Quantity'])\n",
    "actual_df['InvoiceDate'] = pd.to_datetime(actual_df.InvoiceDate)\n",
    "actual_df = actual_df.set_index('InvoiceDate')\n",
    "actual_df.head()"
   ]
  },
  {
   "cell_type": "code",
   "execution_count": 62,
   "id": "b12081d1",
   "metadata": {},
   "outputs": [],
   "source": [
    "# stockcode_filter = ['21232']\n",
    "# actual_df = actual_df[actual_df['StockCode'].isin(stockcode_filter)]"
   ]
  },
  {
   "cell_type": "code",
   "execution_count": 64,
   "id": "eb07f7dd",
   "metadata": {},
   "outputs": [
    {
     "data": {
      "text/plain": [
       "21232    39\n",
       "Name: StockCode, dtype: int64"
      ]
     },
     "execution_count": 64,
     "metadata": {},
     "output_type": "execute_result"
    }
   ],
   "source": [
    "actual_df['StockCode'].value_counts()"
   ]
  },
  {
   "cell_type": "code",
   "execution_count": 65,
   "id": "ea9dbd4c",
   "metadata": {},
   "outputs": [
    {
     "data": {
      "text/html": [
       "<div>\n",
       "<style scoped>\n",
       "    .dataframe tbody tr th:only-of-type {\n",
       "        vertical-align: middle;\n",
       "    }\n",
       "\n",
       "    .dataframe tbody tr th {\n",
       "        vertical-align: top;\n",
       "    }\n",
       "\n",
       "    .dataframe thead th {\n",
       "        text-align: right;\n",
       "    }\n",
       "</style>\n",
       "<table border=\"1\" class=\"dataframe\">\n",
       "  <thead>\n",
       "    <tr style=\"text-align: right;\">\n",
       "      <th></th>\n",
       "      <th>StockCode</th>\n",
       "      <th>Quantity</th>\n",
       "    </tr>\n",
       "    <tr>\n",
       "      <th>InvoiceDate</th>\n",
       "      <th></th>\n",
       "      <th></th>\n",
       "    </tr>\n",
       "  </thead>\n",
       "  <tbody>\n",
       "    <tr>\n",
       "      <th>2010-11-01</th>\n",
       "      <td>21232</td>\n",
       "      <td>0</td>\n",
       "    </tr>\n",
       "    <tr>\n",
       "      <th>2010-11-02</th>\n",
       "      <td>21232</td>\n",
       "      <td>60</td>\n",
       "    </tr>\n",
       "    <tr>\n",
       "      <th>2010-11-03</th>\n",
       "      <td>21232</td>\n",
       "      <td>130</td>\n",
       "    </tr>\n",
       "    <tr>\n",
       "      <th>2010-11-04</th>\n",
       "      <td>21232</td>\n",
       "      <td>255</td>\n",
       "    </tr>\n",
       "    <tr>\n",
       "      <th>2010-11-05</th>\n",
       "      <td>21232</td>\n",
       "      <td>24</td>\n",
       "    </tr>\n",
       "    <tr>\n",
       "      <th>2010-11-06</th>\n",
       "      <td>21232</td>\n",
       "      <td>0</td>\n",
       "    </tr>\n",
       "    <tr>\n",
       "      <th>2010-11-07</th>\n",
       "      <td>21232</td>\n",
       "      <td>29</td>\n",
       "    </tr>\n",
       "    <tr>\n",
       "      <th>2010-11-08</th>\n",
       "      <td>21232</td>\n",
       "      <td>34</td>\n",
       "    </tr>\n",
       "    <tr>\n",
       "      <th>2010-11-09</th>\n",
       "      <td>21232</td>\n",
       "      <td>262</td>\n",
       "    </tr>\n",
       "    <tr>\n",
       "      <th>2010-11-10</th>\n",
       "      <td>21232</td>\n",
       "      <td>482</td>\n",
       "    </tr>\n",
       "    <tr>\n",
       "      <th>2010-11-11</th>\n",
       "      <td>21232</td>\n",
       "      <td>34</td>\n",
       "    </tr>\n",
       "    <tr>\n",
       "      <th>2010-11-12</th>\n",
       "      <td>21232</td>\n",
       "      <td>96</td>\n",
       "    </tr>\n",
       "    <tr>\n",
       "      <th>2010-11-13</th>\n",
       "      <td>21232</td>\n",
       "      <td>0</td>\n",
       "    </tr>\n",
       "    <tr>\n",
       "      <th>2010-11-14</th>\n",
       "      <td>21232</td>\n",
       "      <td>20</td>\n",
       "    </tr>\n",
       "    <tr>\n",
       "      <th>2010-11-15</th>\n",
       "      <td>21232</td>\n",
       "      <td>8</td>\n",
       "    </tr>\n",
       "    <tr>\n",
       "      <th>2010-11-16</th>\n",
       "      <td>21232</td>\n",
       "      <td>40</td>\n",
       "    </tr>\n",
       "    <tr>\n",
       "      <th>2010-11-17</th>\n",
       "      <td>21232</td>\n",
       "      <td>141</td>\n",
       "    </tr>\n",
       "    <tr>\n",
       "      <th>2010-11-18</th>\n",
       "      <td>21232</td>\n",
       "      <td>36</td>\n",
       "    </tr>\n",
       "    <tr>\n",
       "      <th>2010-11-19</th>\n",
       "      <td>21232</td>\n",
       "      <td>70</td>\n",
       "    </tr>\n",
       "    <tr>\n",
       "      <th>2010-11-20</th>\n",
       "      <td>21232</td>\n",
       "      <td>0</td>\n",
       "    </tr>\n",
       "  </tbody>\n",
       "</table>\n",
       "</div>"
      ],
      "text/plain": [
       "             StockCode  Quantity\n",
       "InvoiceDate                     \n",
       "2010-11-01       21232         0\n",
       "2010-11-02       21232        60\n",
       "2010-11-03       21232       130\n",
       "2010-11-04       21232       255\n",
       "2010-11-05       21232        24\n",
       "2010-11-06       21232         0\n",
       "2010-11-07       21232        29\n",
       "2010-11-08       21232        34\n",
       "2010-11-09       21232       262\n",
       "2010-11-10       21232       482\n",
       "2010-11-11       21232        34\n",
       "2010-11-12       21232        96\n",
       "2010-11-13       21232         0\n",
       "2010-11-14       21232        20\n",
       "2010-11-15       21232         8\n",
       "2010-11-16       21232        40\n",
       "2010-11-17       21232       141\n",
       "2010-11-18       21232        36\n",
       "2010-11-19       21232        70\n",
       "2010-11-20       21232         0"
      ]
     },
     "execution_count": 65,
     "metadata": {},
     "output_type": "execute_result"
    }
   ],
   "source": [
    "actual_df.head(20)"
   ]
  },
  {
   "cell_type": "code",
   "execution_count": 66,
   "id": "8ed02c6c",
   "metadata": {},
   "outputs": [
    {
     "data": {
      "text/plain": [
       "<Axes: xlabel='InvoiceDate'>"
      ]
     },
     "execution_count": 66,
     "metadata": {},
     "output_type": "execute_result"
    },
    {
     "data": {
      "image/png": "[encoded data removed]",
      "text/plain": [
       "<Figure size 640x480 with 1 Axes>"
      ]
     },
     "metadata": {},
     "output_type": "display_data"
    }
   ],
   "source": [
    "actual_df.Quantity.plot()"
   ]
  },
  {
   "cell_type": "code",
   "execution_count": 67,
   "id": "5f0063c8",
   "metadata": {},
   "outputs": [
    {
     "data": {
      "text/html": [
       "<div>\n",
       "<style scoped>\n",
       "    .dataframe tbody tr th:only-of-type {\n",
       "        vertical-align: middle;\n",
       "    }\n",
       "\n",
       "    .dataframe tbody tr th {\n",
       "        vertical-align: top;\n",
       "    }\n",
       "\n",
       "    .dataframe thead th {\n",
       "        text-align: right;\n",
       "    }\n",
       "</style>\n",
       "<table border=\"1\" class=\"dataframe\">\n",
       "  <thead>\n",
       "    <tr style=\"text-align: right;\">\n",
       "      <th></th>\n",
       "      <th>Timestamp</th>\n",
       "      <th>Value</th>\n",
       "    </tr>\n",
       "  </thead>\n",
       "  <tbody>\n",
       "    <tr>\n",
       "      <th>0</th>\n",
       "      <td>2010-11-01T00:00:00</td>\n",
       "      <td>-11.522535</td>\n",
       "    </tr>\n",
       "    <tr>\n",
       "      <th>1</th>\n",
       "      <td>2010-11-02T00:00:00</td>\n",
       "      <td>28.454201</td>\n",
       "    </tr>\n",
       "    <tr>\n",
       "      <th>2</th>\n",
       "      <td>2010-11-03T00:00:00</td>\n",
       "      <td>0.640949</td>\n",
       "    </tr>\n",
       "    <tr>\n",
       "      <th>3</th>\n",
       "      <td>2010-11-04T00:00:00</td>\n",
       "      <td>22.949951</td>\n",
       "    </tr>\n",
       "    <tr>\n",
       "      <th>4</th>\n",
       "      <td>2010-11-05T00:00:00</td>\n",
       "      <td>12.803592</td>\n",
       "    </tr>\n",
       "  </tbody>\n",
       "</table>\n",
       "</div>"
      ],
      "text/plain": [
       "             Timestamp      Value\n",
       "0  2010-11-01T00:00:00 -11.522535\n",
       "1  2010-11-02T00:00:00  28.454201\n",
       "2  2010-11-03T00:00:00   0.640949\n",
       "3  2010-11-04T00:00:00  22.949951\n",
       "4  2010-11-05T00:00:00  12.803592"
      ]
     },
     "execution_count": 67,
     "metadata": {},
     "output_type": "execute_result"
    }
   ],
   "source": [
    "# Generate DF \n",
    "prediction_df_p10 = pd.DataFrame.from_dict(forecast_response['Forecast']['Predictions']['p10'])\n",
    "prediction_df_p10.head()"
   ]
  },
  {
   "cell_type": "code",
   "execution_count": 68,
   "id": "e39f2cf9",
   "metadata": {},
   "outputs": [
    {
     "data": {
      "text/plain": [
       "<Axes: >"
      ]
     },
     "execution_count": 68,
     "metadata": {},
     "output_type": "execute_result"
    },
    {
     "data": {
      "image/png": "[encoded data removed]",
      "text/plain": [
       "<Figure size 640x480 with 1 Axes>"
      ]
     },
     "metadata": {},
     "output_type": "display_data"
    }
   ],
   "source": [
    "# Plot\n",
    "prediction_df_p10.plot()"
   ]
  },
  {
   "cell_type": "markdown",
   "id": "3c5eff36",
   "metadata": {},
   "source": [
    "P10 Prediction"
   ]
  },
  {
   "cell_type": "code",
   "execution_count": 69,
   "id": "270e8f83",
   "metadata": {},
   "outputs": [
    {
     "data": {
      "text/plain": [
       "<Axes: >"
      ]
     },
     "execution_count": 69,
     "metadata": {},
     "output_type": "execute_result"
    },
    {
     "data": {
      "image/png": "[encoded data removed]",
      "text/plain": [
       "<Figure size 640x480 with 1 Axes>"
      ]
     },
     "metadata": {},
     "output_type": "display_data"
    }
   ],
   "source": [
    "prediction_df_p50 = pd.DataFrame.from_dict(forecast_response['Forecast']['Predictions']['p50'])\n",
    "prediction_df_p50.plot()"
   ]
  },
  {
   "cell_type": "markdown",
   "id": "e702a3b5",
   "metadata": {},
   "source": [
    "P50 Prediction"
   ]
  },
  {
   "cell_type": "code",
   "execution_count": 70,
   "id": "c3d68ff2",
   "metadata": {},
   "outputs": [
    {
     "data": {
      "text/plain": [
       "<Axes: >"
      ]
     },
     "execution_count": 70,
     "metadata": {},
     "output_type": "execute_result"
    },
    {
     "data": {
      "image/png": "[encoded data removed]",
      "text/plain": [
       "<Figure size 640x480 with 1 Axes>"
      ]
     },
     "metadata": {},
     "output_type": "display_data"
    }
   ],
   "source": [
    "prediction_df_p90 = pd.DataFrame.from_dict(forecast_response['Forecast']['Predictions']['p90'])\n",
    "prediction_df_p90.plot()"
   ]
  },
  {
   "cell_type": "markdown",
   "id": "eebfd936",
   "metadata": {},
   "source": [
    "P90 Prediction"
   ]
  },
  {
   "cell_type": "code",
   "execution_count": 71,
   "id": "22b8781f",
   "metadata": {},
   "outputs": [
    {
     "data": {
      "text/html": [
       "<div>\n",
       "<style scoped>\n",
       "    .dataframe tbody tr th:only-of-type {\n",
       "        vertical-align: middle;\n",
       "    }\n",
       "\n",
       "    .dataframe tbody tr th {\n",
       "        vertical-align: top;\n",
       "    }\n",
       "\n",
       "    .dataframe thead th {\n",
       "        text-align: right;\n",
       "    }\n",
       "</style>\n",
       "<table border=\"1\" class=\"dataframe\">\n",
       "  <thead>\n",
       "    <tr style=\"text-align: right;\">\n",
       "      <th></th>\n",
       "      <th>timestamp</th>\n",
       "      <th>value</th>\n",
       "      <th>Source</th>\n",
       "    </tr>\n",
       "  </thead>\n",
       "  <tbody>\n",
       "  </tbody>\n",
       "</table>\n",
       "</div>"
      ],
      "text/plain": [
       "Empty DataFrame\n",
       "Columns: [timestamp, value, Source]\n",
       "Index: []"
      ]
     },
     "execution_count": 71,
     "metadata": {},
     "output_type": "execute_result"
    }
   ],
   "source": [
    "# Start by creating a DataFrame to house the content. Here, Source will be which DataFrame it came from.\n",
    "results_df = pd.DataFrame(columns=['timestamp','value','Source'])\n",
    "\n",
    "results_df.head()"
   ]
  },
  {
   "cell_type": "code",
   "execution_count": 72,
   "id": "5eabe470",
   "metadata": {},
   "outputs": [],
   "source": [
    "import dateutil.parser\n",
    "for index, row in actual_df.iterrows():\n",
    "    #clean_timestamp = dateutil.parser.parse(index)\n",
    "    results_df = results_df.append({'timestamp' : index , 'value' : row['Quantity'], 'Source': 'Actual'} , ignore_index=True)"
   ]
  },
  {
   "cell_type": "code",
   "execution_count": 73,
   "id": "ddb93112",
   "metadata": {},
   "outputs": [
    {
     "data": {
      "text/html": [
       "<div>\n",
       "<style scoped>\n",
       "    .dataframe tbody tr th:only-of-type {\n",
       "        vertical-align: middle;\n",
       "    }\n",
       "\n",
       "    .dataframe tbody tr th {\n",
       "        vertical-align: top;\n",
       "    }\n",
       "\n",
       "    .dataframe thead th {\n",
       "        text-align: right;\n",
       "    }\n",
       "</style>\n",
       "<table border=\"1\" class=\"dataframe\">\n",
       "  <thead>\n",
       "    <tr style=\"text-align: right;\">\n",
       "      <th></th>\n",
       "      <th>timestamp</th>\n",
       "      <th>value</th>\n",
       "      <th>Source</th>\n",
       "    </tr>\n",
       "  </thead>\n",
       "  <tbody>\n",
       "    <tr>\n",
       "      <th>0</th>\n",
       "      <td>2010-11-01</td>\n",
       "      <td>0</td>\n",
       "      <td>Actual</td>\n",
       "    </tr>\n",
       "    <tr>\n",
       "      <th>1</th>\n",
       "      <td>2010-11-02</td>\n",
       "      <td>60</td>\n",
       "      <td>Actual</td>\n",
       "    </tr>\n",
       "    <tr>\n",
       "      <th>2</th>\n",
       "      <td>2010-11-03</td>\n",
       "      <td>130</td>\n",
       "      <td>Actual</td>\n",
       "    </tr>\n",
       "    <tr>\n",
       "      <th>3</th>\n",
       "      <td>2010-11-04</td>\n",
       "      <td>255</td>\n",
       "      <td>Actual</td>\n",
       "    </tr>\n",
       "    <tr>\n",
       "      <th>4</th>\n",
       "      <td>2010-11-05</td>\n",
       "      <td>24</td>\n",
       "      <td>Actual</td>\n",
       "    </tr>\n",
       "  </tbody>\n",
       "</table>\n",
       "</div>"
      ],
      "text/plain": [
       "   timestamp value  Source\n",
       "0 2010-11-01     0  Actual\n",
       "1 2010-11-02    60  Actual\n",
       "2 2010-11-03   130  Actual\n",
       "3 2010-11-04   255  Actual\n",
       "4 2010-11-05    24  Actual"
      ]
     },
     "execution_count": 73,
     "metadata": {},
     "output_type": "execute_result"
    }
   ],
   "source": [
    "# To show the new DataFrame\n",
    "results_df.head()"
   ]
  },
  {
   "cell_type": "code",
   "execution_count": 74,
   "id": "245b3487",
   "metadata": {},
   "outputs": [],
   "source": [
    "# Now add the P10, P50, and P90 Values\n",
    "for index, row in prediction_df_p10.iterrows():\n",
    "    clean_timestamp = dateutil.parser.parse(row['Timestamp'])\n",
    "    results_df = results_df.append({'timestamp' : clean_timestamp , 'value' : row['Value'], 'Source': 'p10'} , ignore_index=True)\n",
    "for index, row in prediction_df_p50.iterrows():\n",
    "    clean_timestamp = dateutil.parser.parse(row['Timestamp'])\n",
    "    results_df = results_df.append({'timestamp' : clean_timestamp , 'value' : row['Value'], 'Source': 'p50'} , ignore_index=True)\n",
    "for index, row in prediction_df_p90.iterrows():\n",
    "    clean_timestamp = dateutil.parser.parse(row['Timestamp'])\n",
    "    results_df = results_df.append({'timestamp' : clean_timestamp , 'value' : row['Value'], 'Source': 'p90'} , ignore_index=True)"
   ]
  },
  {
   "cell_type": "code",
   "execution_count": 75,
   "id": "eef4a012",
   "metadata": {},
   "outputs": [
    {
     "data": {
      "text/html": [
       "<div>\n",
       "<style scoped>\n",
       "    .dataframe tbody tr th:only-of-type {\n",
       "        vertical-align: middle;\n",
       "    }\n",
       "\n",
       "    .dataframe tbody tr th {\n",
       "        vertical-align: top;\n",
       "    }\n",
       "\n",
       "    .dataframe thead th {\n",
       "        text-align: right;\n",
       "    }\n",
       "</style>\n",
       "<table border=\"1\" class=\"dataframe\">\n",
       "  <thead>\n",
       "    <tr style=\"text-align: right;\">\n",
       "      <th>Source</th>\n",
       "      <th>Actual</th>\n",
       "      <th>p10</th>\n",
       "      <th>p50</th>\n",
       "      <th>p90</th>\n",
       "    </tr>\n",
       "    <tr>\n",
       "      <th>timestamp</th>\n",
       "      <th></th>\n",
       "      <th></th>\n",
       "      <th></th>\n",
       "      <th></th>\n",
       "    </tr>\n",
       "  </thead>\n",
       "  <tbody>\n",
       "    <tr>\n",
       "      <th>2010-11-01</th>\n",
       "      <td>0</td>\n",
       "      <td>-11.522535</td>\n",
       "      <td>-7.825202</td>\n",
       "      <td>-4.750973</td>\n",
       "    </tr>\n",
       "    <tr>\n",
       "      <th>2010-11-02</th>\n",
       "      <td>60</td>\n",
       "      <td>28.454201</td>\n",
       "      <td>42.283855</td>\n",
       "      <td>52.847042</td>\n",
       "    </tr>\n",
       "    <tr>\n",
       "      <th>2010-11-03</th>\n",
       "      <td>130</td>\n",
       "      <td>0.640949</td>\n",
       "      <td>19.936911</td>\n",
       "      <td>37.150909</td>\n",
       "    </tr>\n",
       "    <tr>\n",
       "      <th>2010-11-04</th>\n",
       "      <td>255</td>\n",
       "      <td>22.949951</td>\n",
       "      <td>35.927731</td>\n",
       "      <td>48.719147</td>\n",
       "    </tr>\n",
       "    <tr>\n",
       "      <th>2010-11-05</th>\n",
       "      <td>24</td>\n",
       "      <td>12.803592</td>\n",
       "      <td>23.886587</td>\n",
       "      <td>32.908997</td>\n",
       "    </tr>\n",
       "    <tr>\n",
       "      <th>2010-11-06</th>\n",
       "      <td>0</td>\n",
       "      <td>-9.707537</td>\n",
       "      <td>-0.44122</td>\n",
       "      <td>10.825764</td>\n",
       "    </tr>\n",
       "    <tr>\n",
       "      <th>2010-11-07</th>\n",
       "      <td>29</td>\n",
       "      <td>10.6903</td>\n",
       "      <td>36.679199</td>\n",
       "      <td>63.439381</td>\n",
       "    </tr>\n",
       "    <tr>\n",
       "      <th>2010-11-08</th>\n",
       "      <td>34</td>\n",
       "      <td>-2.036983</td>\n",
       "      <td>69.281113</td>\n",
       "      <td>139.589523</td>\n",
       "    </tr>\n",
       "    <tr>\n",
       "      <th>2010-11-09</th>\n",
       "      <td>262</td>\n",
       "      <td>0.60157</td>\n",
       "      <td>71.781738</td>\n",
       "      <td>148.525055</td>\n",
       "    </tr>\n",
       "    <tr>\n",
       "      <th>2010-11-10</th>\n",
       "      <td>482</td>\n",
       "      <td>-7.471272</td>\n",
       "      <td>49.580791</td>\n",
       "      <td>142.583038</td>\n",
       "    </tr>\n",
       "    <tr>\n",
       "      <th>2010-11-11</th>\n",
       "      <td>34</td>\n",
       "      <td>-24.83556</td>\n",
       "      <td>24.593248</td>\n",
       "      <td>88.389664</td>\n",
       "    </tr>\n",
       "    <tr>\n",
       "      <th>2010-11-12</th>\n",
       "      <td>96</td>\n",
       "      <td>-17.501717</td>\n",
       "      <td>31.57662</td>\n",
       "      <td>66.728088</td>\n",
       "    </tr>\n",
       "    <tr>\n",
       "      <th>2010-11-13</th>\n",
       "      <td>0</td>\n",
       "      <td>-30.119797</td>\n",
       "      <td>-14.126997</td>\n",
       "      <td>0.895485</td>\n",
       "    </tr>\n",
       "    <tr>\n",
       "      <th>2010-11-14</th>\n",
       "      <td>20</td>\n",
       "      <td>-2.46426</td>\n",
       "      <td>36.637619</td>\n",
       "      <td>90.307953</td>\n",
       "    </tr>\n",
       "    <tr>\n",
       "      <th>2010-11-15</th>\n",
       "      <td>8</td>\n",
       "      <td>28.218744</td>\n",
       "      <td>63.50946</td>\n",
       "      <td>175.519623</td>\n",
       "    </tr>\n",
       "    <tr>\n",
       "      <th>2010-11-16</th>\n",
       "      <td>40</td>\n",
       "      <td>-47.3825</td>\n",
       "      <td>68.395561</td>\n",
       "      <td>222.234375</td>\n",
       "    </tr>\n",
       "    <tr>\n",
       "      <th>2010-11-17</th>\n",
       "      <td>141</td>\n",
       "      <td>-32.152744</td>\n",
       "      <td>37.393738</td>\n",
       "      <td>93.500023</td>\n",
       "    </tr>\n",
       "    <tr>\n",
       "      <th>2010-11-18</th>\n",
       "      <td>36</td>\n",
       "      <td>15.86447</td>\n",
       "      <td>37.222031</td>\n",
       "      <td>71.335739</td>\n",
       "    </tr>\n",
       "    <tr>\n",
       "      <th>2010-11-19</th>\n",
       "      <td>70</td>\n",
       "      <td>14.430343</td>\n",
       "      <td>26.226425</td>\n",
       "      <td>48.633919</td>\n",
       "    </tr>\n",
       "    <tr>\n",
       "      <th>2010-11-20</th>\n",
       "      <td>0</td>\n",
       "      <td>-8.041461</td>\n",
       "      <td>2.702861</td>\n",
       "      <td>30.949175</td>\n",
       "    </tr>\n",
       "    <tr>\n",
       "      <th>2010-11-21</th>\n",
       "      <td>34</td>\n",
       "      <td>12.983555</td>\n",
       "      <td>37.992786</td>\n",
       "      <td>68.788651</td>\n",
       "    </tr>\n",
       "    <tr>\n",
       "      <th>2010-11-22</th>\n",
       "      <td>44</td>\n",
       "      <td>21.770945</td>\n",
       "      <td>39.249336</td>\n",
       "      <td>64.649269</td>\n",
       "    </tr>\n",
       "    <tr>\n",
       "      <th>2010-11-23</th>\n",
       "      <td>80</td>\n",
       "      <td>21.711014</td>\n",
       "      <td>70.492798</td>\n",
       "      <td>142.370834</td>\n",
       "    </tr>\n",
       "    <tr>\n",
       "      <th>2010-11-24</th>\n",
       "      <td>42</td>\n",
       "      <td>5.607876</td>\n",
       "      <td>46.230358</td>\n",
       "      <td>93.399017</td>\n",
       "    </tr>\n",
       "    <tr>\n",
       "      <th>2010-11-25</th>\n",
       "      <td>212</td>\n",
       "      <td>14.643957</td>\n",
       "      <td>32.325615</td>\n",
       "      <td>70.557213</td>\n",
       "    </tr>\n",
       "    <tr>\n",
       "      <th>2010-11-26</th>\n",
       "      <td>76</td>\n",
       "      <td>9.558303</td>\n",
       "      <td>23.550568</td>\n",
       "      <td>58.906075</td>\n",
       "    </tr>\n",
       "    <tr>\n",
       "      <th>2010-11-27</th>\n",
       "      <td>0</td>\n",
       "      <td>-4.488002</td>\n",
       "      <td>7.346994</td>\n",
       "      <td>28.036549</td>\n",
       "    </tr>\n",
       "    <tr>\n",
       "      <th>2010-11-28</th>\n",
       "      <td>27</td>\n",
       "      <td>16.669582</td>\n",
       "      <td>44.54147</td>\n",
       "      <td>85.419495</td>\n",
       "    </tr>\n",
       "    <tr>\n",
       "      <th>2010-11-29</th>\n",
       "      <td>39</td>\n",
       "      <td>9.803969</td>\n",
       "      <td>41.439816</td>\n",
       "      <td>90.481834</td>\n",
       "    </tr>\n",
       "    <tr>\n",
       "      <th>2010-11-30</th>\n",
       "      <td>100</td>\n",
       "      <td>59.981339</td>\n",
       "      <td>83.342613</td>\n",
       "      <td>106.89283</td>\n",
       "    </tr>\n",
       "    <tr>\n",
       "      <th>2010-12-01</th>\n",
       "      <td>540</td>\n",
       "      <td>NaN</td>\n",
       "      <td>NaN</td>\n",
       "      <td>NaN</td>\n",
       "    </tr>\n",
       "    <tr>\n",
       "      <th>2010-12-02</th>\n",
       "      <td>44</td>\n",
       "      <td>NaN</td>\n",
       "      <td>NaN</td>\n",
       "      <td>NaN</td>\n",
       "    </tr>\n",
       "    <tr>\n",
       "      <th>2010-12-03</th>\n",
       "      <td>36</td>\n",
       "      <td>NaN</td>\n",
       "      <td>NaN</td>\n",
       "      <td>NaN</td>\n",
       "    </tr>\n",
       "    <tr>\n",
       "      <th>2010-12-04</th>\n",
       "      <td>0</td>\n",
       "      <td>NaN</td>\n",
       "      <td>NaN</td>\n",
       "      <td>NaN</td>\n",
       "    </tr>\n",
       "    <tr>\n",
       "      <th>2010-12-05</th>\n",
       "      <td>4</td>\n",
       "      <td>NaN</td>\n",
       "      <td>NaN</td>\n",
       "      <td>NaN</td>\n",
       "    </tr>\n",
       "    <tr>\n",
       "      <th>2010-12-06</th>\n",
       "      <td>12</td>\n",
       "      <td>NaN</td>\n",
       "      <td>NaN</td>\n",
       "      <td>NaN</td>\n",
       "    </tr>\n",
       "    <tr>\n",
       "      <th>2010-12-07</th>\n",
       "      <td>28</td>\n",
       "      <td>NaN</td>\n",
       "      <td>NaN</td>\n",
       "      <td>NaN</td>\n",
       "    </tr>\n",
       "    <tr>\n",
       "      <th>2010-12-08</th>\n",
       "      <td>61</td>\n",
       "      <td>NaN</td>\n",
       "      <td>NaN</td>\n",
       "      <td>NaN</td>\n",
       "    </tr>\n",
       "    <tr>\n",
       "      <th>2010-12-09</th>\n",
       "      <td>-144</td>\n",
       "      <td>NaN</td>\n",
       "      <td>NaN</td>\n",
       "      <td>NaN</td>\n",
       "    </tr>\n",
       "  </tbody>\n",
       "</table>\n",
       "</div>"
      ],
      "text/plain": [
       "Source     Actual        p10        p50         p90\n",
       "timestamp                                          \n",
       "2010-11-01      0 -11.522535  -7.825202   -4.750973\n",
       "2010-11-02     60  28.454201  42.283855   52.847042\n",
       "2010-11-03    130   0.640949  19.936911   37.150909\n",
       "2010-11-04    255  22.949951  35.927731   48.719147\n",
       "2010-11-05     24  12.803592  23.886587   32.908997\n",
       "2010-11-06      0  -9.707537   -0.44122   10.825764\n",
       "2010-11-07     29    10.6903  36.679199   63.439381\n",
       "2010-11-08     34  -2.036983  69.281113  139.589523\n",
       "2010-11-09    262    0.60157  71.781738  148.525055\n",
       "2010-11-10    482  -7.471272  49.580791  142.583038\n",
       "2010-11-11     34  -24.83556  24.593248   88.389664\n",
       "2010-11-12     96 -17.501717   31.57662   66.728088\n",
       "2010-11-13      0 -30.119797 -14.126997    0.895485\n",
       "2010-11-14     20   -2.46426  36.637619   90.307953\n",
       "2010-11-15      8  28.218744   63.50946  175.519623\n",
       "2010-11-16     40   -47.3825  68.395561  222.234375\n",
       "2010-11-17    141 -32.152744  37.393738   93.500023\n",
       "2010-11-18     36   15.86447  37.222031   71.335739\n",
       "2010-11-19     70  14.430343  26.226425   48.633919\n",
       "2010-11-20      0  -8.041461   2.702861   30.949175\n",
       "2010-11-21     34  12.983555  37.992786   68.788651\n",
       "2010-11-22     44  21.770945  39.249336   64.649269\n",
       "2010-11-23     80  21.711014  70.492798  142.370834\n",
       "2010-11-24     42   5.607876  46.230358   93.399017\n",
       "2010-11-25    212  14.643957  32.325615   70.557213\n",
       "2010-11-26     76   9.558303  23.550568   58.906075\n",
       "2010-11-27      0  -4.488002   7.346994   28.036549\n",
       "2010-11-28     27  16.669582   44.54147   85.419495\n",
       "2010-11-29     39   9.803969  41.439816   90.481834\n",
       "2010-11-30    100  59.981339  83.342613   106.89283\n",
       "2010-12-01    540        NaN        NaN         NaN\n",
       "2010-12-02     44        NaN        NaN         NaN\n",
       "2010-12-03     36        NaN        NaN         NaN\n",
       "2010-12-04      0        NaN        NaN         NaN\n",
       "2010-12-05      4        NaN        NaN         NaN\n",
       "2010-12-06     12        NaN        NaN         NaN\n",
       "2010-12-07     28        NaN        NaN         NaN\n",
       "2010-12-08     61        NaN        NaN         NaN\n",
       "2010-12-09   -144        NaN        NaN         NaN"
      ]
     },
     "execution_count": 75,
     "metadata": {},
     "output_type": "execute_result"
    }
   ],
   "source": [
    "pivot_df = results_df.pivot(columns='Source', values='value', index=\"timestamp\")\n",
    "pivot_df"
   ]
  },
  {
   "cell_type": "code",
   "execution_count": 76,
   "id": "1eba762f",
   "metadata": {},
   "outputs": [
    {
     "data": {
      "text/plain": [
       "<Axes: xlabel='timestamp'>"
      ]
     },
     "execution_count": 76,
     "metadata": {},
     "output_type": "execute_result"
    },
    {
     "data": {
      "image/png": "[encoded data removed]",
      "text/plain": [
       "<Figure size 2000x1000 with 1 Axes>"
      ]
     },
     "metadata": {},
     "output_type": "display_data"
    }
   ],
   "source": [
    "pivot_df.plot(figsize=(20,10))"
   ]
  },
  {
   "cell_type": "markdown",
   "id": "e6dc002f",
   "metadata": {},
   "source": [
    "Prediction comparison between actual, P10, P50, and P90"
   ]
  },
  {
   "cell_type": "code",
   "execution_count": 77,
   "id": "89094352",
   "metadata": {},
   "outputs": [],
   "source": [
    "# End & Cleaning"
   ]
  },
  {
   "cell_type": "code",
   "execution_count": 137,
   "id": "2ce2734d",
   "metadata": {},
   "outputs": [],
   "source": [
    "%store -r"
   ]
  },
  {
   "cell_type": "code",
   "execution_count": 138,
   "id": "dda18cb5",
   "metadata": {},
   "outputs": [
    {
     "name": "stdout",
     "output_type": "stream",
     "text": [
      "arn:aws:forecast:us-east-1:730335490427:forecast/lab_4_deeparp_algo_forecast\n"
     ]
    }
   ],
   "source": [
    "print(forecast_arn)"
   ]
  },
  {
   "cell_type": "code",
   "execution_count": 139,
   "id": "b62f7e1e",
   "metadata": {},
   "outputs": [],
   "source": [
    "forecast.delete_forecast(ForecastArn=forecast_arn)\n",
    "time.sleep(60)"
   ]
  },
  {
   "cell_type": "code",
   "execution_count": 140,
   "id": "1344fbb0",
   "metadata": {},
   "outputs": [],
   "source": [
    "forecast.delete_predictor(PredictorArn=predictor_arn)\n",
    "time.sleep(60)"
   ]
  },
  {
   "cell_type": "code",
   "execution_count": 141,
   "id": "3b69024c",
   "metadata": {},
   "outputs": [
    {
     "data": {
      "text/plain": [
       "{'ResponseMetadata': {'RequestId': '06e2e569-8e98-4e12-b58f-63764a352c44',\n",
       "  'HTTPStatusCode': 200,\n",
       "  'HTTPHeaders': {'date': 'Mon, 26 Feb 2024 04:45:44 GMT',\n",
       "   'content-type': 'application/x-amz-json-1.1',\n",
       "   'content-length': '0',\n",
       "   'connection': 'keep-alive',\n",
       "   'x-amzn-requestid': '06e2e569-8e98-4e12-b58f-63764a352c44'},\n",
       "  'RetryAttempts': 0}}"
      ]
     },
     "execution_count": 141,
     "metadata": {},
     "output_type": "execute_result"
    }
   ],
   "source": [
    "forecast.delete_dataset_import_job(DatasetImportJobArn=ds_related_import_job_arn)"
   ]
  },
  {
   "cell_type": "code",
   "execution_count": 142,
   "id": "37c37b1c",
   "metadata": {},
   "outputs": [
    {
     "data": {
      "text/plain": [
       "{'ResponseMetadata': {'RequestId': '3bbafee4-d14b-4b4b-9c89-c79d8593cf3f',\n",
       "  'HTTPStatusCode': 200,\n",
       "  'HTTPHeaders': {'date': 'Mon, 26 Feb 2024 04:45:44 GMT',\n",
       "   'content-type': 'application/x-amz-json-1.1',\n",
       "   'content-length': '0',\n",
       "   'connection': 'keep-alive',\n",
       "   'x-amzn-requestid': '3bbafee4-d14b-4b4b-9c89-c79d8593cf3f'},\n",
       "  'RetryAttempts': 0}}"
      ]
     },
     "execution_count": 142,
     "metadata": {},
     "output_type": "execute_result"
    }
   ],
   "source": [
    "forecast.delete_dataset_import_job(DatasetImportJobArn=ds_import_job_arn)"
   ]
  },
  {
   "cell_type": "code",
   "execution_count": 143,
   "id": "d703c47d",
   "metadata": {},
   "outputs": [],
   "source": [
    "time.sleep(60)"
   ]
  },
  {
   "cell_type": "code",
   "execution_count": 144,
   "id": "396ce7f4",
   "metadata": {},
   "outputs": [
    {
     "data": {
      "text/plain": [
       "{'ResponseMetadata': {'RequestId': '5c39459d-bc4e-41c3-b705-cb033dc5c4f4',\n",
       "  'HTTPStatusCode': 200,\n",
       "  'HTTPHeaders': {'date': 'Mon, 26 Feb 2024 04:46:44 GMT',\n",
       "   'content-type': 'application/x-amz-json-1.1',\n",
       "   'content-length': '0',\n",
       "   'connection': 'keep-alive',\n",
       "   'x-amzn-requestid': '5c39459d-bc4e-41c3-b705-cb033dc5c4f4'},\n",
       "  'RetryAttempts': 0}}"
      ]
     },
     "execution_count": 144,
     "metadata": {},
     "output_type": "execute_result"
    }
   ],
   "source": [
    "forecast.delete_dataset(DatasetArn=related_dataset_arn)"
   ]
  },
  {
   "cell_type": "code",
   "execution_count": 145,
   "id": "4d94374c",
   "metadata": {},
   "outputs": [
    {
     "data": {
      "text/plain": [
       "{'ResponseMetadata': {'RequestId': '60e3fb0b-9a27-4f5b-9a61-dfcfb876e500',\n",
       "  'HTTPStatusCode': 200,\n",
       "  'HTTPHeaders': {'date': 'Mon, 26 Feb 2024 04:46:44 GMT',\n",
       "   'content-type': 'application/x-amz-json-1.1',\n",
       "   'content-length': '0',\n",
       "   'connection': 'keep-alive',\n",
       "   'x-amzn-requestid': '60e3fb0b-9a27-4f5b-9a61-dfcfb876e500'},\n",
       "  'RetryAttempts': 0}}"
      ]
     },
     "execution_count": 145,
     "metadata": {},
     "output_type": "execute_result"
    }
   ],
   "source": [
    "forecast.delete_dataset(DatasetArn=dataset_arn)"
   ]
  },
  {
   "cell_type": "code",
   "execution_count": 146,
   "id": "904521c4",
   "metadata": {},
   "outputs": [],
   "source": [
    "time.sleep(60)"
   ]
  },
  {
   "cell_type": "code",
   "execution_count": 147,
   "id": "3f175a0e",
   "metadata": {},
   "outputs": [
    {
     "data": {
      "text/plain": [
       "{'ResponseMetadata': {'RequestId': '14de079e-ff34-4f76-9f47-64000b2b6286',\n",
       "  'HTTPStatusCode': 200,\n",
       "  'HTTPHeaders': {'date': 'Mon, 26 Feb 2024 04:47:45 GMT',\n",
       "   'content-type': 'application/x-amz-json-1.1',\n",
       "   'content-length': '0',\n",
       "   'connection': 'keep-alive',\n",
       "   'x-amzn-requestid': '14de079e-ff34-4f76-9f47-64000b2b6286'},\n",
       "  'RetryAttempts': 0}}"
      ]
     },
     "execution_count": 147,
     "metadata": {},
     "output_type": "execute_result"
    }
   ],
   "source": [
    "forecast.delete_dataset_group(DatasetGroupArn=dataset_group_arn)"
   ]
  }
 ],
 "metadata": {
  "kernelspec": {
   "display_name": "conda_python3",
   "language": "python",
   "name": "conda_python3"
  },
  "language_info": {
   "codemirror_mode": {
    "name": "ipython",
    "version": 3
   },
   "file_extension": ".py",
   "mimetype": "text/x-python",
   "name": "python",
   "nbconvert_exporter": "python",
   "pygments_lexer": "ipython3",
   "version": "3.10.13"
  }
 },
 "nbformat": 4,
 "nbformat_minor": 5
}
